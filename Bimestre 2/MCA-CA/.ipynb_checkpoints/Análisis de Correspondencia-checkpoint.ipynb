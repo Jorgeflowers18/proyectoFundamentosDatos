{
 "cells": [
  {
   "cell_type": "markdown",
   "metadata": {},
   "source": [
    "# Simple Correspondence Analysis (CA) "
   ]
  },
  {
   "cell_type": "code",
   "execution_count": 22,
   "metadata": {},
   "outputs": [],
   "source": [
    "import pandas as pd\n",
    "import itertools\n",
    "\n",
    "import seaborn as sns; \n",
    "sns.set()\n",
    "import matplotlib.pyplot as plt\n",
    "%matplotlib inline"
   ]
  },
  {
   "cell_type": "markdown",
   "metadata": {},
   "source": [
    "## Case 1: Application chi^2 to health people:\n",
    "\n",
    "- Direct computation from a contingency table:"
   ]
  },
  {
   "cell_type": "code",
   "execution_count": 11,
   "metadata": {},
   "outputs": [],
   "source": [
    "import numpy as np\n",
    "from scipy.stats import chi2_contingency"
   ]
  },
  {
   "cell_type": "code",
   "execution_count": 14,
   "metadata": {},
   "outputs": [
    {
     "name": "stdout",
     "output_type": "stream",
     "text": [
      "Chi^2 value:  13.250634363715045\n",
      "Frecuencia esperada (f0): [[ 13.48760331 178.51239669]\n",
      " [ 20.51239669 271.48760331]]\n"
     ]
    }
   ],
   "source": [
    "d = np.array([[24,168], [10, 282]])  # absolute frecuency (contingency table)\n",
    "chi2 = chi2_contingency(d) \n",
    "\n",
    "print(\"Chi^2 value: \", chi2[0])\n",
    "print(\"Frecuencia esperada (f0):\", chi2[3])"
   ]
  },
  {
   "cell_type": "code",
   "execution_count": 16,
   "metadata": {},
   "outputs": [
    {
     "name": "stdout",
     "output_type": "stream",
     "text": [
      "Valor de p:  0.00027248764114626414\n",
      "Grados de libertad:  1\n"
     ]
    }
   ],
   "source": [
    "# otros estadísticos:\n",
    "print(\"Valor de p: \", chi2[1])\n",
    "print(\"Grados de libertad: \", chi2[2])"
   ]
  },
  {
   "cell_type": "markdown",
   "metadata": {},
   "source": [
    "## Case 2: Application for discovery authors of novels\n",
    "\n",
    "Source: https://github.com/elena-sharova/correspondence_analysis/blob/master/CorrespondenceAnalysis.ipynb\n",
    "\n",
    "\n",
    "- Descripción del dataset:\n",
    "\n",
    "Inspirado en cómo Donald Foster identificó a los autores de varias obras anónimas. La metodología de Foster examina un amplio espectro de características del texto, incluida la elección de palabras, puntuación, estructura gramatical y similares.\n",
    "\n",
    "El objetivo del ejercicio de este artículo es emular a Foster, aunque, de una manera simplicada utilizando el análisis de correspondencia.\n",
    "\n",
    "Si nos dan dos fragmentos de texto escritos por uno o dos de estos escritores, nuestro trabajo es identificar al verdadero autor(es). \n",
    "\n",
    "La única información que nos dan sobre un fragmento de texto es la frecuencia con la que aparecen ciertas letras en él.\n",
    "\n",
    "En consecuencia, he tomado tres muestras distintas de aproximadamente 1000 caracteres cada una de los escritos de cada uno de estos autores, y he sumado el número de veces que cada uno de los siguientes caracteres aparece en cada una de las muestras (restringirnos a menos del alfabeto completo evita la tablas en el resto de la discusión se vuelven difíciles de manejar; los personajes elegidos ocurren con una frecuencia media en todos los textos en su conjunto). "
   ]
  },
  {
   "cell_type": "code",
   "execution_count": 17,
   "metadata": {},
   "outputs": [],
   "source": [
    "# 5 autores de obras clásicas\n",
    "authors = [\"Charles Darwin\", \"Rene Descartes\",\"Thomas Hobbes\", \"Mary Shelley\", \"Mark Twain\"]\n",
    "\n",
    "#Letras asociadas a los autores:\n",
    "initials=['CD1','CD2','CD3','RD1','RD2','RD3','TB1','TB2','TB3','MS1','MS2','MS3','MT1','MT2','MT3']"
   ]
  },
  {
   "cell_type": "code",
   "execution_count": 18,
   "metadata": {},
   "outputs": [
    {
     "data": {
      "text/plain": [
       "[['Charles Darwin: 1', 'Charles Darwin: 2', 'Charles Darwin: 3'],\n",
       " ['Rene Descartes: 1', 'Rene Descartes: 2', 'Rene Descartes: 3'],\n",
       " ['Thomas Hobbes: 1', 'Thomas Hobbes: 2', 'Thomas Hobbes: 3'],\n",
       " ['Mary Shelley: 1', 'Mary Shelley: 2', 'Mary Shelley: 3'],\n",
       " ['Mark Twain: 1', 'Mark Twain: 2', 'Mark Twain: 3']]"
      ]
     },
     "execution_count": 18,
     "metadata": {},
     "output_type": "execute_result"
    }
   ],
   "source": [
    "# Preparar los datos hasta obtener una tabla de contingencia\n",
    "\n",
    "author_num = [[ a +\": \"+str(i) for i in [1,2,3]] for a in authors]\n",
    "author_num"
   ]
  },
  {
   "cell_type": "code",
   "execution_count": 19,
   "metadata": {},
   "outputs": [
    {
     "data": {
      "text/plain": [
       "['Charles Darwin: 1',\n",
       " 'Charles Darwin: 2',\n",
       " 'Charles Darwin: 3',\n",
       " 'Rene Descartes: 1',\n",
       " 'Rene Descartes: 2',\n",
       " 'Rene Descartes: 3',\n",
       " 'Thomas Hobbes: 1',\n",
       " 'Thomas Hobbes: 2',\n",
       " 'Thomas Hobbes: 3',\n",
       " 'Mary Shelley: 1',\n",
       " 'Mary Shelley: 2',\n",
       " 'Mary Shelley: 3',\n",
       " 'Mark Twain: 1',\n",
       " 'Mark Twain: 2',\n",
       " 'Mark Twain: 3']"
      ]
     },
     "execution_count": 19,
     "metadata": {},
     "output_type": "execute_result"
    }
   ],
   "source": [
    "# Crear una lista de autores y su número:\n",
    "authorSamples = list(itertools.chain.from_iterable(author_num))\n",
    "authorSamples"
   ]
  },
  {
   "cell_type": "code",
   "execution_count": 20,
   "metadata": {},
   "outputs": [],
   "source": [
    "# frecuencia con la que aparecen ciertas letras (16) en el fragmento a analizar.\n",
    "\n",
    "chars=[\"B\", \"C\", \"D\", \"F\", \"G\", \"H\", \"I\", \"L\", \"M\", \"N\",\"P\", \"R\", \"S\", \"U\", \"W\", \"Y\"]"
   ]
  },
  {
   "cell_type": "code",
   "execution_count": 24,
   "metadata": {},
   "outputs": [],
   "source": [
    "# La tabla de contingencia construida a partir de la frecuencia con la que aparecen las letras\n",
    "# en tres pasajes por autor es: \n",
    "\n",
    "sampleCrosstab=[[34, 37, 44, 27, 19, 39, 74, 44, 27, 61, 12, 65, 69,22, 14, 21],\n",
    "                [18, 33, 47, 24, 14, 38, 66, 41, 36,72, 15, 62, 63, 31, 12, 18],\n",
    "                [32, 43, 36, 12, 21, 51, 75, 33, 23, 60, 24, 68, 85,18, 13, 14],\n",
    "                [13, 31, 55, 29, 15, 62, 74, 43, 28,73, 8, 59, 54, 32, 19, 20],\n",
    "                [8, 28, 34, 24, 17, 68, 75, 34, 25, 70, 16, 56, 72,31, 14, 11], \n",
    "                [9, 34, 43, 25, 18, 68, 84, 25, 32, 76,14, 69, 64, 27, 11, 18],\n",
    "                [15, 20, 28, 18, 19, 65, 82, 34, 29, 89, 11, 47, 74,18, 22, 17], \n",
    "                [18, 14, 40, 25, 21, 60, 70, 15, 37,80, 15, 65, 68, 21, 25, 9],\n",
    "                [19, 18, 41, 26, 19, 58, 64, 18, 38, 78, 15, 65, 72,20, 20, 11], \n",
    "                [13, 29, 49, 31, 16, 61, 73, 36, 29,69, 13, 63, 58, 18, 20, 25],\n",
    "                [17, 34, 43, 29, 14, 62, 64, 26, 26, 71, 26, 78, 64, 21, 18, 12],\n",
    "                [13, 22, 43, 16, 11, 70, 68, 46, 35,57, 30, 71, 57, 19, 22, 20],\n",
    "                [16, 18, 56, 13, 27, 67, 61, 43, 20, 63, 14, 43, 67,34, 41, 23], \n",
    "                [15, 21, 66, 21, 19, 50, 62, 50, 24, 68, 14, 40, 58, 31, 36, 26],\n",
    "                [19, 17, 70, 12, 28, 53, 72, 39, 22, 71, 11, 40, 67,25, 41, 17]]\n"
   ]
  },
  {
   "cell_type": "markdown",
   "metadata": {},
   "source": [
    "¿Podemos encontrar alguna diferencia en el uso de letras por autor utilizando la matriz de contingencia?\n",
    "Es casi imposible hacerlo con solo mirarlo. En cambio, CA recurre a la estadística chi^2. Cuanto mayor es chi^2, mayor es la certeza de que exista asociación entre un framento de texto y su autor."
   ]
  },
  {
   "cell_type": "code",
   "execution_count": 37,
   "metadata": {},
   "outputs": [
    {
     "data": {
      "text/html": [
       "<div>\n",
       "<style scoped>\n",
       "    .dataframe tbody tr th:only-of-type {\n",
       "        vertical-align: middle;\n",
       "    }\n",
       "\n",
       "    .dataframe tbody tr th {\n",
       "        vertical-align: top;\n",
       "    }\n",
       "\n",
       "    .dataframe thead th {\n",
       "        text-align: right;\n",
       "    }\n",
       "</style>\n",
       "<table border=\"1\" class=\"dataframe\">\n",
       "  <thead>\n",
       "    <tr style=\"text-align: right;\">\n",
       "      <th></th>\n",
       "      <th>Charles Darwin: 1</th>\n",
       "      <th>Charles Darwin: 2</th>\n",
       "      <th>Charles Darwin: 3</th>\n",
       "      <th>Rene Descartes: 1</th>\n",
       "      <th>Rene Descartes: 2</th>\n",
       "      <th>Rene Descartes: 3</th>\n",
       "      <th>Thomas Hobbes: 1</th>\n",
       "      <th>Thomas Hobbes: 2</th>\n",
       "      <th>Thomas Hobbes: 3</th>\n",
       "      <th>Mary Shelley: 1</th>\n",
       "      <th>Mary Shelley: 2</th>\n",
       "      <th>Mary Shelley: 3</th>\n",
       "      <th>Mark Twain: 1</th>\n",
       "      <th>Mark Twain: 2</th>\n",
       "      <th>Mark Twain: 3</th>\n",
       "    </tr>\n",
       "  </thead>\n",
       "  <tbody>\n",
       "    <tr>\n",
       "      <th>B</th>\n",
       "      <td>34</td>\n",
       "      <td>18</td>\n",
       "      <td>32</td>\n",
       "      <td>13</td>\n",
       "      <td>8</td>\n",
       "      <td>9</td>\n",
       "      <td>15</td>\n",
       "      <td>18</td>\n",
       "      <td>19</td>\n",
       "      <td>13</td>\n",
       "      <td>17</td>\n",
       "      <td>13</td>\n",
       "      <td>16</td>\n",
       "      <td>15</td>\n",
       "      <td>19</td>\n",
       "    </tr>\n",
       "    <tr>\n",
       "      <th>C</th>\n",
       "      <td>37</td>\n",
       "      <td>33</td>\n",
       "      <td>43</td>\n",
       "      <td>31</td>\n",
       "      <td>28</td>\n",
       "      <td>34</td>\n",
       "      <td>20</td>\n",
       "      <td>14</td>\n",
       "      <td>18</td>\n",
       "      <td>29</td>\n",
       "      <td>34</td>\n",
       "      <td>22</td>\n",
       "      <td>18</td>\n",
       "      <td>21</td>\n",
       "      <td>17</td>\n",
       "    </tr>\n",
       "    <tr>\n",
       "      <th>D</th>\n",
       "      <td>44</td>\n",
       "      <td>47</td>\n",
       "      <td>36</td>\n",
       "      <td>55</td>\n",
       "      <td>34</td>\n",
       "      <td>43</td>\n",
       "      <td>28</td>\n",
       "      <td>40</td>\n",
       "      <td>41</td>\n",
       "      <td>49</td>\n",
       "      <td>43</td>\n",
       "      <td>43</td>\n",
       "      <td>56</td>\n",
       "      <td>66</td>\n",
       "      <td>70</td>\n",
       "    </tr>\n",
       "    <tr>\n",
       "      <th>F</th>\n",
       "      <td>27</td>\n",
       "      <td>24</td>\n",
       "      <td>12</td>\n",
       "      <td>29</td>\n",
       "      <td>24</td>\n",
       "      <td>25</td>\n",
       "      <td>18</td>\n",
       "      <td>25</td>\n",
       "      <td>26</td>\n",
       "      <td>31</td>\n",
       "      <td>29</td>\n",
       "      <td>16</td>\n",
       "      <td>13</td>\n",
       "      <td>21</td>\n",
       "      <td>12</td>\n",
       "    </tr>\n",
       "    <tr>\n",
       "      <th>G</th>\n",
       "      <td>19</td>\n",
       "      <td>14</td>\n",
       "      <td>21</td>\n",
       "      <td>15</td>\n",
       "      <td>17</td>\n",
       "      <td>18</td>\n",
       "      <td>19</td>\n",
       "      <td>21</td>\n",
       "      <td>19</td>\n",
       "      <td>16</td>\n",
       "      <td>14</td>\n",
       "      <td>11</td>\n",
       "      <td>27</td>\n",
       "      <td>19</td>\n",
       "      <td>28</td>\n",
       "    </tr>\n",
       "  </tbody>\n",
       "</table>\n",
       "</div>"
      ],
      "text/plain": [
       "   Charles Darwin: 1  Charles Darwin: 2  Charles Darwin: 3  Rene Descartes: 1  \\\n",
       "B                 34                 18                 32                 13   \n",
       "C                 37                 33                 43                 31   \n",
       "D                 44                 47                 36                 55   \n",
       "F                 27                 24                 12                 29   \n",
       "G                 19                 14                 21                 15   \n",
       "\n",
       "   Rene Descartes: 2  Rene Descartes: 3  Thomas Hobbes: 1  Thomas Hobbes: 2  \\\n",
       "B                  8                  9                15                18   \n",
       "C                 28                 34                20                14   \n",
       "D                 34                 43                28                40   \n",
       "F                 24                 25                18                25   \n",
       "G                 17                 18                19                21   \n",
       "\n",
       "   Thomas Hobbes: 3  Mary Shelley: 1  Mary Shelley: 2  Mary Shelley: 3  \\\n",
       "B                19               13               17               13   \n",
       "C                18               29               34               22   \n",
       "D                41               49               43               43   \n",
       "F                26               31               29               16   \n",
       "G                19               16               14               11   \n",
       "\n",
       "   Mark Twain: 1  Mark Twain: 2  Mark Twain: 3  \n",
       "B             16             15             19  \n",
       "C             18             21             17  \n",
       "D             56             66             70  \n",
       "F             13             21             12  \n",
       "G             27             19             28  "
      ]
     },
     "execution_count": 37,
     "metadata": {},
     "output_type": "execute_result"
    }
   ],
   "source": [
    "# Crear tabla de contingencia:\n",
    "\n",
    "dfTableForm = pd.DataFrame(data=np.transpose(sampleCrosstab), columns=authorSamples)\n",
    "dfTableForm.index = chars\n",
    "dfTableForm.head()"
   ]
  },
  {
   "cell_type": "markdown",
   "metadata": {},
   "source": [
    "## Calcular Chi-Squared\n",
    "\n",
    "La prueba chi^2 (independencia de Pearson) se puede utilizar para decir con certeza razonable si la distribución de las letras difiere de un autor a otro. "
   ]
  },
  {
   "cell_type": "code",
   "execution_count": 38,
   "metadata": {},
   "outputs": [
    {
     "name": "stdout",
     "output_type": "stream",
     "text": [
      "448.49666422103445\n"
     ]
    }
   ],
   "source": [
    "# Quick check - compare to scipy Chi-Squared test\n",
    "x2, prob, dof, fe = chi2_contingency(sampleCrosstab)\n",
    "print(x2)\n"
   ]
  },
  {
   "cell_type": "markdown",
   "metadata": {},
   "source": [
    "Al ser chi^2 = 448,50 se detecta que es muy poco probable que las frecuencias de las letras siguen la misma distribución (hipótesis nula), es decir, existen diferencias por autor.\n"
   ]
  },
  {
   "cell_type": "markdown",
   "metadata": {},
   "source": [
    "## Calcular CA utilizando la librería prince\n",
    "\n",
    "\n",
    "Una vez establecido chi^2, podemos continuar con la CA, ya que ahora sabemos que debería poder mostrarnos algunas asociaciones significativas. \n",
    "\n",
    "### Prince library:\n",
    "\n",
    "Library: pip3 install  prince\n",
    "Documentation: https://awesomeopensource.com/project/MaxHalford/prince\n",
    "\n"
   ]
  },
  {
   "cell_type": "code",
   "execution_count": 46,
   "metadata": {},
   "outputs": [],
   "source": [
    "import prince\n",
    "ca = prince.CA(\n",
    "    n_components=2,\n",
    "    n_iter=5,\n",
    "    copy=True,\n",
    "    check_input=True,\n",
    "    engine='auto',\n",
    "    random_state=123\n",
    "    )\n",
    "\n",
    "ca = ca.fit(dfTableForm)"
   ]
  },
  {
   "cell_type": "code",
   "execution_count": 47,
   "metadata": {},
   "outputs": [
    {
     "data": {
      "text/html": [
       "<div>\n",
       "<style scoped>\n",
       "    .dataframe tbody tr th:only-of-type {\n",
       "        vertical-align: middle;\n",
       "    }\n",
       "\n",
       "    .dataframe tbody tr th {\n",
       "        vertical-align: top;\n",
       "    }\n",
       "\n",
       "    .dataframe thead th {\n",
       "        text-align: right;\n",
       "    }\n",
       "</style>\n",
       "<table border=\"1\" class=\"dataframe\">\n",
       "  <thead>\n",
       "    <tr style=\"text-align: right;\">\n",
       "      <th></th>\n",
       "      <th>0</th>\n",
       "      <th>1</th>\n",
       "    </tr>\n",
       "  </thead>\n",
       "  <tbody>\n",
       "    <tr>\n",
       "      <th>B</th>\n",
       "      <td>-0.067801</td>\n",
       "      <td>0.251874</td>\n",
       "    </tr>\n",
       "    <tr>\n",
       "      <th>C</th>\n",
       "      <td>-0.186781</td>\n",
       "      <td>0.206641</td>\n",
       "    </tr>\n",
       "    <tr>\n",
       "      <th>D</th>\n",
       "      <td>0.189076</td>\n",
       "      <td>0.045753</td>\n",
       "    </tr>\n",
       "    <tr>\n",
       "      <th>F</th>\n",
       "      <td>-0.132993</td>\n",
       "      <td>-0.046796</td>\n",
       "    </tr>\n",
       "    <tr>\n",
       "      <th>G</th>\n",
       "      <td>0.142068</td>\n",
       "      <td>-0.028568</td>\n",
       "    </tr>\n",
       "    <tr>\n",
       "      <th>H</th>\n",
       "      <td>-0.004141</td>\n",
       "      <td>-0.123746</td>\n",
       "    </tr>\n",
       "    <tr>\n",
       "      <th>I</th>\n",
       "      <td>-0.037227</td>\n",
       "      <td>-0.017651</td>\n",
       "    </tr>\n",
       "    <tr>\n",
       "      <th>L</th>\n",
       "      <td>0.150109</td>\n",
       "      <td>0.174766</td>\n",
       "    </tr>\n",
       "    <tr>\n",
       "      <th>M</th>\n",
       "      <td>-0.101342</td>\n",
       "      <td>-0.086505</td>\n",
       "    </tr>\n",
       "    <tr>\n",
       "      <th>N</th>\n",
       "      <td>-0.014181</td>\n",
       "      <td>-0.090968</td>\n",
       "    </tr>\n",
       "    <tr>\n",
       "      <th>P</th>\n",
       "      <td>-0.150976</td>\n",
       "      <td>0.035464</td>\n",
       "    </tr>\n",
       "    <tr>\n",
       "      <th>R</th>\n",
       "      <td>-0.171644</td>\n",
       "      <td>0.001241</td>\n",
       "    </tr>\n",
       "    <tr>\n",
       "      <th>S</th>\n",
       "      <td>-0.038028</td>\n",
       "      <td>-0.005906</td>\n",
       "    </tr>\n",
       "    <tr>\n",
       "      <th>U</th>\n",
       "      <td>0.112350</td>\n",
       "      <td>0.010519</td>\n",
       "    </tr>\n",
       "    <tr>\n",
       "      <th>W</th>\n",
       "      <td>0.404166</td>\n",
       "      <td>-0.087685</td>\n",
       "    </tr>\n",
       "    <tr>\n",
       "      <th>Y</th>\n",
       "      <td>0.155766</td>\n",
       "      <td>0.127140</td>\n",
       "    </tr>\n",
       "  </tbody>\n",
       "</table>\n",
       "</div>"
      ],
      "text/plain": [
       "          0         1\n",
       "B -0.067801  0.251874\n",
       "C -0.186781  0.206641\n",
       "D  0.189076  0.045753\n",
       "F -0.132993 -0.046796\n",
       "G  0.142068 -0.028568\n",
       "H -0.004141 -0.123746\n",
       "I -0.037227 -0.017651\n",
       "L  0.150109  0.174766\n",
       "M -0.101342 -0.086505\n",
       "N -0.014181 -0.090968\n",
       "P -0.150976  0.035464\n",
       "R -0.171644  0.001241\n",
       "S -0.038028 -0.005906\n",
       "U  0.112350  0.010519\n",
       "W  0.404166 -0.087685\n",
       "Y  0.155766  0.127140"
      ]
     },
     "execution_count": 47,
     "metadata": {},
     "output_type": "execute_result"
    }
   ],
   "source": [
    "ca.row_coordinates(dfTableForm)  # letras"
   ]
  },
  {
   "cell_type": "code",
   "execution_count": 48,
   "metadata": {},
   "outputs": [
    {
     "data": {
      "text/html": [
       "<div>\n",
       "<style scoped>\n",
       "    .dataframe tbody tr th:only-of-type {\n",
       "        vertical-align: middle;\n",
       "    }\n",
       "\n",
       "    .dataframe tbody tr th {\n",
       "        vertical-align: top;\n",
       "    }\n",
       "\n",
       "    .dataframe thead th {\n",
       "        text-align: right;\n",
       "    }\n",
       "</style>\n",
       "<table border=\"1\" class=\"dataframe\">\n",
       "  <thead>\n",
       "    <tr style=\"text-align: right;\">\n",
       "      <th></th>\n",
       "      <th>0</th>\n",
       "      <th>1</th>\n",
       "    </tr>\n",
       "  </thead>\n",
       "  <tbody>\n",
       "    <tr>\n",
       "      <th>Charles Darwin: 1</th>\n",
       "      <td>-0.070977</td>\n",
       "      <td>0.200620</td>\n",
       "    </tr>\n",
       "    <tr>\n",
       "      <th>Charles Darwin: 2</th>\n",
       "      <td>-0.062109</td>\n",
       "      <td>0.094512</td>\n",
       "    </tr>\n",
       "    <tr>\n",
       "      <th>Charles Darwin: 3</th>\n",
       "      <td>-0.148509</td>\n",
       "      <td>0.158889</td>\n",
       "    </tr>\n",
       "    <tr>\n",
       "      <th>Rene Descartes: 1</th>\n",
       "      <td>0.030697</td>\n",
       "      <td>0.019028</td>\n",
       "    </tr>\n",
       "    <tr>\n",
       "      <th>Rene Descartes: 2</th>\n",
       "      <td>-0.069552</td>\n",
       "      <td>-0.068382</td>\n",
       "    </tr>\n",
       "    <tr>\n",
       "      <th>Rene Descartes: 3</th>\n",
       "      <td>-0.115119</td>\n",
       "      <td>-0.063805</td>\n",
       "    </tr>\n",
       "    <tr>\n",
       "      <th>Thomas Hobbes: 1</th>\n",
       "      <td>-0.006890</td>\n",
       "      <td>-0.103594</td>\n",
       "    </tr>\n",
       "    <tr>\n",
       "      <th>Thomas Hobbes: 2</th>\n",
       "      <td>-0.053382</td>\n",
       "      <td>-0.170423</td>\n",
       "    </tr>\n",
       "    <tr>\n",
       "      <th>Thomas Hobbes: 3</th>\n",
       "      <td>-0.083822</td>\n",
       "      <td>-0.121758</td>\n",
       "    </tr>\n",
       "    <tr>\n",
       "      <th>Mary Shelley: 1</th>\n",
       "      <td>-0.016408</td>\n",
       "      <td>0.001383</td>\n",
       "    </tr>\n",
       "    <tr>\n",
       "      <th>Mary Shelley: 2</th>\n",
       "      <td>-0.143838</td>\n",
       "      <td>-0.010875</td>\n",
       "    </tr>\n",
       "    <tr>\n",
       "      <th>Mary Shelley: 3</th>\n",
       "      <td>-0.029819</td>\n",
       "      <td>0.005454</td>\n",
       "    </tr>\n",
       "    <tr>\n",
       "      <th>Mark Twain: 1</th>\n",
       "      <td>0.256214</td>\n",
       "      <td>-0.009194</td>\n",
       "    </tr>\n",
       "    <tr>\n",
       "      <th>Mark Twain: 2</th>\n",
       "      <td>0.243356</td>\n",
       "      <td>0.059730</td>\n",
       "    </tr>\n",
       "    <tr>\n",
       "      <th>Mark Twain: 3</th>\n",
       "      <td>0.265072</td>\n",
       "      <td>-0.006179</td>\n",
       "    </tr>\n",
       "  </tbody>\n",
       "</table>\n",
       "</div>"
      ],
      "text/plain": [
       "                          0         1\n",
       "Charles Darwin: 1 -0.070977  0.200620\n",
       "Charles Darwin: 2 -0.062109  0.094512\n",
       "Charles Darwin: 3 -0.148509  0.158889\n",
       "Rene Descartes: 1  0.030697  0.019028\n",
       "Rene Descartes: 2 -0.069552 -0.068382\n",
       "Rene Descartes: 3 -0.115119 -0.063805\n",
       "Thomas Hobbes: 1  -0.006890 -0.103594\n",
       "Thomas Hobbes: 2  -0.053382 -0.170423\n",
       "Thomas Hobbes: 3  -0.083822 -0.121758\n",
       "Mary Shelley: 1   -0.016408  0.001383\n",
       "Mary Shelley: 2   -0.143838 -0.010875\n",
       "Mary Shelley: 3   -0.029819  0.005454\n",
       "Mark Twain: 1      0.256214 -0.009194\n",
       "Mark Twain: 2      0.243356  0.059730\n",
       "Mark Twain: 3      0.265072 -0.006179"
      ]
     },
     "execution_count": 48,
     "metadata": {},
     "output_type": "execute_result"
    }
   ],
   "source": [
    "ca.column_coordinates(dfTableForm) # autores"
   ]
  },
  {
   "cell_type": "code",
   "execution_count": 49,
   "metadata": {},
   "outputs": [
    {
     "data": {
      "image/png": "[encoded data removed]",
      "text/plain": [
       "<Figure size 1008x720 with 1 Axes>"
      ]
     },
     "metadata": {
      "needs_background": "light"
     },
     "output_type": "display_data"
    }
   ],
   "source": [
    "# Visualizar\n",
    "ax = ca.plot_coordinates(\n",
    "    X=dfTableForm,\n",
    "    ax=None,\n",
    "    figsize=(14, 10),\n",
    "    x_component=0,\n",
    "    y_component=1,\n",
    "    show_row_labels=True,\n",
    "    show_col_labels=True\n",
    ")"
   ]
  },
  {
   "cell_type": "code",
   "execution_count": 50,
   "metadata": {},
   "outputs": [
    {
     "name": "stdout",
     "output_type": "stream",
     "text": [
      "[0.018582834059844556, 0.009425336229149444]\n",
      "----------------------------------------\n",
      "0.049866206829112136\n",
      "----------------------------------------\n",
      "[0.3726538520069629, 0.1890124962070884]\n"
     ]
    }
   ],
   "source": [
    "# Al igual que para el PCA, se puede acceder a la contribución de inercia de cada componente principal,\n",
    "# así como a los valores propios y la inercia total. \n",
    "\n",
    "print(ca.eigenvalues_)\n",
    "print(40*'-')\n",
    "print(ca.total_inertia_)\n",
    "print(40*'-')\n",
    "print(ca.explained_inertia_)"
   ]
  },
  {
   "cell_type": "markdown",
   "metadata": {},
   "source": [
    "# Multiple Correspondence analysis \n",
    "\n",
    "## Application on adult+stretch Dataset\n",
    "\n",
    "Code source: https://www.it-swarm-es.com/es/python-3.x/usando-el-paquete-mca-en-python/836313120/\n",
    "Code source: https://github.com/MaxHalford/prince\n",
    "Data source: https://archive.ics.uci.edu/ml/datasets/balloons\n",
    "\n",
    "\n",
    "\n",
    "### Description of the dataset: balloon\n",
    "\n",
    "\n",
    "- adult-stretch.data Inflated is true if age=adult or act=stretch. experimento de psicología cognitiva.\n",
    "\n",
    "\n",
    "(Classes Inflated T or F)\n",
    "\n",
    "- Color: yellow, purple\n",
    "- size: large, small\n",
    "- act: stretch, dip\n",
    "- age: adult, child\n",
    "- inflated: T, F"
   ]
  },
  {
   "cell_type": "code",
   "execution_count": 74,
   "metadata": {},
   "outputs": [
    {
     "name": "stdout",
     "output_type": "stream",
     "text": [
      "    Color   Size   Action    Age Inflated\n",
      "0  YELLOW  SMALL  STRETCH  ADULT        T\n",
      "1  YELLOW  SMALL  STRETCH  CHILD        F\n",
      "2  YELLOW  SMALL      DIP  ADULT        F\n",
      "3  YELLOW  SMALL      DIP  CHILD        F\n",
      "4  YELLOW  LARGE  STRETCH  ADULT        T\n"
     ]
    },
    {
     "data": {
      "text/plain": [
       "MCA()"
      ]
     },
     "execution_count": 74,
     "metadata": {},
     "output_type": "execute_result"
    }
   ],
   "source": [
    "# Primero construimos dataframe.\n",
    "\n",
    "import pandas as pd \n",
    "\n",
    "X = pd.read_csv('data/adult+stretch.data')\n",
    "X.columns = ['Color', 'Size', 'Action', 'Age', 'Inflated']\n",
    "\n",
    "print(X.head())\n",
    "\n",
    "mca = prince.MCA(); mca"
   ]
  },
  {
   "cell_type": "code",
   "execution_count": 78,
   "metadata": {},
   "outputs": [],
   "source": [
    "# Llamar al método fit.\n",
    "\n",
    "# The MCA also implements the fit\n",
    "\n",
    "import prince\n",
    "mca = prince.MCA(\n",
    "    n_components=2,\n",
    "    n_iter=3,\n",
    "    copy=True,\n",
    "    check_input=True,\n",
    "    engine='auto',\n",
    "    random_state=42\n",
    "    )\n",
    "mca = mca.fit(X)\n",
    "\n"
   ]
  },
  {
   "cell_type": "code",
   "execution_count": 76,
   "metadata": {},
   "outputs": [
    {
     "data": {
      "image/png": "[encoded data removed]",
      "text/plain": [
       "<Figure size 432x432 with 1 Axes>"
      ]
     },
     "metadata": {
      "needs_background": "light"
     },
     "output_type": "display_data"
    }
   ],
   "source": [
    "# imprimir el diagrama de la imagen\n",
    "\n",
    "ax = mca.plot_coordinates(\n",
    "     X=X,\n",
    "     ax=None,\n",
    "     figsize=(6, 6),\n",
    "     show_row_points=True,\n",
    "     row_points_size=10,\n",
    "     show_row_labels=False,\n",
    "     show_column_points=True,\n",
    "     column_points_size=30,\n",
    "     show_column_labels=False,\n",
    "     legend_n_cols=1\n",
    "     )\n",
    "\n",
    "ax.get_figure().savefig('mca_coordinates.svg')\n"
   ]
  },
  {
   "cell_type": "code",
   "execution_count": 77,
   "metadata": {},
   "outputs": [
    {
     "name": "stdout",
     "output_type": "stream",
     "text": [
      "[0.4016565656013384, 0.2111111111111114]\n",
      "----------------------------------------\n",
      "1.0\n",
      "----------------------------------------\n",
      "[0.4016565656013384, 0.2111111111111114]\n"
     ]
    }
   ],
   "source": [
    "# Contribución de inercia de cada componente principal:\n",
    "\n",
    "print(mca.eigenvalues_)\n",
    "print(40*'-')\n",
    "print(mca.total_inertia_)\n",
    "print(40*'-')\n",
    "print(mca.explained_inertia_)"
   ]
  },
  {
   "cell_type": "markdown",
   "metadata": {},
   "source": [
    "## MCA sobre datos de restaurant"
   ]
  },
  {
   "cell_type": "code",
   "execution_count": 87,
   "metadata": {},
   "outputs": [
    {
     "data": {
      "text/html": [
       "<div>\n",
       "<style scoped>\n",
       "    .dataframe tbody tr th:only-of-type {\n",
       "        vertical-align: middle;\n",
       "    }\n",
       "\n",
       "    .dataframe tbody tr th {\n",
       "        vertical-align: top;\n",
       "    }\n",
       "\n",
       "    .dataframe thead th {\n",
       "        text-align: right;\n",
       "    }\n",
       "</style>\n",
       "<table border=\"1\" class=\"dataframe\">\n",
       "  <thead>\n",
       "    <tr style=\"text-align: right;\">\n",
       "      <th></th>\n",
       "      <th>sex</th>\n",
       "      <th>smoker</th>\n",
       "      <th>day</th>\n",
       "      <th>time</th>\n",
       "    </tr>\n",
       "  </thead>\n",
       "  <tbody>\n",
       "    <tr>\n",
       "      <th>0</th>\n",
       "      <td>Female</td>\n",
       "      <td>No</td>\n",
       "      <td>Sun</td>\n",
       "      <td>Dinner</td>\n",
       "    </tr>\n",
       "    <tr>\n",
       "      <th>1</th>\n",
       "      <td>Male</td>\n",
       "      <td>No</td>\n",
       "      <td>Sun</td>\n",
       "      <td>Dinner</td>\n",
       "    </tr>\n",
       "    <tr>\n",
       "      <th>2</th>\n",
       "      <td>Male</td>\n",
       "      <td>No</td>\n",
       "      <td>Sun</td>\n",
       "      <td>Dinner</td>\n",
       "    </tr>\n",
       "    <tr>\n",
       "      <th>3</th>\n",
       "      <td>Male</td>\n",
       "      <td>No</td>\n",
       "      <td>Sun</td>\n",
       "      <td>Dinner</td>\n",
       "    </tr>\n",
       "    <tr>\n",
       "      <th>4</th>\n",
       "      <td>Female</td>\n",
       "      <td>No</td>\n",
       "      <td>Sun</td>\n",
       "      <td>Dinner</td>\n",
       "    </tr>\n",
       "    <tr>\n",
       "      <th>...</th>\n",
       "      <td>...</td>\n",
       "      <td>...</td>\n",
       "      <td>...</td>\n",
       "      <td>...</td>\n",
       "    </tr>\n",
       "    <tr>\n",
       "      <th>239</th>\n",
       "      <td>Male</td>\n",
       "      <td>No</td>\n",
       "      <td>Sat</td>\n",
       "      <td>Dinner</td>\n",
       "    </tr>\n",
       "    <tr>\n",
       "      <th>240</th>\n",
       "      <td>Female</td>\n",
       "      <td>Yes</td>\n",
       "      <td>Sat</td>\n",
       "      <td>Dinner</td>\n",
       "    </tr>\n",
       "    <tr>\n",
       "      <th>241</th>\n",
       "      <td>Male</td>\n",
       "      <td>Yes</td>\n",
       "      <td>Sat</td>\n",
       "      <td>Dinner</td>\n",
       "    </tr>\n",
       "    <tr>\n",
       "      <th>242</th>\n",
       "      <td>Male</td>\n",
       "      <td>No</td>\n",
       "      <td>Sat</td>\n",
       "      <td>Dinner</td>\n",
       "    </tr>\n",
       "    <tr>\n",
       "      <th>243</th>\n",
       "      <td>Female</td>\n",
       "      <td>No</td>\n",
       "      <td>Thur</td>\n",
       "      <td>Dinner</td>\n",
       "    </tr>\n",
       "  </tbody>\n",
       "</table>\n",
       "<p>244 rows × 4 columns</p>\n",
       "</div>"
      ],
      "text/plain": [
       "        sex smoker   day    time\n",
       "0    Female     No   Sun  Dinner\n",
       "1      Male     No   Sun  Dinner\n",
       "2      Male     No   Sun  Dinner\n",
       "3      Male     No   Sun  Dinner\n",
       "4    Female     No   Sun  Dinner\n",
       "..      ...    ...   ...     ...\n",
       "239    Male     No   Sat  Dinner\n",
       "240  Female    Yes   Sat  Dinner\n",
       "241    Male    Yes   Sat  Dinner\n",
       "242    Male     No   Sat  Dinner\n",
       "243  Female     No  Thur  Dinner\n",
       "\n",
       "[244 rows x 4 columns]"
      ]
     },
     "execution_count": 87,
     "metadata": {},
     "output_type": "execute_result"
    }
   ],
   "source": [
    "import seaborn as sns\n",
    "import numpy as np\n",
    "import pandas as pd\n",
    "import matplotlib.pyplot as plt\n",
    "\n",
    "from termcolor import colored  # Formatear salida, instalar\n",
    "\n",
    "tips_df = sns.load_dataset('tips')\n",
    "tips_df.head()\n",
    "\n",
    "tips_cat = tips_df.drop(['total_bill', 'tip', 'size'], axis=1); tips_cat"
   ]
  },
  {
   "cell_type": "code",
   "execution_count": null,
   "metadata": {},
   "outputs": [],
   "source": []
  }
 ],
 "metadata": {
  "kernelspec": {
   "display_name": "Python 3",
   "language": "python",
   "name": "python3"
  },
  "language_info": {
   "codemirror_mode": {
    "name": "ipython",
    "version": 3
   },
   "file_extension": ".py",
   "mimetype": "text/x-python",
   "name": "python",
   "nbconvert_exporter": "python",
   "pygments_lexer": "ipython3",
   "version": "3.9.4"
  }
 },
 "nbformat": 4,
 "nbformat_minor": 4
}
