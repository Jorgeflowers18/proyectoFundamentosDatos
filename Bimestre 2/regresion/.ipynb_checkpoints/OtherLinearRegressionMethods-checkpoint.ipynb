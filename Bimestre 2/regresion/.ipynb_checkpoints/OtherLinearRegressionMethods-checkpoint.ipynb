{
 "cells": [
  {
   "cell_type": "markdown",
   "metadata": {},
   "source": [
    "# Regresión Lineal\n"
   ]
  },
  {
   "cell_type": "code",
   "execution_count": 1,
   "metadata": {},
   "outputs": [],
   "source": [
    "import numpy as np\n",
    "import pandas as pd\n",
    "import matplotlib.pyplot as plt \n",
    "# importamos el cálculo del error cuadrático medio (MSE)\n",
    "from sklearn.metrics import mean_squared_error\n",
    "\n",
    "%matplotlib inline \n"
   ]
  },
  {
   "cell_type": "markdown",
   "metadata": {},
   "source": [
    "## Métodos de Regresión Lineal.  Aplicado a un conjunto de datos de sklearn: The Boston Dataset\n",
    "\n",
    "- Source: https://medium.com/qu4nt/el-machine-learning-y-la-regresión-python-c94db2968a4e\n",
    "\n",
    "\n",
    "- Para ver la descripción del dataset ir a https://towardsdatascience.com/machine-learning-project-predicting-boston-house-prices-with-regression-b4e47493633d\n",
    "\n",
    "The features can be summarized as follows:\n",
    "\n",
    "- CRIM: This is the per capita crime rate by town\n",
    "- ZN: This is the proportion of residential land zoned for lots larger than 25,000 sq.ft.\n",
    "- INDUS: This is the proportion of non-retail business acres per town.\n",
    "- CHAS: This is the Charles River dummy variable (this is equal to 1 if tract bounds river; 0 otherwise)\n",
    "- NOX: This is the nitric oxides concentration (parts per 10 million)\n",
    "- RM: This is the average number of rooms per dwelling\n",
    "- AGE: This is the proportion of owner-occupied units built prior to 1940\n",
    "- DIS: This is the weighted distances to five Boston employment centers\n",
    "- RAD: This is the index of accessibility to radial highways\n",
    "- TAX: This is the full-value property-tax rate per 10000\n",
    "- PTRATIO: This is the pupil-teacher ratio by town\n",
    "- B: This is calculated as 1000(Bk — 0.63)², where Bk is the proportion of people of African American descent - by town\n",
    "- LSTAT: This is the percentage lower status of the population\n",
    "- MEDV: This is the median value of owner-occupied homes in $1000s"
   ]
  },
  {
   "cell_type": "markdown",
   "metadata": {},
   "source": [
    "### a. Carga del dataset: Boston houses prices"
   ]
  },
  {
   "cell_type": "code",
   "execution_count": 2,
   "metadata": {},
   "outputs": [
    {
     "name": "stdout",
     "output_type": "stream",
     "text": [
      "(506, 13)\n"
     ]
    },
    {
     "data": {
      "text/plain": [
       "array(['CRIM', 'ZN', 'INDUS', 'CHAS', 'NOX', 'RM', 'AGE', 'DIS', 'RAD',\n",
       "       'TAX', 'PTRATIO', 'B', 'LSTAT'], dtype='<U7')"
      ]
     },
     "execution_count": 2,
     "metadata": {},
     "output_type": "execute_result"
    }
   ],
   "source": [
    "from sklearn.datasets import load_boston \n",
    "boston = load_boston()\n",
    "print(boston.data.shape)  # 506 observaciones y 13 variables\n",
    "\n",
    "# variables independientes\n",
    "x = boston.data #data\n",
    "\n",
    "# variable dependiente o resultado:\n",
    "y = boston.target \n",
    "\n",
    "# nombres de variables \n",
    "features = boston.feature_names ; features"
   ]
  },
  {
   "cell_type": "markdown",
   "metadata": {},
   "source": [
    "### c. Preparar los dos conjuntos de datos: entrenamiento y prueba:"
   ]
  },
  {
   "cell_type": "code",
   "execution_count": 3,
   "metadata": {},
   "outputs": [
    {
     "name": "stdout",
     "output_type": "stream",
     "text": [
      "(404, 13) (102, 13)\n"
     ]
    }
   ],
   "source": [
    "\n",
    "# Doc: https://scikit-learn.org/stable/modules/generated/sklearn.model_selection.train_test_split.html\n",
    "from sklearn.model_selection import train_test_split as tts\n",
    "\n",
    "# 80% de las observaciones quedan para el conjunto de entrenamiento y 20% para el conjunto de prueba:\n",
    "\n",
    "x_ent, x_test, y_ent, y_test = tts(x, y, train_size=0.8, random_state=42, shuffle=True)\n",
    "\n",
    "print(x_ent.shape, x_test.shape)"
   ]
  },
  {
   "cell_type": "code",
   "execution_count": 4,
   "metadata": {},
   "outputs": [
    {
     "data": {
      "text/plain": [
       "LinearRegression()"
      ]
     },
     "execution_count": 4,
     "metadata": {},
     "output_type": "execute_result"
    }
   ],
   "source": [
    "# Método simple:\n",
    "from sklearn.linear_model import LinearRegression #Regresión Lineal con scikit-learn\n",
    "\n",
    "lm = LinearRegression()\n",
    "lm.fit(x_ent, y_ent)"
   ]
  },
  {
   "cell_type": "code",
   "execution_count": 5,
   "metadata": {},
   "outputs": [
    {
     "name": "stdout",
     "output_type": "stream",
     "text": [
      "a = 30.246750993923925 y  B = [-1.13055924e-01  3.01104641e-02  4.03807204e-02  2.78443820e+00\n",
      " -1.72026334e+01  4.43883520e+00 -6.29636221e-03 -1.44786537e+00\n",
      "  2.62429736e-01 -1.06467863e-02 -9.15456240e-01  1.23513347e-02\n",
      " -5.08571424e-01]\n"
     ]
    }
   ],
   "source": [
    "# Coeficientes de la función de regresión:\n",
    "print('a = ' + str(lm.intercept_) , 'y  B = ' + str(lm.coef_) )\n",
    "\n",
    "# Utilizar el modelo para generar las predicciones:\n",
    "\n",
    "y_predict = lm.predict(x_test) # valores predichos\n"
   ]
  },
  {
   "cell_type": "code",
   "execution_count": 6,
   "metadata": {},
   "outputs": [
    {
     "data": {
      "text/plain": [
       "0.6687594935356307"
      ]
     },
     "execution_count": 6,
     "metadata": {},
     "output_type": "execute_result"
    }
   ],
   "source": [
    "# Verificar el R^2 (sobre el conjunto de test):\n",
    "\n",
    "lm.score(x_test, y_test )  # con 1 aprendió muy bien."
   ]
  },
  {
   "cell_type": "code",
   "execution_count": 7,
   "metadata": {},
   "outputs": [
    {
     "name": "stdout",
     "output_type": "stream",
     "text": [
      "Error Cuadrático Medio (MSE) = 24.291119474973616\n",
      "Raíz del Error Cuadrático Medio (RMSE) = 4.9286021826653466\n"
     ]
    }
   ],
   "source": [
    "# Calculamos el Error Cuadrático Medio (MSE = Mean Squared Error)\n",
    "mse = mean_squared_error(y_true = y_test, y_pred = y_predict)\n",
    "\n",
    "# La raíz cuadrada del MSE es el RMSE\n",
    "rmse = np.sqrt(mse)\n",
    "print('Error Cuadrático Medio (MSE) = ' + str(mse))\n",
    "print('Raíz del Error Cuadrático Medio (RMSE) = ' + str(rmse))"
   ]
  },
  {
   "cell_type": "markdown",
   "metadata": {},
   "source": [
    "# Aplicación de Mínimos cuadrados ordinarios (OLS)\n",
    "\n",
    "\n",
    "Ver https://www.cienciadedatos.net/documentos/py10-regresion-lineal-python.html"
   ]
  },
  {
   "cell_type": "code",
   "execution_count": 9,
   "metadata": {},
   "outputs": [
    {
     "name": "stdout",
     "output_type": "stream",
     "text": [
      "                                 OLS Regression Results                                \n",
      "=======================================================================================\n",
      "Dep. Variable:                      y   R-squared (uncentered):                   0.962\n",
      "Model:                            OLS   Adj. R-squared (uncentered):              0.960\n",
      "Method:                 Least Squares   F-statistic:                              755.7\n",
      "Date:                Tue, 06 Jul 2021   Prob (F-statistic):                   1.13e-267\n",
      "Time:                        20:45:55   Log-Likelihood:                         -1208.5\n",
      "No. Observations:                 404   AIC:                                      2443.\n",
      "Df Residuals:                     391   BIC:                                      2495.\n",
      "Df Model:                          13                                                  \n",
      "Covariance Type:            nonrobust                                                  \n",
      "==============================================================================\n",
      "                 coef    std err          t      P>|t|      [0.025      0.975]\n",
      "------------------------------------------------------------------------------\n",
      "x1            -0.1005      0.036     -2.799      0.005      -0.171      -0.030\n",
      "x2             0.0342      0.017      2.068      0.039       0.002       0.067\n",
      "x3             0.0336      0.070      0.482      0.630      -0.103       0.171\n",
      "x4             2.7397      0.989      2.771      0.006       0.796       4.683\n",
      "x5            -5.1551      3.706     -1.391      0.165     -12.440       2.130\n",
      "x6             6.1960      0.338     18.352      0.000       5.532       6.860\n",
      "x7            -0.0111      0.015     -0.737      0.462      -0.041       0.018\n",
      "x8            -1.0200      0.218     -4.669      0.000      -1.450      -0.591\n",
      "x9             0.1388      0.075      1.855      0.064      -0.008       0.286\n",
      "x10           -0.0078      0.004     -1.790      0.074      -0.016       0.001\n",
      "x11           -0.4541      0.119     -3.815      0.000      -0.688      -0.220\n",
      "x12            0.0168      0.003      5.728      0.000       0.011       0.023\n",
      "x13           -0.4259      0.055     -7.699      0.000      -0.535      -0.317\n",
      "==============================================================================\n",
      "Omnibus:                      154.481   Durbin-Watson:                   2.089\n",
      "Prob(Omnibus):                  0.000   Jarque-Bera (JB):             1082.869\n",
      "Skew:                           1.452   Prob(JB):                    7.21e-236\n",
      "Kurtosis:                      10.477   Cond. No.                     8.46e+03\n",
      "==============================================================================\n",
      "\n",
      "Warnings:\n",
      "[1] Standard Errors assume that the covariance matrix of the errors is correctly specified.\n",
      "[2] The condition number is large, 8.46e+03. This might indicate that there are\n",
      "strong multicollinearity or other numerical problems.\n",
      "Parameters:  [-0.10047235  0.03417569  0.033571    2.73965227 -5.15511967  6.19597333\n",
      " -0.01108091 -1.020035    0.13881847 -0.00779673 -0.45408744  0.0168434\n",
      " -0.42589164]\n",
      "R2:  0.9617236309197847\n"
     ]
    }
   ],
   "source": [
    "from __future__ import print_function\n",
    "import numpy as np\n",
    "import statsmodels.api as sm\n",
    "import matplotlib.pyplot as plt\n",
    "from statsmodels.sandbox.regression.predstd import wls_prediction_std\n",
    "\n",
    "x_ent, x_test, y_ent, y_test = tts(x, y, train_size=0.8, random_state=42, shuffle=True)\n",
    "\n",
    "\n",
    "ols = sm.OLS(y_ent, x_ent)\n",
    "res_ols = ols.fit()\n",
    "print(res_ols.summary())\n",
    "\n",
    "print('Parameters: ', res_ols.params)\n",
    "print('R2: ', res_ols.rsquared)"
   ]
  },
  {
   "cell_type": "code",
   "execution_count": 10,
   "metadata": {},
   "outputs": [
    {
     "name": "stdout",
     "output_type": "stream",
     "text": [
      "Error Cuadrático Medio (MSE) = 29.04404335035876\n",
      "Raíz del Error Cuadrático Medio (RMSE) = 5.389252578081562\n",
      "****************************************\n",
      "R2:  0.9617236309197847\n"
     ]
    }
   ],
   "source": [
    "# Evaluación con el set test:\n",
    "# Utilizar el modelo para generar las predicciones:\n",
    "\n",
    "y_predictOLS = res_ols.predict(x_test)\n",
    "\n",
    "\n",
    "# Calculamos el Error Cuadrático Medio (MSE = Mean Squared Error)\n",
    "mse = mean_squared_error(y_true = y_test, y_pred = y_predictOLS)\n",
    "\n",
    "# La raíz cuadrada del MSE es el RMSE\n",
    "rmse = np.sqrt(mse)\n",
    "print('Error Cuadrático Medio (MSE) = ' + str(mse))\n",
    "print('Raíz del Error Cuadrático Medio (RMSE) = ' + str(rmse))\n",
    "print(40*'*')\n",
    "print('R2: ', res_ols.rsquared)"
   ]
  },
  {
   "cell_type": "markdown",
   "metadata": {},
   "source": [
    "# Mínimos cuadrados ponderados (WLS)"
   ]
  },
  {
   "cell_type": "code",
   "execution_count": 11,
   "metadata": {},
   "outputs": [
    {
     "name": "stdout",
     "output_type": "stream",
     "text": [
      "                                 WLS Regression Results                                \n",
      "=======================================================================================\n",
      "Dep. Variable:                      y   R-squared (uncentered):                   0.960\n",
      "Model:                            WLS   Adj. R-squared (uncentered):              0.959\n",
      "Method:                 Least Squares   F-statistic:                              723.0\n",
      "Date:                Tue, 06 Jul 2021   Prob (F-statistic):                   4.54e-264\n",
      "Time:                        20:46:03   Log-Likelihood:                         -1305.9\n",
      "No. Observations:                 404   AIC:                                      2638.\n",
      "Df Residuals:                     391   BIC:                                      2690.\n",
      "Df Model:                          13                                                  \n",
      "Covariance Type:            nonrobust                                                  \n",
      "==============================================================================\n",
      "                 coef    std err          t      P>|t|      [0.025      0.975]\n",
      "------------------------------------------------------------------------------\n",
      "x1            -0.1126      0.031     -3.609      0.000      -0.174      -0.051\n",
      "x2             0.0534      0.017      3.108      0.002       0.020       0.087\n",
      "x3             0.0136      0.069      0.198      0.843      -0.122       0.149\n",
      "x4             1.5358      1.017      1.511      0.132      -0.463       3.534\n",
      "x5            -4.1429      3.616     -1.146      0.253     -11.252       2.966\n",
      "x6             5.8580      0.341     17.201      0.000       5.188       6.528\n",
      "x7             0.0057      0.016      0.364      0.716      -0.025       0.037\n",
      "x8            -1.1364      0.225     -5.043      0.000      -1.579      -0.693\n",
      "x9             0.1975      0.076      2.607      0.009       0.049       0.346\n",
      "x10           -0.0108      0.004     -2.528      0.012      -0.019      -0.002\n",
      "x11           -0.3189      0.122     -2.610      0.009      -0.559      -0.079\n",
      "x12            0.0165      0.003      5.444      0.000       0.011       0.022\n",
      "x13           -0.4692      0.057     -8.283      0.000      -0.581      -0.358\n",
      "==============================================================================\n",
      "Omnibus:                      183.209   Durbin-Watson:                   2.060\n",
      "Prob(Omnibus):                  0.000   Jarque-Bera (JB):             2272.116\n",
      "Skew:                           1.582   Prob(JB):                         0.00\n",
      "Kurtosis:                      14.179   Cond. No.                     8.08e+03\n",
      "==============================================================================\n",
      "\n",
      "Warnings:\n",
      "[1] Standard Errors assume that the covariance matrix of the errors is correctly specified.\n",
      "[2] The condition number is large, 8.08e+03. This might indicate that there are\n",
      "strong multicollinearity or other numerical problems.\n"
     ]
    }
   ],
   "source": [
    "from scipy import stats\n",
    "from statsmodels.iolib.table import (SimpleTable, default_txt_fmt)\n",
    "\n",
    "\n",
    "nsample = len(x_ent)\n",
    "w = np.ones(nsample)\n",
    "w[nsample * 6//10:] = 3\n",
    "\n",
    "mod_wls = sm.WLS(y_ent, x_ent, weights=1./(w ** 2))\n",
    "res_wls = mod_wls.fit()\n",
    "print(res_wls.summary())"
   ]
  },
  {
   "cell_type": "code",
   "execution_count": 12,
   "metadata": {},
   "outputs": [
    {
     "name": "stdout",
     "output_type": "stream",
     "text": [
      "Error Cuadrático Medio (MSE) = 28.130418417633003\n",
      "Raíz del Error Cuadrático Medio (RMSE) = 5.30381168761043\n",
      "****************************************\n",
      "R2:  0.9600612476300967\n"
     ]
    }
   ],
   "source": [
    "# Evaluación con el set test:\n",
    "# Utilizar el modelo para generar las predicciones:\n",
    "\n",
    "y_predictWLS = res_wls.predict(x_test)\n",
    "\n",
    "\n",
    "# Calculamos el Error Cuadrático Medio (MSE = Mean Squared Error)\n",
    "mse = mean_squared_error(y_true = y_test, y_pred = y_predictWLS)\n",
    "\n",
    "# La raíz cuadrada del MSE es el RMSE\n",
    "rmse = np.sqrt(mse)\n",
    "print('Error Cuadrático Medio (MSE) = ' + str(mse))\n",
    "print('Raíz del Error Cuadrático Medio (RMSE) = ' + str(rmse))\n",
    "print(40*'*')\n",
    "print('R2: ', res_wls.rsquared)"
   ]
  },
  {
   "cell_type": "markdown",
   "metadata": {},
   "source": [
    "## Resumen de resultados:\n",
    "\n",
    "<table>\n",
    "    <tr>\n",
    "        <td>Modelo</td><td>R^2</td><td>RMSE</td>\n",
    "    </tr>\n",
    "    <tr>\n",
    "        <td>Lineal Múltiple</td><td>0.668</td><td>4.92</td>\n",
    "    </tr>\n",
    "    <tr>\n",
    "        <td>OLS</td><td>0.96</td><td>5.39</td>\n",
    "    </tr>\n",
    "    <tr>\n",
    "        <td>WLS</td><td>0.96</td><td>5.30</td>\n",
    "    </tr>\n",
    "</table>\n"
   ]
  },
  {
   "cell_type": "code",
   "execution_count": 13,
   "metadata": {},
   "outputs": [
    {
     "data": {
      "text/plain": [
       "<matplotlib.axes._subplots.AxesSubplot at 0x130932350>"
      ]
     },
     "execution_count": 13,
     "metadata": {},
     "output_type": "execute_result"
    },
    {
     "data": {
      "image/png": "[encoded data removed]",
      "text/plain": [
       "<Figure size 432x288 with 1 Axes>"
      ]
     },
     "metadata": {
      "needs_background": "light"
     },
     "output_type": "display_data"
    }
   ],
   "source": [
    "# Visualización valores reales vs predichos por el modelo de regresión:\n",
    "\n",
    "pd.Series(y_test.tolist()).plot(color='steelblue')\n",
    "pd.Series(y_predict.tolist()).plot(marker=\"o\", linewidth=0, color='black')\n",
    "pd.Series(y_predictOLS.tolist()).plot(marker=\"x\", linewidth=0, color='red')"
   ]
  },
  {
   "cell_type": "code",
   "execution_count": 14,
   "metadata": {},
   "outputs": [
    {
     "data": {
      "text/plain": [
       "<matplotlib.axes._subplots.AxesSubplot at 0x133ec9790>"
      ]
     },
     "execution_count": 14,
     "metadata": {},
     "output_type": "execute_result"
    },
    {
     "data": {
      "image/png": "[encoded data removed]",
      "text/plain": [
       "<Figure size 432x288 with 1 Axes>"
      ]
     },
     "metadata": {
      "needs_background": "light"
     },
     "output_type": "display_data"
    }
   ],
   "source": [
    "pd.Series(y_test.tolist()).plot(color='steelblue')\n",
    "pd.Series(y_predict.tolist()).plot(marker=\"o\", linewidth=0, color='black')\n",
    "pd.Series(y_predictWLS.tolist()).plot(marker=\"x\", linewidth=0, color='green')"
   ]
  },
  {
   "cell_type": "code",
   "execution_count": 15,
   "metadata": {},
   "outputs": [
    {
     "data": {
      "text/html": [
       "<div>\n",
       "<style scoped>\n",
       "    .dataframe tbody tr th:only-of-type {\n",
       "        vertical-align: middle;\n",
       "    }\n",
       "\n",
       "    .dataframe tbody tr th {\n",
       "        vertical-align: top;\n",
       "    }\n",
       "\n",
       "    .dataframe thead th {\n",
       "        text-align: right;\n",
       "    }\n",
       "</style>\n",
       "<table border=\"1\" class=\"dataframe\">\n",
       "  <thead>\n",
       "    <tr style=\"text-align: right;\">\n",
       "      <th></th>\n",
       "      <th>y_real</th>\n",
       "      <th>y_lm</th>\n",
       "      <th>y_ols</th>\n",
       "      <th>y_wls</th>\n",
       "    </tr>\n",
       "  </thead>\n",
       "  <tbody>\n",
       "    <tr>\n",
       "      <th>0</th>\n",
       "      <td>23.6</td>\n",
       "      <td>28.996724</td>\n",
       "      <td>27.279682</td>\n",
       "      <td>27.754247</td>\n",
       "    </tr>\n",
       "    <tr>\n",
       "      <th>1</th>\n",
       "      <td>32.4</td>\n",
       "      <td>36.025565</td>\n",
       "      <td>35.125103</td>\n",
       "      <td>34.355004</td>\n",
       "    </tr>\n",
       "    <tr>\n",
       "      <th>2</th>\n",
       "      <td>13.6</td>\n",
       "      <td>14.816944</td>\n",
       "      <td>16.610909</td>\n",
       "      <td>15.955263</td>\n",
       "    </tr>\n",
       "    <tr>\n",
       "      <th>3</th>\n",
       "      <td>22.8</td>\n",
       "      <td>25.031979</td>\n",
       "      <td>24.015668</td>\n",
       "      <td>23.205845</td>\n",
       "    </tr>\n",
       "    <tr>\n",
       "      <th>4</th>\n",
       "      <td>16.1</td>\n",
       "      <td>18.769880</td>\n",
       "      <td>20.101311</td>\n",
       "      <td>20.762353</td>\n",
       "    </tr>\n",
       "  </tbody>\n",
       "</table>\n",
       "</div>"
      ],
      "text/plain": [
       "   y_real       y_lm      y_ols      y_wls\n",
       "0    23.6  28.996724  27.279682  27.754247\n",
       "1    32.4  36.025565  35.125103  34.355004\n",
       "2    13.6  14.816944  16.610909  15.955263\n",
       "3    22.8  25.031979  24.015668  23.205845\n",
       "4    16.1  18.769880  20.101311  20.762353"
      ]
     },
     "execution_count": 15,
     "metadata": {},
     "output_type": "execute_result"
    }
   ],
   "source": [
    "# Presentar valor real, valor predicho 1 (LinearRegression), valor predicho 2 (modelo OLS), valor predicho 3 (modelo WLS)\n",
    "\n",
    "y_values = pd.DataFrame([y_test, y_predict, y_predictOLS, y_predictWLS]).transpose()\n",
    "y_values.columns = ['y_real','y_lm', 'y_ols', 'y_wls']\n",
    "y_values.head()"
   ]
  },
  {
   "cell_type": "code",
   "execution_count": 16,
   "metadata": {},
   "outputs": [
    {
     "data": {
      "text/html": [
       "<div>\n",
       "<style scoped>\n",
       "    .dataframe tbody tr th:only-of-type {\n",
       "        vertical-align: middle;\n",
       "    }\n",
       "\n",
       "    .dataframe tbody tr th {\n",
       "        vertical-align: top;\n",
       "    }\n",
       "\n",
       "    .dataframe thead th {\n",
       "        text-align: right;\n",
       "    }\n",
       "</style>\n",
       "<table border=\"1\" class=\"dataframe\">\n",
       "  <thead>\n",
       "    <tr style=\"text-align: right;\">\n",
       "      <th></th>\n",
       "      <th>CRIM</th>\n",
       "      <th>ZN</th>\n",
       "      <th>INDUS</th>\n",
       "      <th>CHAS</th>\n",
       "      <th>NOX</th>\n",
       "      <th>RM</th>\n",
       "      <th>AGE</th>\n",
       "      <th>DIS</th>\n",
       "      <th>RAD</th>\n",
       "      <th>TAX</th>\n",
       "      <th>PTRATIO</th>\n",
       "      <th>B</th>\n",
       "      <th>LSTAT</th>\n",
       "      <th>PRICE</th>\n",
       "    </tr>\n",
       "  </thead>\n",
       "  <tbody>\n",
       "    <tr>\n",
       "      <th>0</th>\n",
       "      <td>0.00632</td>\n",
       "      <td>18.0</td>\n",
       "      <td>2.31</td>\n",
       "      <td>0.0</td>\n",
       "      <td>0.538</td>\n",
       "      <td>6.575</td>\n",
       "      <td>65.2</td>\n",
       "      <td>4.09</td>\n",
       "      <td>1.0</td>\n",
       "      <td>296.0</td>\n",
       "      <td>15.3</td>\n",
       "      <td>396.9</td>\n",
       "      <td>4.98</td>\n",
       "      <td>24.0</td>\n",
       "    </tr>\n",
       "  </tbody>\n",
       "</table>\n",
       "</div>"
      ],
      "text/plain": [
       "      CRIM    ZN  INDUS  CHAS    NOX     RM   AGE   DIS  RAD    TAX  PTRATIO  \\\n",
       "0  0.00632  18.0   2.31   0.0  0.538  6.575  65.2  4.09  1.0  296.0     15.3   \n",
       "\n",
       "       B  LSTAT  PRICE  \n",
       "0  396.9   4.98   24.0  "
      ]
     },
     "execution_count": 16,
     "metadata": {},
     "output_type": "execute_result"
    }
   ],
   "source": [
    "data_DF = pd.DataFrame(x, )\n",
    "data_DF = pd.merge(data_DF, pd.DataFrame(y), right_index=True, left_index=True)\n",
    "\n",
    "\n",
    "data_DF.columns = ['CRIM', 'ZN', 'INDUS', 'CHAS', 'NOX', 'RM', 'AGE', 'DIS', 'RAD',\n",
    "       'TAX', 'PTRATIO', 'B', 'LSTAT', 'PRICE']\n",
    "data_DF.head(1)"
   ]
  },
  {
   "cell_type": "markdown",
   "metadata": {},
   "source": [
    "¿Cuál modelo predice mejor?"
   ]
  },
  {
   "cell_type": "code",
   "execution_count": 17,
   "metadata": {},
   "outputs": [
    {
     "name": "stdout",
     "output_type": "stream",
     "text": [
      "Modelo de regresión mínimos cuadrados:\n",
      "[29.95339638]\n",
      "[30.44182998]\n",
      "\n",
      "Modelo de regresión OLS:\n",
      "[29.21037919]\n",
      "[29.3206651]\n",
      "\n",
      "Modelo de regresión WLS:\n",
      "[29.51895981]\n",
      "[29.48837523]\n"
     ]
    }
   ],
   "source": [
    "new_obs1 = [0.00632, 18, 2.31, 0.0, 0.538, 6.575, 65.2, 4.09, 1.0, 296.0, 15.3, 396.9, 4.98]\n",
    "new_obs2 = [0.0063, 17.8, 2.29, 0.1, 0.535, 6.56, 65.1, 4.07, 1.0, 294.0, 15.1, 395.9, 4.96]\n",
    "\n",
    "print('Modelo de regresión mínimos cuadrados:')\n",
    "\n",
    "print(lm.predict([new_obs1]))\n",
    "print(lm.predict([new_obs2]))\n",
    "\n",
    "print('\\nModelo de regresión OLS:')\n",
    "print(res_ols.predict(new_obs1))\n",
    "print(res_wls.predict(new_obs1))\n",
    "\n",
    "print('\\nModelo de regresión WLS:')\n",
    "print(res_ols.predict(new_obs2))\n",
    "print(res_wls.predict(new_obs2))"
   ]
  },
  {
   "cell_type": "markdown",
   "metadata": {},
   "source": [
    "### e. Guardar el mejor modelo de forma persistente\n",
    "\n",
    "Guardar de forma persistente el mejor modelo (considerar r^2, RMSE)"
   ]
  },
  {
   "cell_type": "code",
   "execution_count": 18,
   "metadata": {},
   "outputs": [
    {
     "data": {
      "text/plain": [
       "['model_wls.pkl']"
      ]
     },
     "execution_count": 18,
     "metadata": {},
     "output_type": "execute_result"
    }
   ],
   "source": [
    "# Guardar el modelo de regresión original con las 13 variables independientes:\n",
    "\n",
    "import joblib\n",
    "\n",
    "joblib.dump(res_wls, \"model_wls.pkl\")"
   ]
  },
  {
   "cell_type": "code",
   "execution_count": 19,
   "metadata": {},
   "outputs": [
    {
     "data": {
      "text/plain": [
       "array([29.48837523])"
      ]
     },
     "execution_count": 19,
     "metadata": {},
     "output_type": "execute_result"
    }
   ],
   "source": [
    "# Utilizar el modelo entrenado que hemos guardado para predecir nuevas observaciones\n",
    "\n",
    "model = joblib.load(\"model_wls.pkl\")\n",
    "model.predict(new_obs2)  # R^2 = 0.73"
   ]
  },
  {
   "cell_type": "code",
   "execution_count": null,
   "metadata": {},
   "outputs": [],
   "source": []
  }
 ],
 "metadata": {
  "finalized": {
   "timestamp": 1625622314719,
   "trusted": true
  },
  "kernelspec": {
   "display_name": "Python 3",
   "language": "python",
   "name": "python3"
  },
  "language_info": {
   "codemirror_mode": {
    "name": "ipython",
    "version": 3
   },
   "file_extension": ".py",
   "mimetype": "text/x-python",
   "name": "python",
   "nbconvert_exporter": "python",
   "pygments_lexer": "ipython3",
   "version": "3.9.5"
  }
 },
 "nbformat": 4,
 "nbformat_minor": 4
}
