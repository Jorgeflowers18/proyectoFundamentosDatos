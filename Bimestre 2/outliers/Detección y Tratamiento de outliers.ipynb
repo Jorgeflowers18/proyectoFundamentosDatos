{
 "cells": [
  {
   "cell_type": "markdown",
   "metadata": {},
   "source": [
    "# Detección y tratamiento de valores atípicos\n"
   ]
  },
  {
   "cell_type": "markdown",
   "metadata": {},
   "source": [
    "## Boston Dataset"
   ]
  },
  {
   "cell_type": "markdown",
   "metadata": {},
   "source": [
    "The features can be summarized as follows:\n",
    "\n",
    "- CRIM: This is the per capita crime rate by town\n",
    "- ZN: This is the proportion of residential land zoned for lots larger than 25,000 sq.ft.\n",
    "- INDUS: This is the proportion of non-retail business acres per town.\n",
    "- CHAS: This is the Charles River dummy variable (this is equal to 1 if tract bounds river; 0 otherwise)\n",
    "- NOX: This is the nitric oxides concentration (parts per 10 million)\n",
    "- RM: This is the average number of rooms per dwelling\n",
    "- AGE: This is the proportion of owner-occupied units built prior to 1940\n",
    "- DIS: This is the weighted distances to five Boston employment centers\n",
    "- RAD: This is the index of accessibility to radial highways\n",
    "- TAX: This is the full-value property-tax rate per 10000\n",
    "- PTRATIO: This is the pupil-teacher ratio by town\n",
    "- B: This is calculated as 1000(Bk — 0.63)², where Bk is the proportion of people of African American descent - by town\n",
    "- LSTAT: This is the percentage lower status of the population\n",
    "- MEDV: This is the median value of owner-occupied homes in $1000s"
   ]
  },
  {
   "cell_type": "code",
   "execution_count": 1,
   "metadata": {},
   "outputs": [],
   "source": [
    "#Load libraries\n",
    "from sklearn.datasets import load_boston\n",
    "import numpy as np\n",
    "import pandas as pd\n",
    "import seaborn as sns\n",
    "from scipy import stats\n"
   ]
  },
  {
   "cell_type": "code",
   "execution_count": 2,
   "metadata": {},
   "outputs": [
    {
     "data": {
      "text/html": [
       "<div>\n",
       "<style scoped>\n",
       "    .dataframe tbody tr th:only-of-type {\n",
       "        vertical-align: middle;\n",
       "    }\n",
       "\n",
       "    .dataframe tbody tr th {\n",
       "        vertical-align: top;\n",
       "    }\n",
       "\n",
       "    .dataframe thead th {\n",
       "        text-align: right;\n",
       "    }\n",
       "</style>\n",
       "<table border=\"1\" class=\"dataframe\">\n",
       "  <thead>\n",
       "    <tr style=\"text-align: right;\">\n",
       "      <th></th>\n",
       "      <th>CRIM</th>\n",
       "      <th>ZN</th>\n",
       "      <th>INDUS</th>\n",
       "      <th>CHAS</th>\n",
       "      <th>NOX</th>\n",
       "      <th>RM</th>\n",
       "      <th>AGE</th>\n",
       "      <th>DIS</th>\n",
       "      <th>RAD</th>\n",
       "      <th>TAX</th>\n",
       "      <th>PTRATIO</th>\n",
       "      <th>B</th>\n",
       "      <th>LSTAT</th>\n",
       "    </tr>\n",
       "  </thead>\n",
       "  <tbody>\n",
       "    <tr>\n",
       "      <th>0</th>\n",
       "      <td>0.00632</td>\n",
       "      <td>18.0</td>\n",
       "      <td>2.31</td>\n",
       "      <td>0.0</td>\n",
       "      <td>0.538</td>\n",
       "      <td>6.575</td>\n",
       "      <td>65.2</td>\n",
       "      <td>4.0900</td>\n",
       "      <td>1.0</td>\n",
       "      <td>296.0</td>\n",
       "      <td>15.3</td>\n",
       "      <td>396.90</td>\n",
       "      <td>4.98</td>\n",
       "    </tr>\n",
       "    <tr>\n",
       "      <th>1</th>\n",
       "      <td>0.02731</td>\n",
       "      <td>0.0</td>\n",
       "      <td>7.07</td>\n",
       "      <td>0.0</td>\n",
       "      <td>0.469</td>\n",
       "      <td>6.421</td>\n",
       "      <td>78.9</td>\n",
       "      <td>4.9671</td>\n",
       "      <td>2.0</td>\n",
       "      <td>242.0</td>\n",
       "      <td>17.8</td>\n",
       "      <td>396.90</td>\n",
       "      <td>9.14</td>\n",
       "    </tr>\n",
       "    <tr>\n",
       "      <th>2</th>\n",
       "      <td>0.02729</td>\n",
       "      <td>0.0</td>\n",
       "      <td>7.07</td>\n",
       "      <td>0.0</td>\n",
       "      <td>0.469</td>\n",
       "      <td>7.185</td>\n",
       "      <td>61.1</td>\n",
       "      <td>4.9671</td>\n",
       "      <td>2.0</td>\n",
       "      <td>242.0</td>\n",
       "      <td>17.8</td>\n",
       "      <td>392.83</td>\n",
       "      <td>4.03</td>\n",
       "    </tr>\n",
       "    <tr>\n",
       "      <th>3</th>\n",
       "      <td>0.03237</td>\n",
       "      <td>0.0</td>\n",
       "      <td>2.18</td>\n",
       "      <td>0.0</td>\n",
       "      <td>0.458</td>\n",
       "      <td>6.998</td>\n",
       "      <td>45.8</td>\n",
       "      <td>6.0622</td>\n",
       "      <td>3.0</td>\n",
       "      <td>222.0</td>\n",
       "      <td>18.7</td>\n",
       "      <td>394.63</td>\n",
       "      <td>2.94</td>\n",
       "    </tr>\n",
       "    <tr>\n",
       "      <th>4</th>\n",
       "      <td>0.06905</td>\n",
       "      <td>0.0</td>\n",
       "      <td>2.18</td>\n",
       "      <td>0.0</td>\n",
       "      <td>0.458</td>\n",
       "      <td>7.147</td>\n",
       "      <td>54.2</td>\n",
       "      <td>6.0622</td>\n",
       "      <td>3.0</td>\n",
       "      <td>222.0</td>\n",
       "      <td>18.7</td>\n",
       "      <td>396.90</td>\n",
       "      <td>5.33</td>\n",
       "    </tr>\n",
       "  </tbody>\n",
       "</table>\n",
       "</div>"
      ],
      "text/plain": [
       "      CRIM    ZN  INDUS  CHAS    NOX     RM   AGE     DIS  RAD    TAX  \\\n",
       "0  0.00632  18.0   2.31   0.0  0.538  6.575  65.2  4.0900  1.0  296.0   \n",
       "1  0.02731   0.0   7.07   0.0  0.469  6.421  78.9  4.9671  2.0  242.0   \n",
       "2  0.02729   0.0   7.07   0.0  0.469  7.185  61.1  4.9671  2.0  242.0   \n",
       "3  0.03237   0.0   2.18   0.0  0.458  6.998  45.8  6.0622  3.0  222.0   \n",
       "4  0.06905   0.0   2.18   0.0  0.458  7.147  54.2  6.0622  3.0  222.0   \n",
       "\n",
       "   PTRATIO       B  LSTAT  \n",
       "0     15.3  396.90   4.98  \n",
       "1     17.8  396.90   9.14  \n",
       "2     17.8  392.83   4.03  \n",
       "3     18.7  394.63   2.94  \n",
       "4     18.7  396.90   5.33  "
      ]
     },
     "execution_count": 2,
     "metadata": {},
     "output_type": "execute_result"
    }
   ],
   "source": [
    "#Load data: Boston dataset\n",
    "\n",
    "# Source:https://towardsdatascience.com/detecting-and-treating-outliers-in-python-part-1-4ece5098b755\n",
    "    \n",
    "    \n",
    "X, y = load_boston(return_X_y=True)\n",
    "\n",
    "#Create data frame\n",
    "boston = load_boston()\n",
    "columns = boston.feature_names\n",
    "df = pd.DataFrame(X, columns = columns)\n",
    "df.head()"
   ]
  },
  {
   "cell_type": "code",
   "execution_count": 3,
   "metadata": {},
   "outputs": [
    {
     "data": {
      "text/plain": [
       "506"
      ]
     },
     "execution_count": 3,
     "metadata": {},
     "output_type": "execute_result"
    }
   ],
   "source": [
    "len(df)"
   ]
  },
  {
   "cell_type": "markdown",
   "metadata": {},
   "source": [
    "## Detección\n",
    "\n",
    "- Visual: boxplot \n",
    "- Técnicas estadísticas"
   ]
  },
  {
   "cell_type": "markdown",
   "metadata": {},
   "source": [
    "### Visualización de valores atípicos (Box plot)\n",
    "\n",
    "Un primer paso útil para detectar valores atípicos univariados es la visualización de la <b> distribución de una variable</b>, por ejemplo, mediante un boxplot.\n",
    "\n",
    "En un boxplot, los datos se dividen en cuartiles. Un boxplot muestra un cuadro rectangular que representa el 25% -75% de las observaciones de una muestra, extendido por los llamados bigotes que alcanzan la entrada de datos mínima y máxima. Las observaciones que se muestran fuera de los bigotes son valores atípicos.\n",
    "\n",
    "\n",
    "#### a. Variables individuales\n",
    "\n"
   ]
  },
  {
   "cell_type": "code",
   "execution_count": 4,
   "metadata": {},
   "outputs": [
    {
     "data": {
      "image/png": "[encoded data removed]",
      "text/plain": [
       "<Figure size 1008x216 with 2 Axes>"
      ]
     },
     "metadata": {
      "needs_background": "light"
     },
     "output_type": "display_data"
    }
   ],
   "source": [
    "import matplotlib.pyplot as plt\n",
    "\n",
    "fig, axs = plt.subplots(ncols=2, figsize=[14,3])\n",
    "\n",
    "#DIS: This is the weighted distances to five Boston employment centers\n",
    "sns.boxplot(data=df['DIS'], orient=\"h\", ax=axs[0])\n",
    "\n",
    "#This is the proportion of owner-occupied units built prior to 1940\n",
    "sns.boxplot(data=df['AGE'], orient=\"h\", ax=axs[1])\n",
    "\n",
    "plt.show()"
   ]
  },
  {
   "cell_type": "markdown",
   "metadata": {},
   "source": [
    "El gráfico anterior, para DIS, muestra tres puntos entre 10 y 12, estos son valores atípicos ya que no están  cerca de los cuartiles. Mientras que AGE no muestra valores atípicos.\n",
    "\n",
    "\n",
    "<b> b. Gráficos de grupo</b>\n",
    "\n",
    "Primero describir el dataset (describe()) para tener una idea de la escala de cada variable y luego crear los boxplot por  grupo."
   ]
  },
  {
   "cell_type": "code",
   "execution_count": 5,
   "metadata": {},
   "outputs": [
    {
     "data": {
      "text/html": [
       "<div>\n",
       "<style scoped>\n",
       "    .dataframe tbody tr th:only-of-type {\n",
       "        vertical-align: middle;\n",
       "    }\n",
       "\n",
       "    .dataframe tbody tr th {\n",
       "        vertical-align: top;\n",
       "    }\n",
       "\n",
       "    .dataframe thead th {\n",
       "        text-align: right;\n",
       "    }\n",
       "</style>\n",
       "<table border=\"1\" class=\"dataframe\">\n",
       "  <thead>\n",
       "    <tr style=\"text-align: right;\">\n",
       "      <th></th>\n",
       "      <th>CRIM</th>\n",
       "      <th>ZN</th>\n",
       "      <th>INDUS</th>\n",
       "      <th>CHAS</th>\n",
       "      <th>NOX</th>\n",
       "      <th>RM</th>\n",
       "      <th>AGE</th>\n",
       "      <th>DIS</th>\n",
       "      <th>RAD</th>\n",
       "      <th>TAX</th>\n",
       "      <th>PTRATIO</th>\n",
       "      <th>B</th>\n",
       "      <th>LSTAT</th>\n",
       "    </tr>\n",
       "  </thead>\n",
       "  <tbody>\n",
       "    <tr>\n",
       "      <th>count</th>\n",
       "      <td>506.000000</td>\n",
       "      <td>506.000000</td>\n",
       "      <td>506.000000</td>\n",
       "      <td>506.000000</td>\n",
       "      <td>506.000000</td>\n",
       "      <td>506.000000</td>\n",
       "      <td>506.000000</td>\n",
       "      <td>506.000000</td>\n",
       "      <td>506.000000</td>\n",
       "      <td>506.000000</td>\n",
       "      <td>506.000000</td>\n",
       "      <td>506.000000</td>\n",
       "      <td>506.000000</td>\n",
       "    </tr>\n",
       "    <tr>\n",
       "      <th>mean</th>\n",
       "      <td>3.613524</td>\n",
       "      <td>11.363636</td>\n",
       "      <td>11.136779</td>\n",
       "      <td>0.069170</td>\n",
       "      <td>0.554695</td>\n",
       "      <td>6.284634</td>\n",
       "      <td>68.574901</td>\n",
       "      <td>3.795043</td>\n",
       "      <td>9.549407</td>\n",
       "      <td>408.237154</td>\n",
       "      <td>18.455534</td>\n",
       "      <td>356.674032</td>\n",
       "      <td>12.653063</td>\n",
       "    </tr>\n",
       "    <tr>\n",
       "      <th>std</th>\n",
       "      <td>8.601545</td>\n",
       "      <td>23.322453</td>\n",
       "      <td>6.860353</td>\n",
       "      <td>0.253994</td>\n",
       "      <td>0.115878</td>\n",
       "      <td>0.702617</td>\n",
       "      <td>28.148861</td>\n",
       "      <td>2.105710</td>\n",
       "      <td>8.707259</td>\n",
       "      <td>168.537116</td>\n",
       "      <td>2.164946</td>\n",
       "      <td>91.294864</td>\n",
       "      <td>7.141062</td>\n",
       "    </tr>\n",
       "    <tr>\n",
       "      <th>min</th>\n",
       "      <td>0.006320</td>\n",
       "      <td>0.000000</td>\n",
       "      <td>0.460000</td>\n",
       "      <td>0.000000</td>\n",
       "      <td>0.385000</td>\n",
       "      <td>3.561000</td>\n",
       "      <td>2.900000</td>\n",
       "      <td>1.129600</td>\n",
       "      <td>1.000000</td>\n",
       "      <td>187.000000</td>\n",
       "      <td>12.600000</td>\n",
       "      <td>0.320000</td>\n",
       "      <td>1.730000</td>\n",
       "    </tr>\n",
       "    <tr>\n",
       "      <th>25%</th>\n",
       "      <td>0.082045</td>\n",
       "      <td>0.000000</td>\n",
       "      <td>5.190000</td>\n",
       "      <td>0.000000</td>\n",
       "      <td>0.449000</td>\n",
       "      <td>5.885500</td>\n",
       "      <td>45.025000</td>\n",
       "      <td>2.100175</td>\n",
       "      <td>4.000000</td>\n",
       "      <td>279.000000</td>\n",
       "      <td>17.400000</td>\n",
       "      <td>375.377500</td>\n",
       "      <td>6.950000</td>\n",
       "    </tr>\n",
       "    <tr>\n",
       "      <th>50%</th>\n",
       "      <td>0.256510</td>\n",
       "      <td>0.000000</td>\n",
       "      <td>9.690000</td>\n",
       "      <td>0.000000</td>\n",
       "      <td>0.538000</td>\n",
       "      <td>6.208500</td>\n",
       "      <td>77.500000</td>\n",
       "      <td>3.207450</td>\n",
       "      <td>5.000000</td>\n",
       "      <td>330.000000</td>\n",
       "      <td>19.050000</td>\n",
       "      <td>391.440000</td>\n",
       "      <td>11.360000</td>\n",
       "    </tr>\n",
       "    <tr>\n",
       "      <th>75%</th>\n",
       "      <td>3.677083</td>\n",
       "      <td>12.500000</td>\n",
       "      <td>18.100000</td>\n",
       "      <td>0.000000</td>\n",
       "      <td>0.624000</td>\n",
       "      <td>6.623500</td>\n",
       "      <td>94.075000</td>\n",
       "      <td>5.188425</td>\n",
       "      <td>24.000000</td>\n",
       "      <td>666.000000</td>\n",
       "      <td>20.200000</td>\n",
       "      <td>396.225000</td>\n",
       "      <td>16.955000</td>\n",
       "    </tr>\n",
       "    <tr>\n",
       "      <th>max</th>\n",
       "      <td>88.976200</td>\n",
       "      <td>100.000000</td>\n",
       "      <td>27.740000</td>\n",
       "      <td>1.000000</td>\n",
       "      <td>0.871000</td>\n",
       "      <td>8.780000</td>\n",
       "      <td>100.000000</td>\n",
       "      <td>12.126500</td>\n",
       "      <td>24.000000</td>\n",
       "      <td>711.000000</td>\n",
       "      <td>22.000000</td>\n",
       "      <td>396.900000</td>\n",
       "      <td>37.970000</td>\n",
       "    </tr>\n",
       "  </tbody>\n",
       "</table>\n",
       "</div>"
      ],
      "text/plain": [
       "             CRIM          ZN       INDUS        CHAS         NOX          RM  \\\n",
       "count  506.000000  506.000000  506.000000  506.000000  506.000000  506.000000   \n",
       "mean     3.613524   11.363636   11.136779    0.069170    0.554695    6.284634   \n",
       "std      8.601545   23.322453    6.860353    0.253994    0.115878    0.702617   \n",
       "min      0.006320    0.000000    0.460000    0.000000    0.385000    3.561000   \n",
       "25%      0.082045    0.000000    5.190000    0.000000    0.449000    5.885500   \n",
       "50%      0.256510    0.000000    9.690000    0.000000    0.538000    6.208500   \n",
       "75%      3.677083   12.500000   18.100000    0.000000    0.624000    6.623500   \n",
       "max     88.976200  100.000000   27.740000    1.000000    0.871000    8.780000   \n",
       "\n",
       "              AGE         DIS         RAD         TAX     PTRATIO           B  \\\n",
       "count  506.000000  506.000000  506.000000  506.000000  506.000000  506.000000   \n",
       "mean    68.574901    3.795043    9.549407  408.237154   18.455534  356.674032   \n",
       "std     28.148861    2.105710    8.707259  168.537116    2.164946   91.294864   \n",
       "min      2.900000    1.129600    1.000000  187.000000   12.600000    0.320000   \n",
       "25%     45.025000    2.100175    4.000000  279.000000   17.400000  375.377500   \n",
       "50%     77.500000    3.207450    5.000000  330.000000   19.050000  391.440000   \n",
       "75%     94.075000    5.188425   24.000000  666.000000   20.200000  396.225000   \n",
       "max    100.000000   12.126500   24.000000  711.000000   22.000000  396.900000   \n",
       "\n",
       "            LSTAT  \n",
       "count  506.000000  \n",
       "mean    12.653063  \n",
       "std      7.141062  \n",
       "min      1.730000  \n",
       "25%      6.950000  \n",
       "50%     11.360000  \n",
       "75%     16.955000  \n",
       "max     37.970000  "
      ]
     },
     "execution_count": 5,
     "metadata": {},
     "output_type": "execute_result"
    }
   ],
   "source": [
    "df.describe()"
   ]
  },
  {
   "cell_type": "code",
   "execution_count": 6,
   "metadata": {},
   "outputs": [
    {
     "data": {
      "image/png": "[encoded data removed]",
      "text/plain": [
       "<Figure size 432x288 with 1 Axes>"
      ]
     },
     "metadata": {
      "needs_background": "light"
     },
     "output_type": "display_data"
    }
   ],
   "source": [
    "#TAX: This is the full-value property-tax rate per 10000\n",
    "# B: This is calculated as 1000(Bk — 0.63)², where Bk is the proportion of people of African American descent - by town\n",
    "\n",
    "df_1 = df[['TAX', 'B']]\n",
    "\n",
    "ax = sns.boxplot(data=df_1, orient=\"h\", palette=\"Set1\")"
   ]
  },
  {
   "cell_type": "code",
   "execution_count": 7,
   "metadata": {},
   "outputs": [
    {
     "data": {
      "image/png": "[encoded data removed]",
      "text/plain": [
       "<Figure size 432x288 with 1 Axes>"
      ]
     },
     "metadata": {
      "needs_background": "light"
     },
     "output_type": "display_data"
    }
   ],
   "source": [
    "#distribuciones de todas las variables mediante un gráfico de grupo (cuando tienen escala similar):\n",
    "\n",
    "df_2 = df[['CRIM', 'ZN', 'INDUS', 'RM', 'AGE', 'DIS', 'RAD', 'PTRATIO','LSTAT']]\n",
    "\n",
    "\n",
    "ax = sns.boxplot(data=df_2, orient=\"h\", palette=\"Set2\")"
   ]
  },
  {
   "cell_type": "markdown",
   "metadata": {},
   "source": [
    "Hay tres variables (INDUS, AGE y RAD), sin outliers univariados. Todas las demás variables tienen puntos de datos más allá de sus bigotes.\n",
    "\n",
    "Según el boxplot de La variable \"CRIM\" (codifica la tasa de delincuencia per cápita por ciudad), la tasa de criminalidad en la mayoría de las ciudades está por debajo del 5%."
   ]
  },
  {
   "cell_type": "code",
   "execution_count": 8,
   "metadata": {},
   "outputs": [
    {
     "name": "stdout",
     "output_type": "stream",
     "text": [
      "0.0    471\n",
      "1.0     35\n",
      "Name: CHAS, dtype: int64\n"
     ]
    },
    {
     "data": {
      "image/png": "[encoded data removed]",
      "text/plain": [
       "<Figure size 432x288 with 1 Axes>"
      ]
     },
     "metadata": {
      "needs_background": "light"
     },
     "output_type": "display_data"
    }
   ],
   "source": [
    "df_3 = df[['CHAS', 'NOX']]\n",
    "print(df_3['CHAS'].value_counts())\n",
    "ax = sns.boxplot(data=df_3, orient=\"h\", palette=\"Set3\")"
   ]
  },
  {
   "cell_type": "code",
   "execution_count": 9,
   "metadata": {},
   "outputs": [
    {
     "data": {
      "text/plain": [
       "<AxesSubplot:>"
      ]
     },
     "execution_count": 9,
     "metadata": {},
     "output_type": "execute_result"
    },
    {
     "data": {
      "image/png": "[encoded data removed]",
      "text/plain": [
       "<Figure size 432x288 with 1 Axes>"
      ]
     },
     "metadata": {
      "needs_background": "light"
     },
     "output_type": "display_data"
    }
   ],
   "source": [
    "sns.boxplot(data=df['CRIM'], orient=\"h\")\n"
   ]
  },
  {
   "cell_type": "markdown",
   "metadata": {},
   "source": [
    "Un boxplot nos permite saber que hay valores atípicos pero no nos permite identificar los índices reales de las observaciones periféricas, por eso usamos técnicas estadísticas para su detección."
   ]
  },
  {
   "cell_type": "markdown",
   "metadata": {},
   "source": [
    "### Técnicas estadísticas para la detección\n",
    "\n",
    "Otros métodos cuantitativos usados en estadística para la detección de valores atípicos univariados:\n",
    "\n",
    "- Método Tukey’s box plot\n",
    "- z-score method\n",
    "- IQR score\n",
    "- Método Median Absolute Deviation\n",
    "\n",
    "<b> Tukey’s box plot</b>\n",
    "\n",
    "Es un boxplot que distingue entre valores atípicos posibles y probables. Un posible valor atípico se encuentra entre la valla interior y exterior, mientras que un valor atípico probable se encuentra fuera de la valla exterior.\n",
    "\n",
    "Las valla interna (inner fence) y externa (outer fence) generalmente no se muestran en el diagrama de caja real, pero se pueden calcular utilizando el rango intercuartílico (IQR) de la siguiente manera:\n",
    "\n",
    "- IQR = Q3 - Q1 ->  Q3 = 75 cuartil y Q1 = 25 cuartil\n",
    "\n",
    "- inner fence = [Q1-1.5 * IQR, Q3 + 1.5 * IQR]\n",
    "\n",
    "- outer fence = [Q1–3 * IQR, Q3 + 3 * IQR]\n",
    "\n",
    "La valla interior de la distribución se define como 1,5 x IQR por debajo de Q1 y 1,5 x IQR por encima de Q3.\n",
    "\n",
    "La valla exterior se define como 3 x IQR por debajo de Q1 y 3 x IQR por encima de Q3.\n",
    "\n",
    "Siguiendo a Tukey, se consideran los valores atípicos probables a aquellos que se encuentran fuera de la valla exterior. \n"
   ]
  },
  {
   "cell_type": "code",
   "execution_count": 10,
   "metadata": {},
   "outputs": [],
   "source": [
    "#Tukey's method\n",
    "\n",
    "def tukeys_method(df, variable):\n",
    "    #Takes two parameters: dataframe & variable of interest as string\n",
    "    q1 = df[variable].quantile(0.25)\n",
    "    q3 = df[variable].quantile(0.75)\n",
    "    iqr = q3-q1\n",
    "    inner_fence = 1.5*iqr\n",
    "    outer_fence = 3*iqr\n",
    "    \n",
    "    #inner fence lower and upper end\n",
    "    inner_fence_le = q1-inner_fence\n",
    "    inner_fence_ue = q3+inner_fence\n",
    "    \n",
    "    #outer fence lower and upper end\n",
    "    outer_fence_le = q1-outer_fence\n",
    "    outer_fence_ue = q3+outer_fence\n",
    "    \n",
    "    outliers_prob = []\n",
    "    outliers_poss = []\n",
    "    for index, x in enumerate(df[variable]):\n",
    "        if x <= outer_fence_le or x >= outer_fence_ue:\n",
    "            outliers_prob.append(index)\n",
    "    for index, x in enumerate(df[variable]):\n",
    "        if x <= inner_fence_le or x >= inner_fence_ue:\n",
    "            outliers_poss.append(index)\n",
    "    return outliers_prob, outliers_poss"
   ]
  },
  {
   "cell_type": "code",
   "execution_count": 11,
   "metadata": {},
   "outputs": [
    {
     "data": {
      "text/plain": [
       "477    15.0234\n",
       "437    15.1772\n",
       "376    15.2880\n",
       "468    15.5757\n",
       "425    15.8603\n",
       "381    15.8744\n",
       "385    16.8118\n",
       "379    17.8667\n",
       "415    18.0846\n",
       "374    18.4982\n",
       "412    18.8110\n",
       "375    19.6091\n",
       "384    20.0849\n",
       "406    20.7162\n",
       "440    22.0511\n",
       "387    22.5971\n",
       "378    23.6482\n",
       "386    24.3938\n",
       "403    24.8017\n",
       "400    25.0461\n",
       "417    25.9406\n",
       "413    28.6558\n",
       "427    37.6619\n",
       "398    38.3518\n",
       "404    41.5292\n",
       "414    45.7461\n",
       "410    51.1358\n",
       "405    67.9208\n",
       "418    73.5341\n",
       "380    88.9762\n",
       "Name: CRIM, dtype: float64"
      ]
     },
     "execution_count": 11,
     "metadata": {},
     "output_type": "execute_result"
    }
   ],
   "source": [
    "probable_outliers_tm, possible_outliers_tm = tukeys_method(df, \"CRIM\")\n",
    "# Cálculo directo de outliers probables:\n",
    "\n",
    "df[\"CRIM\"][probable_outliers_tm].sort_values() # outliers probables\n"
   ]
  },
  {
   "cell_type": "code",
   "execution_count": 12,
   "metadata": {},
   "outputs": [
    {
     "data": {
      "text/plain": [
       "382     9.18702\n",
       "371     9.23230\n",
       "448     9.32909\n",
       "429     9.33889\n",
       "439     9.39063\n",
       "         ...   \n",
       "414    45.74610\n",
       "410    51.13580\n",
       "405    67.92080\n",
       "418    73.53410\n",
       "380    88.97620\n",
       "Name: CRIM, Length: 66, dtype: float64"
      ]
     },
     "execution_count": 12,
     "metadata": {},
     "output_type": "execute_result"
    }
   ],
   "source": [
    "df[\"CRIM\"][possible_outliers_tm].sort_values() # outliers posibles, necesitan más atención"
   ]
  },
  {
   "cell_type": "markdown",
   "metadata": {},
   "source": [
    "30 observaciones de la variable CRIM pueden considerarse probables y 66 como posibles y necesitan más atención. \n",
    "\n",
    "La gran ventaja del método de diagrama de caja de Turkey es que las estadísticas (por ejemplo, IQR, valla interior y exterior) son robustas a valores atípicos, lo que significa que encontrar un valor atípico es independiente de todos los demás valores atípicos. Además, las estadísticas son fáciles de calcular y <b> este método no requiere una distribución normal de los datos</b>, lo que a menudo no está garantizado en entornos de la vida real. \n",
    "\n",
    "Si una distribución está muy sesgada (generalmente se encuentra en datos de la vida real), cada valor se transforma a su logaritmo antes de calcular las vallas interior y exterior.\n"
   ]
  },
  {
   "cell_type": "code",
   "execution_count": 60,
   "metadata": {},
   "outputs": [
    {
     "name": "stderr",
     "output_type": "stream",
     "text": [
      "c:\\users\\wow80\\appdata\\local\\programs\\python\\python39\\lib\\site-packages\\seaborn\\distributions.py:2557: FutureWarning: `distplot` is a deprecated function and will be removed in a future version. Please adapt your code to use either `displot` (a figure-level function with similar flexibility) or `histplot` (an axes-level function for histograms).\n",
      "  warnings.warn(msg, FutureWarning)\n"
     ]
    },
    {
     "data": {
      "text/plain": [
       "<AxesSubplot:xlabel='CRIM', ylabel='Density'>"
      ]
     },
     "execution_count": 60,
     "metadata": {},
     "output_type": "execute_result"
    },
    {
     "data": {
      "image/png": "[encoded data removed]",
      "text/plain": [
       "<Figure size 432x288 with 1 Axes>"
      ]
     },
     "metadata": {
      "needs_background": "light"
     },
     "output_type": "display_data"
    }
   ],
   "source": [
    "sns.distplot(df['CRIM'])\n"
   ]
  },
  {
   "cell_type": "code",
   "execution_count": 14,
   "metadata": {},
   "outputs": [
    {
     "name": "stderr",
     "output_type": "stream",
     "text": [
      "c:\\users\\wow80\\appdata\\local\\programs\\python\\python39\\lib\\site-packages\\seaborn\\distributions.py:2557: FutureWarning: `distplot` is a deprecated function and will be removed in a future version. Please adapt your code to use either `displot` (a figure-level function with similar flexibility) or `histplot` (an axes-level function for histograms).\n",
      "  warnings.warn(msg, FutureWarning)\n"
     ]
    },
    {
     "data": {
      "text/plain": [
       "<AxesSubplot:xlabel='CRIM_log', ylabel='Density'>"
      ]
     },
     "execution_count": 14,
     "metadata": {},
     "output_type": "execute_result"
    },
    {
     "data": {
      "image/png": "[encoded data removed]",
      "text/plain": [
       "<Figure size 432x288 with 1 Axes>"
      ]
     },
     "metadata": {
      "needs_background": "light"
     },
     "output_type": "display_data"
    }
   ],
   "source": [
    "#Transformar 'CRIM' a su valor logaritmo: \n",
    "log_CRIM = np.log(df['CRIM'])\n",
    "df['CRIM_man'] = df['CRIM']+1\n",
    "log_CRIM = np.log(df['CRIM_man'])\n",
    "df['CRIM_log'] = log_CRIM\n",
    "\n",
    "#Plot\n",
    "sns.distplot(df['CRIM_log'])\n",
    "\n"
   ]
  },
  {
   "cell_type": "code",
   "execution_count": 15,
   "metadata": {},
   "outputs": [
    {
     "name": "stdout",
     "output_type": "stream",
     "text": [
      "[]\n",
      "[380, 404, 405, 410, 414, 418]\n"
     ]
    }
   ],
   "source": [
    "#Calculate probable and possible outliers using log-iq method\n",
    "probable_outliers_logiq, possible_outliers_logiq = tukeys_method(df, 'CRIM_log')\n",
    "print(probable_outliers_logiq)\n",
    "print(possible_outliers_logiq)"
   ]
  },
  {
   "cell_type": "markdown",
   "metadata": {},
   "source": [
    "<b> z-score </b>\n",
    "\n",
    "También conocido como método de puntuación z. Para cada observación (Xn), se mide cuántas desviaciones estándar está el punto de datos lejos de su media (X̄).\n",
    "\n",
    "\n",
    "Siguiendo una regla general común, si z > C, donde C generalmente se establece en 3, la observación se marca como un valor atípico. Esta regla se deriva del hecho de que si una variable tiene una distribución normal, el 99,7% de todos los puntos de datos se ubican 3 desviaciones estándar alrededor de la media. "
   ]
  },
  {
   "cell_type": "code",
   "execution_count": 16,
   "metadata": {},
   "outputs": [
    {
     "name": "stdout",
     "output_type": "stream",
     "text": [
      "[380, 398, 404, 405, 410, 414, 418, 427]\n"
     ]
    },
    {
     "data": {
      "text/plain": [
       "380    88.9762\n",
       "398    38.3518\n",
       "404    41.5292\n",
       "405    67.9208\n",
       "410    51.1358\n",
       "414    45.7461\n",
       "418    73.5341\n",
       "427    37.6619\n",
       "Name: CRIM, dtype: float64"
      ]
     },
     "execution_count": 16,
     "metadata": {},
     "output_type": "execute_result"
    }
   ],
   "source": [
    "# Cálculo mediante spacy. Aplicación a una variable\n",
    "\n",
    "from scipy import stats\n",
    "import numpy as np\n",
    "\n",
    "z_CRIM = np.abs(stats.zscore(df.CRIM))  # Cálculo de CRIM\n",
    "\n",
    "z_CRIM3 = np.where(z_CRIM > 3)  # filtrar según el umbral \n",
    "z_CRIM3 = list(z_CRIM3[0])\n",
    "\n",
    "print(z_CRIM3) # index\n",
    "\n",
    "df[\"CRIM\"][z_CRIM3] # índices y valores atípicos de CRIM"
   ]
  },
  {
   "cell_type": "markdown",
   "metadata": {},
   "source": [
    "Cuando se utiliza el método z-score, las observaciones se marcan como valores atípicos. Sin embargo, <b> este método es muy limitado </b> ya que la media de las distribuciones y la desviación estándar son sensibles a valores atípicos. Esto significa que encontrar un valor atípico depende de otros valores atípicos, ya que cada observación afecta directamente a la media.\n",
    "\n",
    "Además, el método de z-score asume que la variable de interés se distribuye normalmente. Un método más robusto que se puede utilizar en su lugar son los residuos estudiados externamente. Aquí, la influencia del punto de datos examinado se elimina del cálculo de la media y la desviación estándar.\n"
   ]
  },
  {
   "cell_type": "markdown",
   "metadata": {},
   "source": [
    "<b> IQR score </b>\n",
    "\n",
    "El diagrama de caja usa el método IQR (rango intercuartílico, medida de dispersión estadística) para mostrar datos y valores atípicos (forma de los datos), pero para obtener una lista de valores atípicos identificados, necesitaremos usar la fórmula matemática y recuperar los datos atípicos.\n",
    "\n",
    "IQR es el primer cuartil restado del tercer cuartil; estos cuartiles se pueden ver claramente en un diagrama de caja en los datos."
   ]
  },
  {
   "cell_type": "code",
   "execution_count": 17,
   "metadata": {},
   "outputs": [
    {
     "name": "stdout",
     "output_type": "stream",
     "text": [
      "3.5950375\n"
     ]
    }
   ],
   "source": [
    "Q1 = df.CRIM.quantile(0.25)\n",
    "Q3 = df.CRIM.quantile(0.75)\n",
    "IQR = Q3 - Q1\n",
    "print(IQR)"
   ]
  },
  {
   "cell_type": "markdown",
   "metadata": {},
   "source": [
    "A partir de IQR, encontrar los valores atípicos. "
   ]
  },
  {
   "cell_type": "code",
   "execution_count": 18,
   "metadata": {},
   "outputs": [
    {
     "name": "stdout",
     "output_type": "stream",
     "text": [
      "0      False\n",
      "1      False\n",
      "2      False\n",
      "3      False\n",
      "4      False\n",
      "       ...  \n",
      "501    False\n",
      "502    False\n",
      "503    False\n",
      "504    False\n",
      "505    False\n",
      "Name: CRIM, Length: 506, dtype: bool\n",
      "0      False\n",
      "1      False\n",
      "2      False\n",
      "3      False\n",
      "4      False\n",
      "       ...  \n",
      "501    False\n",
      "502    False\n",
      "503    False\n",
      "504    False\n",
      "505    False\n",
      "Name: CRIM, Length: 506, dtype: bool\n"
     ]
    }
   ],
   "source": [
    "#El siguiente código dará una salida con algunos valores verdaderos y falsos.\n",
    "# El punto de datos donde tenemos Falso significa que estos valores son válidos,\n",
    "# mientras que Verdadero indica la presencia de un valor atípico.\n",
    "print(df.CRIM < (Q1 - 1.5 * IQR))\n",
    "print(df.CRIM > (Q3 + 1.5 * IQR))"
   ]
  },
  {
   "cell_type": "code",
   "execution_count": 19,
   "metadata": {},
   "outputs": [
    {
     "name": "stdout",
     "output_type": "stream",
     "text": [
      "Series([], Name: CRIM, dtype: float64)\n",
      "367    13.5222\n",
      "371     9.2323\n",
      "373    11.1081\n",
      "374    18.4982\n",
      "375    19.6091\n",
      "        ...   \n",
      "468    15.5757\n",
      "469    13.0751\n",
      "477    15.0234\n",
      "478    10.2330\n",
      "479    14.3337\n",
      "Name: CRIM, Length: 66, dtype: float64\n"
     ]
    }
   ],
   "source": [
    "print(df.CRIM[df.CRIM < (Q1 - 1.5 * IQR)]) # valores atípicos\n",
    "print(df.CRIM[df.CRIM > (Q3 + 1.5 * IQR)])"
   ]
  },
  {
   "cell_type": "markdown",
   "metadata": {},
   "source": [
    "<b>Median Absolute Deviation (MAD) method</b>\n",
    "\n",
    "\n",
    "Este método reemplaza al método anterior con estadísticas más sólidas, como la desviación absoluta de la mediana y la mediana. \n",
    "\n",
    "\n",
    "La estadística se calcula z-score pero utilizando estadísticas sólidas. Además, para identificar las observaciones periféricas, se utiliza el mismo punto de corte de 3. Si la estadística se encuentra por encima de 3, se marca como un valor atípico. En comparación con los residuales studentizados internamente (z-score) y externamente, este método es más robusto a los valores atípicos y supone que X está distribuido paramétricamente.\n",
    "\n",
    "\n"
   ]
  },
  {
   "cell_type": "code",
   "execution_count": 20,
   "metadata": {},
   "outputs": [],
   "source": [
    "#MAD method\n",
    "def mad_method(df, variable_name):\n",
    "    #Takes two parameters: dataframe & variable of interest as string\n",
    "    columns = df.columns\n",
    "    med = np.median(df, axis = 0)\n",
    "    mad = np.abs(stats.median_absolute_deviation(df))\n",
    "    threshold = 3\n",
    "    outlier = []\n",
    "    index=0\n",
    "    for item in range(len(columns)):\n",
    "        if columns[item] == variable_name:\n",
    "            index == item\n",
    "    for i, v in enumerate(df.loc[:,variable_name]):\n",
    "        t = (v-med[index])/mad[index]\n",
    "        if t > threshold:\n",
    "            outlier.append(i)\n",
    "        else:\n",
    "            continue\n",
    "    return outlier\n",
    "\n"
   ]
  },
  {
   "cell_type": "code",
   "execution_count": 21,
   "metadata": {},
   "outputs": [
    {
     "name": "stdout",
     "output_type": "stream",
     "text": [
      "[20, 31, 32, 34, 141, 142, 143, 144, 145, 146, 147, 148, 149, 150, 151, 153, 154, 155, 156, 158, 159, 160, 161, 162, 163, 164, 165, 166, 167, 168, 169, 171, 310, 356, 357, 358, 359, 360, 361, 362, 363, 364, 365, 366, 367, 368, 369, 370, 371, 372, 373, 374, 375, 376, 377, 378, 379, 380, 381, 382, 383, 384, 385, 386, 387, 388, 389, 390, 391, 392, 393, 394, 395, 396, 397, 398, 399, 400, 401, 402, 403, 404, 405, 406, 407, 408, 409, 410, 411, 412, 413, 414, 415, 416, 417, 418, 419, 420, 421, 422, 423, 424, 425, 426, 427, 428, 429, 430, 431, 432, 433, 434, 435, 436, 437, 438, 439, 440, 441, 442, 443, 444, 445, 446, 447, 448, 449, 450, 451, 452, 453, 454, 455, 456, 457, 458, 459, 460, 461, 462, 463, 464, 465, 466, 467, 468, 469, 470, 471, 472, 473, 474, 475, 476, 477, 478, 479, 480, 481, 482, 483, 484, 485, 486, 487]\n"
     ]
    },
    {
     "name": "stderr",
     "output_type": "stream",
     "text": [
      "<ipython-input-20-4a7233aa5116>:6: DeprecationWarning: `median_absolute_deviation` is deprecated, use `median_abs_deviation` instead!\n",
      "\n",
      "To preserve the existing default behavior, use\n",
      "`scipy.stats.median_abs_deviation(..., scale=1/1.4826)`.\n",
      "The value 1.4826 is not numerically precise for scaling\n",
      "with a normal distribution. For a numerically precise value, use\n",
      "`scipy.stats.median_abs_deviation(..., scale='normal')`.\n",
      "\n",
      "  mad = np.abs(stats.median_absolute_deviation(df))\n"
     ]
    }
   ],
   "source": [
    "outlier_mad = mad_method(df, 'CRIM')\n",
    "print(outlier_mad)"
   ]
  },
  {
   "cell_type": "markdown",
   "metadata": {},
   "source": [
    "Podemos ver que el método MAD detecta 165 valores atípicos para CRIM.\n",
    "\n",
    "\n",
    "Hay diferentes formas de detectar valores atípicos univariados, cada una con sus ventajas y desventajas. El z-score debe aplicarse de manera crítica debido a su sensibilidad a la desviación estándar y media y su suposición de una variable distribuida normalmente. \n",
    "\n",
    "En cambio, el método MAD se utiliza a menudo y sirve como una alternativa más sólida. El método de diagrama de caja de Tukey ofrece resultados sólidos y se puede ampliar fácilmente cuando los datos están muy sesgados.\n",
    "\n",
    "Para decidir el enfoque correcto para un conjunto de datos, se debe examinar la distribución de las variables y utilizar su conocimiento del dominio.\n"
   ]
  },
  {
   "cell_type": "markdown",
   "metadata": {},
   "source": [
    "### Outliers multivariados:\n",
    "\n",
    "\n",
    "- Scatter plot: \n",
    "\n",
    "Como sugiere la definición, el diagrama de dispersión es la colección de puntos que muestra valores para dos variables. Podemos intentar dibujar un diagrama de dispersión para dos variables."
   ]
  },
  {
   "cell_type": "code",
   "execution_count": 22,
   "metadata": {},
   "outputs": [
    {
     "data": {
      "image/png": "[encoded data removed]",
      "text/plain": [
       "<Figure size 1008x504 with 1 Axes>"
      ]
     },
     "metadata": {
      "needs_background": "light"
     },
     "output_type": "display_data"
    }
   ],
   "source": [
    "fig, ax = plt.subplots(figsize=(14,7))\n",
    "ax.scatter(df['INDUS'], df['TAX'])\n",
    "ax.set_xlabel('Proportion of non-retail business acres per town')\n",
    "ax.set_ylabel('Full-value property-tax rate per $10,000')\n",
    "plt.show()"
   ]
  },
  {
   "cell_type": "markdown",
   "metadata": {},
   "source": [
    "Mirando el gráfico de arriba, podemos ver que la mayoría de los puntos de datos se encuentran en el lado inferior izquierdo, pero hay puntos que están lejos de la población, como la esquina superior derecha."
   ]
  },
  {
   "cell_type": "code",
   "execution_count": 23,
   "metadata": {},
   "outputs": [
    {
     "data": {
      "image/png": "[encoded data removed]",
      "text/plain": [
       "<Figure size 432x288 with 1 Axes>"
      ]
     },
     "metadata": {
      "needs_background": "light"
     },
     "output_type": "display_data"
    }
   ],
   "source": [
    "# Otro caso:\n",
    "\n",
    "df_bivariate = df[[\"LSTAT\", \"CRIM\"]]\n",
    "\n",
    "ax = sns.scatterplot(x=\"LSTAT\", y=\"CRIM\", data=df)\n",
    "\n"
   ]
  },
  {
   "cell_type": "markdown",
   "metadata": {},
   "source": [
    "Al igual que los diagramas de caja, los diagramas de dispersión visualizan muy bien las observaciones periféricas, pero no las identifican ni las marcan para facilitar el tratamiento. Cuando se trata de valores atípicos multivariados, las métricas de distancia pueden ser útiles para la detección. \n",
    "\n",
    "<b> Usando métricas de distancia </b>\n",
    "\n",
    "Con métricas de distancia, se determina la distancia entre dos vectores. Estos dos vectores pueden ser dos observaciones diferentes (filas) o una observación (fila) en comparación con el vector medio (fila de medias de todas las columnas). Las métricas de distancia se pueden calcular independientemente del número de variables en el conjunto de datos (columnas).\n",
    "\n",
    "- Distancia de Mahalanobis (MD)\n",
    "\n",
    "Una métrica de distancia que se puede utilizar para detectar valores atípicos multivariados.\n",
    "\n",
    "El MD es una medida que determina la distancia entre un punto de datos x y una distribución D. Es una generalización multivariante de z-score. Esto significa que la DM define cuántas desviaciones estándar x está lejos de la media de D.\n",
    "\n",
    "Al igual que z-score, la DM de cada observación se compara con un punto de corte. Suponiendo una distribución normal multivariante de los datos con K variables, la distancia de Mahalanobis sigue una distribución chi-cuadrado con K grados de libertad.\n",
    "\n"
   ]
  },
  {
   "cell_type": "code",
   "execution_count": 24,
   "metadata": {},
   "outputs": [],
   "source": [
    "# Usando un nivel de significancia de 0.01%, buscamos valores atípicos bivariados.\n",
    "\n",
    "import scipy as sp\n",
    "from scipy.stats import chi2\n",
    "\n",
    "def mahalanobis_method(df):\n",
    "    #M-Distance\n",
    "    x_minus_mu = df - np.mean(df)\n",
    "    cov = np.cov(df.values.T)                           #Covariance\n",
    "    inv_covmat = sp.linalg.inv(cov)                     #Inverse covariance\n",
    "    left_term = np.dot(x_minus_mu, inv_covmat) \n",
    "    mahal = np.dot(left_term, x_minus_mu.T)\n",
    "    md = np.sqrt(mahal.diagonal())\n",
    "    \n",
    "    #Flag as outlier\n",
    "    outlier = []\n",
    "    #Cut-off point\n",
    "    C = np.sqrt(chi2.ppf((1-0.001), df=df.shape[1]))    #degrees of freedom = number of variables\n",
    "    for index, value in enumerate(md):\n",
    "        if value > C:\n",
    "            outlier.append(index)\n",
    "        else:\n",
    "            continue\n",
    "    return outlier, md\n",
    "\n"
   ]
  },
  {
   "cell_type": "code",
   "execution_count": 25,
   "metadata": {},
   "outputs": [
    {
     "name": "stdout",
     "output_type": "stream",
     "text": [
      "[380, 398, 404, 405, 410, 414, 418, 427]\n"
     ]
    }
   ],
   "source": [
    "outliers_mahal_bi, md_bi = mahalanobis_method(df=df_bivariate) # analizando [\"LSTAT\", \"CRIM\"]\n",
    "\n",
    "print(outliers_mahal_bi)  # outliers\n",
    "#print(md_bi) # distancias"
   ]
  },
  {
   "cell_type": "code",
   "execution_count": 26,
   "metadata": {},
   "outputs": [
    {
     "name": "stdout",
     "output_type": "stream",
     "text": [
      "[152, 155, 214, 353, 364, 365, 367, 380, 405, 410, 414, 418, 488, 489, 490, 491, 492]\n"
     ]
    }
   ],
   "source": [
    "# Aplicado a todo el datasset\n",
    "outliers_mahal, md = mahalanobis_method(df=df.iloc[:, range(13)]) # de las columnas normales\n",
    "print(outliers_mahal)\n",
    "\n",
    "#Forma recomendada para filtrar los valores atípicos.\n"
   ]
  },
  {
   "cell_type": "markdown",
   "metadata": {},
   "source": [
    "Usando la distancia de Mahalanobis, podemos ver que 8 observaciones están marcadas como valores atípicos bivariados. Al incluir todas las variables del conjunto de datos de Boston (gl = 13), detectamos 17 valores atípicos multivariados.\n",
    "\n",
    "La observación 398 en el subconjunto de dos variables, es un valor atípico. Sin embargo, al considerar el conjunto de datos completo, no lo es. Por lo tanto, cuando ejecutamos nuestro propio proyecto de ciencia de datos, debemos asegurarnos de incluir solo variables que sean interesantes para su análisis posterior. De lo contrario, algunas observaciones pueden marcarse como valores atípicos debido a una variable irrelevante.\n",
    "\n",
    "Un <b> inconveniente del MD es que usa la media aritmética y la matriz de covarianza</b> y, con eso, es muy sensible a los valores atípicos en los datos. Existen varios métodos que utilizan estimaciones robustas para µ y C. Para evitar esos problemas podemos utilizar el método del determinante de covarianza mínimo (MCD)."
   ]
  },
  {
   "cell_type": "markdown",
   "metadata": {},
   "source": [
    "- Robust Mahalanobis Distance (MCD) ******* <b> Recomenda para cualquier datasets:</b>\n",
    "\n",
    "El método de determinante de covarianza mínima (MCD) proporciona estimaciones sólidas para µ y C utilizando solo un subconjunto de la muestra. \n",
    "\n",
    "sklearn de Python incluye una función para ajustar el MCD a cualquier conjunto de datos. "
   ]
  },
  {
   "cell_type": "code",
   "execution_count": 137,
   "metadata": {},
   "outputs": [
    {
     "ename": "SyntaxError",
     "evalue": "invalid syntax (sp.py, line 68)",
     "output_type": "error",
     "traceback": [
      "Traceback \u001b[1;36m(most recent call last)\u001b[0m:\n",
      "  File \u001b[0;32m\"c:\\users\\wow80\\appdata\\local\\programs\\python\\python39\\lib\\site-packages\\IPython\\core\\interactiveshell.py\"\u001b[0m, line \u001b[0;32m3441\u001b[0m, in \u001b[0;35mrun_code\u001b[0m\n    exec(code_obj, self.user_global_ns, self.user_ns)\n",
      "\u001b[1;36m  File \u001b[1;32m\"<ipython-input-137-e79dc90e131a>\"\u001b[1;36m, line \u001b[1;32m5\u001b[1;36m, in \u001b[1;35m<module>\u001b[1;36m\u001b[0m\n\u001b[1;33m    import sp\u001b[0m\n",
      "\u001b[1;36m  File \u001b[1;32m\"c:\\users\\wow80\\appdata\\local\\programs\\python\\python39\\lib\\site-packages\\sp.py\"\u001b[1;36m, line \u001b[1;32m68\u001b[0m\n\u001b[1;33m    except InvalidThresholdMultiplierError, e:\u001b[0m\n\u001b[1;37m                                          ^\u001b[0m\n\u001b[1;31mSyntaxError\u001b[0m\u001b[1;31m:\u001b[0m invalid syntax\n"
     ]
    }
   ],
   "source": [
    "#Robust Mahalonibis Distance\n",
    "\n",
    "from sklearn.covariance import MinCovDet\n",
    "import scipy\n",
    "import sp\n",
    "\n",
    "\n",
    "def robust_mahalanobis_method(df):\n",
    "    #Minimum covariance determinant\n",
    "    rng = np.random.RandomState(0)\n",
    "    real_cov = np.cov(df.values.T)\n",
    "    X = rng.multivariate_normal(mean=np.mean(df, axis=0), cov=real_cov, size=506)\n",
    "    cov = MinCovDet(random_state=0).fit(X)\n",
    "    mcd = cov.covariance_ #robust covariance metric\n",
    "    robust_mean = cov.location_  #robust mean\n",
    "    inv_covmat = sp.linalg.inv(mcd) #inverse covariance metric\n",
    "    \n",
    "    #Robust M-Distance\n",
    "    x_minus_mu = df - robust_mean\n",
    "    left_term = np.dot(x_minus_mu, inv_covmat)\n",
    "    mahal = np.dot(left_term, x_minus_mu.T)\n",
    "    md = np.sqrt(mahal.diagonal())\n",
    "    \n",
    "    #Flag as outlier\n",
    "    outlier = []\n",
    "    C = np.sqrt(chi2.ppf((1-0.001), df=df.shape[1]))#degrees of freedom = number of variables\n",
    "    for index, value in enumerate(md):\n",
    "        if value > C:\n",
    "            outlier.append(index)\n",
    "        else:\n",
    "            continue\n",
    "    return outlier, md\n"
   ]
  },
  {
   "cell_type": "code",
   "execution_count": 28,
   "metadata": {},
   "outputs": [
    {
     "data": {
      "text/plain": [
       "[141, 380, 398, 404, 405, 410, 414, 418, 427]"
      ]
     },
     "execution_count": 28,
     "metadata": {},
     "output_type": "execute_result"
    }
   ],
   "source": [
    "outliers_mahal_rob_bi, md_rb_bi = robust_mahalanobis_method(df=df_bivariate)\n",
    "#[141, 374, 380, 398, 404, 405, 410, 414, 418, 427]\n",
    "\n",
    "outliers_mahal_rob_bi"
   ]
  },
  {
   "cell_type": "code",
   "execution_count": 29,
   "metadata": {},
   "outputs": [
    {
     "data": {
      "text/plain": [
       "[123,\n",
       " 126,\n",
       " 142,\n",
       " 152,\n",
       " 155,\n",
       " 163,\n",
       " 214,\n",
       " 283,\n",
       " 353,\n",
       " 364,\n",
       " 365,\n",
       " 367,\n",
       " 380,\n",
       " 405,\n",
       " 410,\n",
       " 418,\n",
       " 488,\n",
       " 489,\n",
       " 490,\n",
       " 491,\n",
       " 492]"
      ]
     },
     "execution_count": 29,
     "metadata": {},
     "output_type": "execute_result"
    }
   ],
   "source": [
    "# Para todas las variables:\n",
    "\n",
    "outliers_mahal_rob, md_rb = robust_mahalanobis_method(df=df.iloc[:, range(13)])\n",
    "\n",
    "outliers_mahal_rob\n"
   ]
  },
  {
   "cell_type": "markdown",
   "metadata": {},
   "source": [
    "Podemos ver que el MD robusto encuentra algunos valores atípicos más que el MD clásico. 10 valores atípicos bivariados para el ejemplo del conjunto de datos 2D y 21 valores atípicos multivariados al considerar todas las características del conjunto de datos de Boston.\n",
    "\n",
    "Los dos gráficos a continuación (basados en el ejemplo del conjunto de datos 2D) ayudan a visualizar la diferencia entre la medición de distancia clásica (izquierda) y robusta (derecha):"
   ]
  },
  {
   "cell_type": "code",
   "execution_count": 30,
   "metadata": {},
   "outputs": [],
   "source": [
    "# Visualización\n",
    "\n",
    "import copy\n",
    "\n",
    "#You need deep copy otherwise cannot \n",
    "#add column to a slice of a DataFrame\n",
    "df_bi_cp = copy.deepcopy(df_bivariate) \n",
    "\n",
    "#Add md and robust md to copy of dataframe\n",
    "df_bi_cp['md'] = md_bi\n",
    "df_bi_cp['md_robust'] = md_rb_bi\n",
    "\n",
    "def flag_outliers(df, outliers):\n",
    "    flag = []\n",
    "    for index in range(df.shape[0]):\n",
    "        if index in outliers:\n",
    "            flag.append(1)\n",
    "        else:\n",
    "            flag.append(0)\n",
    "    return flag\n",
    "\n",
    "#Flag outliers with 1, others with 0\n",
    "df_bi_cp['flag'] = flag_outliers(df_bivariate, outliers_mahal_bi)\n",
    "df_bi_cp['flag_rob'] = flag_outliers(df_bivariate, outliers_mahal_rob_bi)\n"
   ]
  },
  {
   "cell_type": "code",
   "execution_count": 31,
   "metadata": {},
   "outputs": [
    {
     "name": "stderr",
     "output_type": "stream",
     "text": [
      "c:\\users\\wow80\\appdata\\local\\programs\\python\\python39\\lib\\site-packages\\seaborn\\relational.py:651: UserWarning: You passed a edgecolor/edgecolors ('w') for an unfilled marker ('x').  Matplotlib is ignoring the edgecolor in favor of the facecolor.  This behavior may change in the future.\n",
      "  points = ax.scatter(*args, **kws)\n"
     ]
    },
    {
     "data": {
      "image/png": "[encoded data removed]",
      "text/plain": [
       "<Figure size 432x288 with 1 Axes>"
      ]
     },
     "metadata": {
      "needs_background": "light"
     },
     "output_type": "display_data"
    }
   ],
   "source": [
    "#MD classic\n",
    "ax = sns.scatterplot(x=\"LSTAT\", y=\"CRIM\", hue='flag', data=df_bi_cp)\n",
    "#MD robust\n",
    "ax = sns.scatterplot(x=\"LSTAT\", y=\"CRIM\", hue='flag_rob', marker = 'x', data=df_bi_cp)"
   ]
  },
  {
   "cell_type": "markdown",
   "metadata": {},
   "source": [
    "Además de los valores atípicos univariados, también es importante examinar un conjunto de datos subyacentes en busca de valores atípicos multivariados. Ambos tipos de valores atípicos pueden afectar significativamente los resultados de un análisis de datos o proyectos de aprendizaje automático. \n",
    "\n",
    "\n",
    "Existen varias otras formas de detectar valores atípicos univariados y multivariados, como los k vecinos más cercanos o DBSCAN. No existe un método correcto o incorrecto, pero uno podría ser más apropiado que otro para un determinado conjunto de datos.\n",
    "\n"
   ]
  },
  {
   "cell_type": "markdown",
   "metadata": {},
   "source": [
    "#### Cálculo estadístico mediante spacy"
   ]
  },
  {
   "cell_type": "code",
   "execution_count": 32,
   "metadata": {},
   "outputs": [
    {
     "name": "stdout",
     "output_type": "stream",
     "text": [
      "(array([ 55,  56,  57, 102, 141, 142, 152, 154, 155, 160, 162, 163, 199,\n",
      "       200, 201, 202, 203, 204, 208, 209, 210, 211, 212, 216, 218, 219,\n",
      "       220, 221, 222, 225, 234, 236, 256, 257, 262, 269, 273, 274, 276,\n",
      "       277, 282, 283, 283, 284, 347, 351, 352, 353, 353, 354, 355, 356,\n",
      "       357, 358, 363, 364, 364, 365, 367, 369, 370, 372, 373, 374, 374,\n",
      "       380, 380, 380, 398, 398, 404, 404, 405, 405, 405, 406, 410, 410,\n",
      "       410, 410, 411, 412, 412, 414, 414, 414, 415, 416, 418, 418, 418,\n",
      "       418, 419, 423, 424, 425, 426, 427, 427, 427, 429, 431, 436, 437,\n",
      "       438, 445, 450, 454, 455, 456, 457, 466], dtype=int64), array([ 1,  1,  1, 11, 12,  3,  3,  3,  3,  3,  3,  3,  1,  1,  1,  1,  1,\n",
      "        1,  3,  3,  3,  3,  3,  3,  3,  3,  3,  3,  3,  5,  3,  3,  1,  5,\n",
      "        5,  3,  3,  3,  3,  3,  3,  1,  3,  1,  1,  7,  7,  1,  7,  7,  7,\n",
      "        3,  3,  3,  3,  3,  5,  5,  5,  3,  3,  3, 12,  5, 12,  0, 13, 14,\n",
      "        0, 13,  0, 13,  0, 13, 14,  5,  0, 11, 13, 14, 11, 11, 12,  0, 12,\n",
      "       13, 11, 11,  0, 11, 13, 14, 11, 11, 11, 11, 11,  0, 11, 13, 11, 11,\n",
      "       11, 11, 11, 11, 11, 11, 11, 11, 11, 11], dtype=int64))\n",
      "90.0\n"
     ]
    }
   ],
   "source": [
    "# Cálculo estadístico mediante spacy. Todas las variables\n",
    "\n",
    "from scipy import stats\n",
    "import numpy as np\n",
    "\n",
    "z = np.abs(stats.zscore(df))\n",
    "\n",
    "threshold = 3\n",
    "print(np.where(z > threshold))\n",
    "\n",
    "\n",
    "print(df.iloc[55, 1]) # observación 55, columna 1"
   ]
  },
  {
   "cell_type": "code",
   "execution_count": 33,
   "metadata": {},
   "outputs": [
    {
     "data": {
      "text/plain": [
       "505      0.0\n",
       "439      0.0\n",
       "440      0.0\n",
       "441      0.0\n",
       "442      0.0\n",
       "       ...  \n",
       "203     95.0\n",
       "200     95.0\n",
       "199     95.0\n",
       "204     95.0\n",
       "57     100.0\n",
       "Name: ZN, Length: 506, dtype: float64"
      ]
     },
     "execution_count": 33,
     "metadata": {},
     "output_type": "execute_result"
    }
   ],
   "source": [
    "df['ZN'][55]\n",
    "\n",
    "df['ZN'].sort_values()"
   ]
  },
  {
   "cell_type": "markdown",
   "metadata": {},
   "source": [
    "## Tratamiento de valores atípicos: corregir/eliminar\n",
    "\n",
    "Ahora que sabemos cómo detectar los valores atípicos, es importante comprender si es necesario eliminarlos o corregirlos.\n",
    "\n",
    "<b> Z-score </b>\n",
    "\n",
    "Una vez que se han detectado los valores atípicos utilizando z-score, podemos eliminarlos o filtrar los valores atípicos y obtener los datos limpios. "
   ]
  },
  {
   "cell_type": "code",
   "execution_count": 119,
   "metadata": {},
   "outputs": [
    {
     "data": {
      "text/html": [
       "<div>\n",
       "<style scoped>\n",
       "    .dataframe tbody tr th:only-of-type {\n",
       "        vertical-align: middle;\n",
       "    }\n",
       "\n",
       "    .dataframe tbody tr th {\n",
       "        vertical-align: top;\n",
       "    }\n",
       "\n",
       "    .dataframe thead th {\n",
       "        text-align: right;\n",
       "    }\n",
       "</style>\n",
       "<table border=\"1\" class=\"dataframe\">\n",
       "  <thead>\n",
       "    <tr style=\"text-align: right;\">\n",
       "      <th></th>\n",
       "      <th>CRIM</th>\n",
       "      <th>ZN</th>\n",
       "      <th>INDUS</th>\n",
       "      <th>CHAS</th>\n",
       "      <th>NOX</th>\n",
       "      <th>RM</th>\n",
       "      <th>AGE</th>\n",
       "      <th>DIS</th>\n",
       "      <th>RAD</th>\n",
       "      <th>TAX</th>\n",
       "      <th>PTRATIO</th>\n",
       "      <th>B</th>\n",
       "      <th>LSTAT</th>\n",
       "      <th>CRIM_man</th>\n",
       "      <th>CRIM_log</th>\n",
       "    </tr>\n",
       "  </thead>\n",
       "  <tbody>\n",
       "    <tr>\n",
       "      <th>0</th>\n",
       "      <td>0.00632</td>\n",
       "      <td>18.0</td>\n",
       "      <td>2.31</td>\n",
       "      <td>0.0</td>\n",
       "      <td>0.538</td>\n",
       "      <td>6.575</td>\n",
       "      <td>65.2</td>\n",
       "      <td>4.0900</td>\n",
       "      <td>1.0</td>\n",
       "      <td>296.0</td>\n",
       "      <td>15.3</td>\n",
       "      <td>396.90</td>\n",
       "      <td>4.98</td>\n",
       "      <td>1.00632</td>\n",
       "      <td>0.006300</td>\n",
       "    </tr>\n",
       "    <tr>\n",
       "      <th>1</th>\n",
       "      <td>0.02731</td>\n",
       "      <td>0.0</td>\n",
       "      <td>7.07</td>\n",
       "      <td>0.0</td>\n",
       "      <td>0.469</td>\n",
       "      <td>6.421</td>\n",
       "      <td>78.9</td>\n",
       "      <td>4.9671</td>\n",
       "      <td>2.0</td>\n",
       "      <td>242.0</td>\n",
       "      <td>17.8</td>\n",
       "      <td>396.90</td>\n",
       "      <td>9.14</td>\n",
       "      <td>1.02731</td>\n",
       "      <td>0.026944</td>\n",
       "    </tr>\n",
       "    <tr>\n",
       "      <th>2</th>\n",
       "      <td>0.02729</td>\n",
       "      <td>0.0</td>\n",
       "      <td>7.07</td>\n",
       "      <td>0.0</td>\n",
       "      <td>0.469</td>\n",
       "      <td>7.185</td>\n",
       "      <td>61.1</td>\n",
       "      <td>4.9671</td>\n",
       "      <td>2.0</td>\n",
       "      <td>242.0</td>\n",
       "      <td>17.8</td>\n",
       "      <td>392.83</td>\n",
       "      <td>4.03</td>\n",
       "      <td>1.02729</td>\n",
       "      <td>0.026924</td>\n",
       "    </tr>\n",
       "    <tr>\n",
       "      <th>3</th>\n",
       "      <td>0.03237</td>\n",
       "      <td>0.0</td>\n",
       "      <td>2.18</td>\n",
       "      <td>0.0</td>\n",
       "      <td>0.458</td>\n",
       "      <td>6.998</td>\n",
       "      <td>45.8</td>\n",
       "      <td>6.0622</td>\n",
       "      <td>3.0</td>\n",
       "      <td>222.0</td>\n",
       "      <td>18.7</td>\n",
       "      <td>394.63</td>\n",
       "      <td>2.94</td>\n",
       "      <td>1.03237</td>\n",
       "      <td>0.031857</td>\n",
       "    </tr>\n",
       "    <tr>\n",
       "      <th>4</th>\n",
       "      <td>0.06905</td>\n",
       "      <td>0.0</td>\n",
       "      <td>2.18</td>\n",
       "      <td>0.0</td>\n",
       "      <td>0.458</td>\n",
       "      <td>7.147</td>\n",
       "      <td>54.2</td>\n",
       "      <td>6.0622</td>\n",
       "      <td>3.0</td>\n",
       "      <td>222.0</td>\n",
       "      <td>18.7</td>\n",
       "      <td>396.90</td>\n",
       "      <td>5.33</td>\n",
       "      <td>1.06905</td>\n",
       "      <td>0.066770</td>\n",
       "    </tr>\n",
       "    <tr>\n",
       "      <th>...</th>\n",
       "      <td>...</td>\n",
       "      <td>...</td>\n",
       "      <td>...</td>\n",
       "      <td>...</td>\n",
       "      <td>...</td>\n",
       "      <td>...</td>\n",
       "      <td>...</td>\n",
       "      <td>...</td>\n",
       "      <td>...</td>\n",
       "      <td>...</td>\n",
       "      <td>...</td>\n",
       "      <td>...</td>\n",
       "      <td>...</td>\n",
       "      <td>...</td>\n",
       "      <td>...</td>\n",
       "    </tr>\n",
       "    <tr>\n",
       "      <th>501</th>\n",
       "      <td>0.06263</td>\n",
       "      <td>0.0</td>\n",
       "      <td>11.93</td>\n",
       "      <td>0.0</td>\n",
       "      <td>0.573</td>\n",
       "      <td>6.593</td>\n",
       "      <td>69.1</td>\n",
       "      <td>2.4786</td>\n",
       "      <td>1.0</td>\n",
       "      <td>273.0</td>\n",
       "      <td>21.0</td>\n",
       "      <td>391.99</td>\n",
       "      <td>9.67</td>\n",
       "      <td>1.06263</td>\n",
       "      <td>0.060747</td>\n",
       "    </tr>\n",
       "    <tr>\n",
       "      <th>502</th>\n",
       "      <td>0.04527</td>\n",
       "      <td>0.0</td>\n",
       "      <td>11.93</td>\n",
       "      <td>0.0</td>\n",
       "      <td>0.573</td>\n",
       "      <td>6.120</td>\n",
       "      <td>76.7</td>\n",
       "      <td>2.2875</td>\n",
       "      <td>1.0</td>\n",
       "      <td>273.0</td>\n",
       "      <td>21.0</td>\n",
       "      <td>396.90</td>\n",
       "      <td>9.08</td>\n",
       "      <td>1.04527</td>\n",
       "      <td>0.044275</td>\n",
       "    </tr>\n",
       "    <tr>\n",
       "      <th>503</th>\n",
       "      <td>0.06076</td>\n",
       "      <td>0.0</td>\n",
       "      <td>11.93</td>\n",
       "      <td>0.0</td>\n",
       "      <td>0.573</td>\n",
       "      <td>6.976</td>\n",
       "      <td>91.0</td>\n",
       "      <td>2.1675</td>\n",
       "      <td>1.0</td>\n",
       "      <td>273.0</td>\n",
       "      <td>21.0</td>\n",
       "      <td>396.90</td>\n",
       "      <td>5.64</td>\n",
       "      <td>1.06076</td>\n",
       "      <td>0.058986</td>\n",
       "    </tr>\n",
       "    <tr>\n",
       "      <th>504</th>\n",
       "      <td>0.10959</td>\n",
       "      <td>0.0</td>\n",
       "      <td>11.93</td>\n",
       "      <td>0.0</td>\n",
       "      <td>0.573</td>\n",
       "      <td>6.794</td>\n",
       "      <td>89.3</td>\n",
       "      <td>2.3889</td>\n",
       "      <td>1.0</td>\n",
       "      <td>273.0</td>\n",
       "      <td>21.0</td>\n",
       "      <td>393.45</td>\n",
       "      <td>6.48</td>\n",
       "      <td>1.10959</td>\n",
       "      <td>0.103991</td>\n",
       "    </tr>\n",
       "    <tr>\n",
       "      <th>505</th>\n",
       "      <td>0.04741</td>\n",
       "      <td>0.0</td>\n",
       "      <td>11.93</td>\n",
       "      <td>0.0</td>\n",
       "      <td>0.573</td>\n",
       "      <td>6.030</td>\n",
       "      <td>80.8</td>\n",
       "      <td>2.5050</td>\n",
       "      <td>1.0</td>\n",
       "      <td>273.0</td>\n",
       "      <td>21.0</td>\n",
       "      <td>396.90</td>\n",
       "      <td>7.88</td>\n",
       "      <td>1.04741</td>\n",
       "      <td>0.046320</td>\n",
       "    </tr>\n",
       "  </tbody>\n",
       "</table>\n",
       "<p>415 rows × 15 columns</p>\n",
       "</div>"
      ],
      "text/plain": [
       "        CRIM    ZN  INDUS  CHAS    NOX     RM   AGE     DIS  RAD    TAX  \\\n",
       "0    0.00632  18.0   2.31   0.0  0.538  6.575  65.2  4.0900  1.0  296.0   \n",
       "1    0.02731   0.0   7.07   0.0  0.469  6.421  78.9  4.9671  2.0  242.0   \n",
       "2    0.02729   0.0   7.07   0.0  0.469  7.185  61.1  4.9671  2.0  242.0   \n",
       "3    0.03237   0.0   2.18   0.0  0.458  6.998  45.8  6.0622  3.0  222.0   \n",
       "4    0.06905   0.0   2.18   0.0  0.458  7.147  54.2  6.0622  3.0  222.0   \n",
       "..       ...   ...    ...   ...    ...    ...   ...     ...  ...    ...   \n",
       "501  0.06263   0.0  11.93   0.0  0.573  6.593  69.1  2.4786  1.0  273.0   \n",
       "502  0.04527   0.0  11.93   0.0  0.573  6.120  76.7  2.2875  1.0  273.0   \n",
       "503  0.06076   0.0  11.93   0.0  0.573  6.976  91.0  2.1675  1.0  273.0   \n",
       "504  0.10959   0.0  11.93   0.0  0.573  6.794  89.3  2.3889  1.0  273.0   \n",
       "505  0.04741   0.0  11.93   0.0  0.573  6.030  80.8  2.5050  1.0  273.0   \n",
       "\n",
       "     PTRATIO       B  LSTAT  CRIM_man  CRIM_log  \n",
       "0       15.3  396.90   4.98   1.00632  0.006300  \n",
       "1       17.8  396.90   9.14   1.02731  0.026944  \n",
       "2       17.8  392.83   4.03   1.02729  0.026924  \n",
       "3       18.7  394.63   2.94   1.03237  0.031857  \n",
       "4       18.7  396.90   5.33   1.06905  0.066770  \n",
       "..       ...     ...    ...       ...       ...  \n",
       "501     21.0  391.99   9.67   1.06263  0.060747  \n",
       "502     21.0  396.90   9.08   1.04527  0.044275  \n",
       "503     21.0  396.90   5.64   1.06076  0.058986  \n",
       "504     21.0  393.45   6.48   1.10959  0.103991  \n",
       "505     21.0  396.90   7.88   1.04741  0.046320  \n",
       "\n",
       "[415 rows x 15 columns]"
      ]
     },
     "execution_count": 119,
     "metadata": {},
     "output_type": "execute_result"
    }
   ],
   "source": [
    "# Eliminar las observaciones con valores los valores atípicos.\n",
    "\n",
    "z = np.abs(stats.zscore(df))\n",
    "\n",
    "#########################\n",
    "for i in listaOutliers:\n",
    "    df_o = df[(z < i).all(axis=1)]\n",
    "    df_o"
   ]
  },
  {
   "cell_type": "code",
   "execution_count": 35,
   "metadata": {},
   "outputs": [
    {
     "data": {
      "text/plain": [
       "(506, 15)"
      ]
     },
     "execution_count": 35,
     "metadata": {},
     "output_type": "execute_result"
    }
   ],
   "source": [
    "df_o.shape # (415, 15)\n",
    "\n",
    "df.shape # (506, 15)"
   ]
  },
  {
   "cell_type": "markdown",
   "metadata": {},
   "source": [
    "## ¿Qué acciones tomar? \n",
    "\n",
    "Determinar la razón: \n",
    "\n",
    "- Utilizar métodos de detección de valores atípicos univariados (boxplot, <b>Turkey</b>, z-score): Para determinar errores en valores individuales. Si se trata de datos incorrectos o cálculos incorrectos, estos pueden identificarse como valores atípicos y deben eliminarse/corregirse en caso de poder conocer el valor real. \n",
    "\n",
    "- Utilizar la métrica de <b>distancia de Mahalanobis robusta</b> para encontrar outliers que afectan a todo el dataset (o utilizar scatter plot cuando tratemos 2 variables). Y luego si es que vamos a utilizar un método de análisis robusto (no es afectado por valores atípicos) conservamos los valores atípicos. Caso contrario, es mejor filtrar las observaciones que tienen valores atípicos.\n",
    "\n"
   ]
  },
  {
   "cell_type": "markdown",
   "metadata": {},
   "source": [
    "# Análisis de Outliers con World Happines Dataset"
   ]
  },
  {
   "cell_type": "code",
   "execution_count": 93,
   "metadata": {},
   "outputs": [
    {
     "data": {
      "text/html": [
       "<div>\n",
       "<style scoped>\n",
       "    .dataframe tbody tr th:only-of-type {\n",
       "        vertical-align: middle;\n",
       "    }\n",
       "\n",
       "    .dataframe tbody tr th {\n",
       "        vertical-align: top;\n",
       "    }\n",
       "\n",
       "    .dataframe thead th {\n",
       "        text-align: right;\n",
       "    }\n",
       "</style>\n",
       "<table border=\"1\" class=\"dataframe\">\n",
       "  <thead>\n",
       "    <tr style=\"text-align: right;\">\n",
       "      <th></th>\n",
       "      <th>country_name</th>\n",
       "      <th>year</th>\n",
       "      <th>life_Ladder</th>\n",
       "      <th>gdp_per_capita</th>\n",
       "      <th>social_supp</th>\n",
       "      <th>healthy_life_expectancy_at_birth</th>\n",
       "      <th>freedom_to_make_life_choices</th>\n",
       "      <th>Generosity</th>\n",
       "      <th>percept_of_corruption</th>\n",
       "      <th>postve_affect</th>\n",
       "      <th>negtve_affect</th>\n",
       "      <th>country</th>\n",
       "    </tr>\n",
       "  </thead>\n",
       "  <tbody>\n",
       "    <tr>\n",
       "      <th>0</th>\n",
       "      <td>1</td>\n",
       "      <td>2008</td>\n",
       "      <td>3.724</td>\n",
       "      <td>7.370</td>\n",
       "      <td>0.451</td>\n",
       "      <td>50.80</td>\n",
       "      <td>0.718</td>\n",
       "      <td>0.168</td>\n",
       "      <td>0.882</td>\n",
       "      <td>0.518</td>\n",
       "      <td>0.258</td>\n",
       "      <td>Afghanistan</td>\n",
       "    </tr>\n",
       "    <tr>\n",
       "      <th>1</th>\n",
       "      <td>1</td>\n",
       "      <td>2009</td>\n",
       "      <td>4.402</td>\n",
       "      <td>7.540</td>\n",
       "      <td>0.552</td>\n",
       "      <td>51.20</td>\n",
       "      <td>0.679</td>\n",
       "      <td>0.190</td>\n",
       "      <td>0.850</td>\n",
       "      <td>0.584</td>\n",
       "      <td>0.237</td>\n",
       "      <td>Afghanistan</td>\n",
       "    </tr>\n",
       "    <tr>\n",
       "      <th>2</th>\n",
       "      <td>1</td>\n",
       "      <td>2010</td>\n",
       "      <td>4.758</td>\n",
       "      <td>7.647</td>\n",
       "      <td>0.539</td>\n",
       "      <td>51.60</td>\n",
       "      <td>0.600</td>\n",
       "      <td>0.121</td>\n",
       "      <td>0.707</td>\n",
       "      <td>0.618</td>\n",
       "      <td>0.275</td>\n",
       "      <td>Afghanistan</td>\n",
       "    </tr>\n",
       "    <tr>\n",
       "      <th>3</th>\n",
       "      <td>1</td>\n",
       "      <td>2011</td>\n",
       "      <td>3.832</td>\n",
       "      <td>7.620</td>\n",
       "      <td>0.521</td>\n",
       "      <td>51.92</td>\n",
       "      <td>0.496</td>\n",
       "      <td>0.162</td>\n",
       "      <td>0.731</td>\n",
       "      <td>0.611</td>\n",
       "      <td>0.267</td>\n",
       "      <td>Afghanistan</td>\n",
       "    </tr>\n",
       "    <tr>\n",
       "      <th>4</th>\n",
       "      <td>1</td>\n",
       "      <td>2012</td>\n",
       "      <td>3.783</td>\n",
       "      <td>7.705</td>\n",
       "      <td>0.521</td>\n",
       "      <td>52.24</td>\n",
       "      <td>0.531</td>\n",
       "      <td>0.236</td>\n",
       "      <td>0.776</td>\n",
       "      <td>0.710</td>\n",
       "      <td>0.268</td>\n",
       "      <td>Afghanistan</td>\n",
       "    </tr>\n",
       "    <tr>\n",
       "      <th>...</th>\n",
       "      <td>...</td>\n",
       "      <td>...</td>\n",
       "      <td>...</td>\n",
       "      <td>...</td>\n",
       "      <td>...</td>\n",
       "      <td>...</td>\n",
       "      <td>...</td>\n",
       "      <td>...</td>\n",
       "      <td>...</td>\n",
       "      <td>...</td>\n",
       "      <td>...</td>\n",
       "      <td>...</td>\n",
       "    </tr>\n",
       "    <tr>\n",
       "      <th>1944</th>\n",
       "      <td>166</td>\n",
       "      <td>2016</td>\n",
       "      <td>3.735</td>\n",
       "      <td>7.984</td>\n",
       "      <td>0.768</td>\n",
       "      <td>54.40</td>\n",
       "      <td>0.733</td>\n",
       "      <td>-0.095</td>\n",
       "      <td>0.724</td>\n",
       "      <td>0.738</td>\n",
       "      <td>0.209</td>\n",
       "      <td>Zimbabwe</td>\n",
       "    </tr>\n",
       "    <tr>\n",
       "      <th>1945</th>\n",
       "      <td>166</td>\n",
       "      <td>2017</td>\n",
       "      <td>3.638</td>\n",
       "      <td>8.016</td>\n",
       "      <td>0.754</td>\n",
       "      <td>55.00</td>\n",
       "      <td>0.753</td>\n",
       "      <td>-0.098</td>\n",
       "      <td>0.751</td>\n",
       "      <td>0.806</td>\n",
       "      <td>0.224</td>\n",
       "      <td>Zimbabwe</td>\n",
       "    </tr>\n",
       "    <tr>\n",
       "      <th>1946</th>\n",
       "      <td>166</td>\n",
       "      <td>2018</td>\n",
       "      <td>3.616</td>\n",
       "      <td>8.049</td>\n",
       "      <td>0.775</td>\n",
       "      <td>55.60</td>\n",
       "      <td>0.763</td>\n",
       "      <td>-0.068</td>\n",
       "      <td>0.844</td>\n",
       "      <td>0.710</td>\n",
       "      <td>0.212</td>\n",
       "      <td>Zimbabwe</td>\n",
       "    </tr>\n",
       "    <tr>\n",
       "      <th>1947</th>\n",
       "      <td>166</td>\n",
       "      <td>2019</td>\n",
       "      <td>2.694</td>\n",
       "      <td>7.950</td>\n",
       "      <td>0.759</td>\n",
       "      <td>56.20</td>\n",
       "      <td>0.632</td>\n",
       "      <td>-0.064</td>\n",
       "      <td>0.831</td>\n",
       "      <td>0.716</td>\n",
       "      <td>0.235</td>\n",
       "      <td>Zimbabwe</td>\n",
       "    </tr>\n",
       "    <tr>\n",
       "      <th>1948</th>\n",
       "      <td>166</td>\n",
       "      <td>2020</td>\n",
       "      <td>3.160</td>\n",
       "      <td>7.829</td>\n",
       "      <td>0.717</td>\n",
       "      <td>56.80</td>\n",
       "      <td>0.643</td>\n",
       "      <td>-0.009</td>\n",
       "      <td>0.789</td>\n",
       "      <td>0.703</td>\n",
       "      <td>0.346</td>\n",
       "      <td>Zimbabwe</td>\n",
       "    </tr>\n",
       "  </tbody>\n",
       "</table>\n",
       "<p>1949 rows × 12 columns</p>\n",
       "</div>"
      ],
      "text/plain": [
       "      country_name  year  life_Ladder  gdp_per_capita  social_supp  \\\n",
       "0                1  2008        3.724           7.370        0.451   \n",
       "1                1  2009        4.402           7.540        0.552   \n",
       "2                1  2010        4.758           7.647        0.539   \n",
       "3                1  2011        3.832           7.620        0.521   \n",
       "4                1  2012        3.783           7.705        0.521   \n",
       "...            ...   ...          ...             ...          ...   \n",
       "1944           166  2016        3.735           7.984        0.768   \n",
       "1945           166  2017        3.638           8.016        0.754   \n",
       "1946           166  2018        3.616           8.049        0.775   \n",
       "1947           166  2019        2.694           7.950        0.759   \n",
       "1948           166  2020        3.160           7.829        0.717   \n",
       "\n",
       "      healthy_life_expectancy_at_birth  freedom_to_make_life_choices  \\\n",
       "0                                50.80                         0.718   \n",
       "1                                51.20                         0.679   \n",
       "2                                51.60                         0.600   \n",
       "3                                51.92                         0.496   \n",
       "4                                52.24                         0.531   \n",
       "...                                ...                           ...   \n",
       "1944                             54.40                         0.733   \n",
       "1945                             55.00                         0.753   \n",
       "1946                             55.60                         0.763   \n",
       "1947                             56.20                         0.632   \n",
       "1948                             56.80                         0.643   \n",
       "\n",
       "      Generosity  percept_of_corruption  postve_affect  negtve_affect  \\\n",
       "0          0.168                  0.882          0.518          0.258   \n",
       "1          0.190                  0.850          0.584          0.237   \n",
       "2          0.121                  0.707          0.618          0.275   \n",
       "3          0.162                  0.731          0.611          0.267   \n",
       "4          0.236                  0.776          0.710          0.268   \n",
       "...          ...                    ...            ...            ...   \n",
       "1944      -0.095                  0.724          0.738          0.209   \n",
       "1945      -0.098                  0.751          0.806          0.224   \n",
       "1946      -0.068                  0.844          0.710          0.212   \n",
       "1947      -0.064                  0.831          0.716          0.235   \n",
       "1948      -0.009                  0.789          0.703          0.346   \n",
       "\n",
       "          country  \n",
       "0     Afghanistan  \n",
       "1     Afghanistan  \n",
       "2     Afghanistan  \n",
       "3     Afghanistan  \n",
       "4     Afghanistan  \n",
       "...           ...  \n",
       "1944     Zimbabwe  \n",
       "1945     Zimbabwe  \n",
       "1946     Zimbabwe  \n",
       "1947     Zimbabwe  \n",
       "1948     Zimbabwe  \n",
       "\n",
       "[1949 rows x 12 columns]"
      ]
     },
     "execution_count": 93,
     "metadata": {},
     "output_type": "execute_result"
    }
   ],
   "source": [
    "import pandas as pd\n",
    "d = pd.read_csv('../proyect/kaggle_dataset/happines_decode.csv', encoding='utf-8')\n",
    "d"
   ]
  },
  {
   "cell_type": "code",
   "execution_count": 94,
   "metadata": {},
   "outputs": [],
   "source": [
    "hap = d.copy()"
   ]
  },
  {
   "cell_type": "code",
   "execution_count": 95,
   "metadata": {},
   "outputs": [
    {
     "data": {
      "image/png": "[encoded data removed]",
      "text/plain": [
       "<Figure size 1008x216 with 3 Axes>"
      ]
     },
     "metadata": {
      "needs_background": "light"
     },
     "output_type": "display_data"
    }
   ],
   "source": [
    "fig, axs = plt.subplots(ncols=3, figsize=[14,3])\n",
    "\n",
    "#DIS: This is the weighted distances to five Boston employment centers\n",
    "sns.boxplot(data=hap['gdp_per_capita'], orient=\"h\", ax=axs[0])\n",
    "\n",
    "#This is the proportion of owner-occupied units built prior to 1940\n",
    "sns.boxplot(data=hap['healthy_life_expectancy_at_birth'], orient=\"h\", ax=axs[1])\n",
    "\n",
    "sns.boxplot(data=hap['life_Ladder'], orient=\"h\", ax=axs[2])\n",
    "\n",
    "plt.show()"
   ]
  },
  {
   "cell_type": "code",
   "execution_count": 96,
   "metadata": {},
   "outputs": [
    {
     "data": {
      "image/png": "[encoded data removed]",
      "text/plain": [
       "<Figure size 432x288 with 1 Axes>"
      ]
     },
     "metadata": {
      "needs_background": "light"
     },
     "output_type": "display_data"
    }
   ],
   "source": [
    "df_2 = hap[['social_supp', 'freedom_to_make_life_choices', 'Generosity', 'percept_of_corruption','postve_affect', 'negtve_affect']]\n",
    "\n",
    "\n",
    "ax = sns.boxplot(data=df_2, orient=\"h\", palette=\"Set2\")"
   ]
  },
  {
   "cell_type": "code",
   "execution_count": 97,
   "metadata": {},
   "outputs": [
    {
     "data": {
      "text/plain": [
       "Series([], Name: Generosity, dtype: float64)"
      ]
     },
     "execution_count": 97,
     "metadata": {},
     "output_type": "execute_result"
    }
   ],
   "source": [
    "probb_happ, poss_happ = tukeys_method(hap, 'Generosity')\n",
    "# Cálculo directo de outliers probables:\n",
    "\n",
    "hap['Generosity'][probb_happ].sort_values() # outliers probables\n"
   ]
  },
  {
   "cell_type": "code",
   "execution_count": 98,
   "metadata": {},
   "outputs": [
    {
     "name": "stdout",
     "output_type": "stream",
     "text": [
      "1949\n",
      "36\n"
     ]
    },
    {
     "data": {
      "text/plain": [
       "1717    0.400\n",
       "674     0.401\n",
       "1825    0.403\n",
       "1081    0.404\n",
       "755     0.408\n",
       "590     0.410\n",
       "1080    0.410\n",
       "947     0.416\n",
       "268     0.418\n",
       "684     0.422\n",
       "1714    0.425\n",
       "752     0.438\n",
       "945     0.439\n",
       "589     0.440\n",
       "751     0.448\n",
       "1719    0.456\n",
       "948     0.459\n",
       "1076    0.464\n",
       "1190    0.470\n",
       "756     0.471\n",
       "946     0.478\n",
       "758     0.488\n",
       "1188    0.490\n",
       "757     0.500\n",
       "759     0.512\n",
       "1715    0.525\n",
       "1716    0.536\n",
       "1720    0.553\n",
       "760     0.555\n",
       "1189    0.561\n",
       "1182    0.645\n",
       "1187    0.650\n",
       "1186    0.679\n",
       "1185    0.688\n",
       "1183    0.689\n",
       "1184    0.698\n",
       "Name: Generosity, dtype: float64"
      ]
     },
     "execution_count": 98,
     "metadata": {},
     "output_type": "execute_result"
    }
   ],
   "source": [
    "print(len(hap['Generosity']))\n",
    "print(len(hap['Generosity'][poss_happ]))\n",
    "hap['Generosity'][poss_happ].sort_values() # outliers probables"
   ]
  },
  {
   "cell_type": "code",
   "execution_count": 99,
   "metadata": {},
   "outputs": [
    {
     "name": "stderr",
     "output_type": "stream",
     "text": [
      "c:\\users\\wow80\\appdata\\local\\programs\\python\\python39\\lib\\site-packages\\seaborn\\distributions.py:2557: FutureWarning: `distplot` is a deprecated function and will be removed in a future version. Please adapt your code to use either `displot` (a figure-level function with similar flexibility) or `histplot` (an axes-level function for histograms).\n",
      "  warnings.warn(msg, FutureWarning)\n"
     ]
    },
    {
     "data": {
      "text/plain": [
       "<AxesSubplot:xlabel='Generosity', ylabel='Density'>"
      ]
     },
     "execution_count": 99,
     "metadata": {},
     "output_type": "execute_result"
    },
    {
     "data": {
      "image/png": "[encoded data removed]",
      "text/plain": [
       "<Figure size 432x288 with 1 Axes>"
      ]
     },
     "metadata": {
      "needs_background": "light"
     },
     "output_type": "display_data"
    }
   ],
   "source": [
    "sns.distplot(hap['Generosity'])"
   ]
  },
  {
   "cell_type": "code",
   "execution_count": 100,
   "metadata": {},
   "outputs": [
    {
     "name": "stderr",
     "output_type": "stream",
     "text": [
      "c:\\users\\wow80\\appdata\\local\\programs\\python\\python39\\lib\\site-packages\\pandas\\core\\arraylike.py:358: RuntimeWarning: divide by zero encountered in log\n",
      "  result = getattr(ufunc, method)(*inputs, **kwargs)\n",
      "c:\\users\\wow80\\appdata\\local\\programs\\python\\python39\\lib\\site-packages\\pandas\\core\\arraylike.py:358: RuntimeWarning: invalid value encountered in log\n",
      "  result = getattr(ufunc, method)(*inputs, **kwargs)\n",
      "c:\\users\\wow80\\appdata\\local\\programs\\python\\python39\\lib\\site-packages\\seaborn\\distributions.py:2557: FutureWarning: `distplot` is a deprecated function and will be removed in a future version. Please adapt your code to use either `displot` (a figure-level function with similar flexibility) or `histplot` (an axes-level function for histograms).\n",
      "  warnings.warn(msg, FutureWarning)\n"
     ]
    },
    {
     "data": {
      "text/plain": [
       "<AxesSubplot:xlabel='gen_log', ylabel='Density'>"
      ]
     },
     "execution_count": 100,
     "metadata": {},
     "output_type": "execute_result"
    },
    {
     "data": {
      "image/png": "[encoded data removed]",
      "text/plain": [
       "<Figure size 432x288 with 1 Axes>"
      ]
     },
     "metadata": {
      "needs_background": "light"
     },
     "output_type": "display_data"
    }
   ],
   "source": [
    "#Transformar 'CRIM' a su valor logaritmo: \n",
    "log_CRIM = np.log(hap['Generosity'])\n",
    "hap['gen_man'] = hap['Generosity']+1\n",
    "log_CRIM = np.log(hap['gen_man'])\n",
    "hap['gen_log'] = log_CRIM\n",
    "\n",
    "#Plot\n",
    "sns.distplot(hap['gen_log'])"
   ]
  },
  {
   "cell_type": "markdown",
   "metadata": {},
   "source": [
    "### Cálculo de Outliers en Happines Dataset con Z-Score"
   ]
  },
  {
   "cell_type": "code",
   "execution_count": 101,
   "metadata": {},
   "outputs": [
    {
     "name": "stdout",
     "output_type": "stream",
     "text": [
      "[]\n"
     ]
    },
    {
     "data": {
      "text/plain": [
       "Series([], Name: Generosity, dtype: float64)"
      ]
     },
     "execution_count": 101,
     "metadata": {},
     "output_type": "execute_result"
    }
   ],
   "source": [
    "# Cálculo mediante spacy. Aplicación a una variable\n",
    "\n",
    "from scipy import stats\n",
    "import numpy as np\n",
    "\n",
    "hap_gen = np.abs(stats.zscore(hap.Generosity))  # Cálculo de Gen\n",
    "\n",
    "hap_gen3 = np.where(hap_gen > 3)  # filtrar según el umbral \n",
    "hap_gen3 = list(hap_gen3[0])\n",
    "\n",
    "print(hap_gen3) # index\n",
    "\n",
    "hap[\"Generosity\"][hap_gen3] # índices y valores atípicos de CRIM"
   ]
  },
  {
   "cell_type": "markdown",
   "metadata": {},
   "source": [
    "### Cálculo de Outliers en Happines Dataset con IQR"
   ]
  },
  {
   "cell_type": "code",
   "execution_count": 102,
   "metadata": {},
   "outputs": [
    {
     "name": "stdout",
     "output_type": "stream",
     "text": [
      "0.20400000000000001\n"
     ]
    }
   ],
   "source": [
    "Q1 = hap.Generosity.quantile(0.25)\n",
    "Q3 = hap.Generosity.quantile(0.75)\n",
    "IQR = Q3 - Q1\n",
    "print(IQR)"
   ]
  },
  {
   "cell_type": "code",
   "execution_count": 103,
   "metadata": {},
   "outputs": [
    {
     "name": "stdout",
     "output_type": "stream",
     "text": [
      "0       False\n",
      "1       False\n",
      "2       False\n",
      "3       False\n",
      "4       False\n",
      "        ...  \n",
      "1944    False\n",
      "1945    False\n",
      "1946    False\n",
      "1947    False\n",
      "1948    False\n",
      "Name: Generosity, Length: 1949, dtype: bool\n",
      "0       False\n",
      "1       False\n",
      "2       False\n",
      "3       False\n",
      "4       False\n",
      "        ...  \n",
      "1944    False\n",
      "1945    False\n",
      "1946    False\n",
      "1947    False\n",
      "1948    False\n",
      "Name: Generosity, Length: 1949, dtype: bool\n"
     ]
    }
   ],
   "source": [
    "#El siguiente código dará una salida con algunos valores verdaderos y falsos.\n",
    "# El punto de datos donde tenemos Falso significa que estos valores son válidos,\n",
    "# mientras que Verdadero indica la presencia de un valor atípico.\n",
    "print( hap.Generosity < (Q1 - 1.5 * IQR))\n",
    "print(hap.Generosity > (Q3 + 1.5 * IQR))"
   ]
  },
  {
   "cell_type": "code",
   "execution_count": 104,
   "metadata": {},
   "outputs": [
    {
     "name": "stdout",
     "output_type": "stream",
     "text": [
      "Series([], Name: Generosity, dtype: float64)\n",
      "268     0.418\n",
      "589     0.440\n",
      "590     0.410\n",
      "674     0.401\n",
      "684     0.422\n",
      "751     0.448\n",
      "752     0.438\n",
      "755     0.408\n",
      "756     0.471\n",
      "757     0.500\n",
      "758     0.488\n",
      "759     0.512\n",
      "760     0.555\n",
      "945     0.439\n",
      "946     0.478\n",
      "947     0.416\n",
      "948     0.459\n",
      "1076    0.464\n",
      "1080    0.410\n",
      "1081    0.404\n",
      "1182    0.645\n",
      "1183    0.689\n",
      "1184    0.698\n",
      "1185    0.688\n",
      "1186    0.679\n",
      "1187    0.650\n",
      "1188    0.490\n",
      "1189    0.561\n",
      "1190    0.470\n",
      "1714    0.425\n",
      "1715    0.525\n",
      "1716    0.536\n",
      "1717    0.400\n",
      "1719    0.456\n",
      "1720    0.553\n",
      "1825    0.403\n",
      "Name: Generosity, dtype: float64\n"
     ]
    }
   ],
   "source": [
    "print( hap.Generosity[hap.Generosity < (Q1 - 1.5 * IQR)])\n",
    "print(hap.Generosity[hap.Generosity > (Q3 + 1.5 * IQR)])"
   ]
  },
  {
   "cell_type": "code",
   "execution_count": 105,
   "metadata": {},
   "outputs": [
    {
     "data": {
      "text/html": [
       "<div>\n",
       "<style scoped>\n",
       "    .dataframe tbody tr th:only-of-type {\n",
       "        vertical-align: middle;\n",
       "    }\n",
       "\n",
       "    .dataframe tbody tr th {\n",
       "        vertical-align: top;\n",
       "    }\n",
       "\n",
       "    .dataframe thead th {\n",
       "        text-align: right;\n",
       "    }\n",
       "</style>\n",
       "<table border=\"1\" class=\"dataframe\">\n",
       "  <thead>\n",
       "    <tr style=\"text-align: right;\">\n",
       "      <th></th>\n",
       "      <th>country_name</th>\n",
       "      <th>year</th>\n",
       "      <th>life_Ladder</th>\n",
       "      <th>gdp_per_capita</th>\n",
       "      <th>social_supp</th>\n",
       "      <th>healthy_life_expectancy_at_birth</th>\n",
       "      <th>freedom_to_make_life_choices</th>\n",
       "      <th>Generosity</th>\n",
       "      <th>percept_of_corruption</th>\n",
       "      <th>postve_affect</th>\n",
       "      <th>negtve_affect</th>\n",
       "      <th>country</th>\n",
       "      <th>gen_man</th>\n",
       "      <th>gen_log</th>\n",
       "    </tr>\n",
       "  </thead>\n",
       "  <tbody>\n",
       "    <tr>\n",
       "      <th>0</th>\n",
       "      <td>1</td>\n",
       "      <td>2008</td>\n",
       "      <td>3.724</td>\n",
       "      <td>7.370</td>\n",
       "      <td>0.451</td>\n",
       "      <td>50.80</td>\n",
       "      <td>0.718</td>\n",
       "      <td>0.168</td>\n",
       "      <td>0.882</td>\n",
       "      <td>0.518</td>\n",
       "      <td>0.258</td>\n",
       "      <td>Afghanistan</td>\n",
       "      <td>1.168</td>\n",
       "      <td>0.155293</td>\n",
       "    </tr>\n",
       "    <tr>\n",
       "      <th>1</th>\n",
       "      <td>1</td>\n",
       "      <td>2009</td>\n",
       "      <td>4.402</td>\n",
       "      <td>7.540</td>\n",
       "      <td>0.552</td>\n",
       "      <td>51.20</td>\n",
       "      <td>0.679</td>\n",
       "      <td>0.190</td>\n",
       "      <td>0.850</td>\n",
       "      <td>0.584</td>\n",
       "      <td>0.237</td>\n",
       "      <td>Afghanistan</td>\n",
       "      <td>1.190</td>\n",
       "      <td>0.173953</td>\n",
       "    </tr>\n",
       "    <tr>\n",
       "      <th>2</th>\n",
       "      <td>1</td>\n",
       "      <td>2010</td>\n",
       "      <td>4.758</td>\n",
       "      <td>7.647</td>\n",
       "      <td>0.539</td>\n",
       "      <td>51.60</td>\n",
       "      <td>0.600</td>\n",
       "      <td>0.121</td>\n",
       "      <td>0.707</td>\n",
       "      <td>0.618</td>\n",
       "      <td>0.275</td>\n",
       "      <td>Afghanistan</td>\n",
       "      <td>1.121</td>\n",
       "      <td>0.114221</td>\n",
       "    </tr>\n",
       "    <tr>\n",
       "      <th>3</th>\n",
       "      <td>1</td>\n",
       "      <td>2011</td>\n",
       "      <td>3.832</td>\n",
       "      <td>7.620</td>\n",
       "      <td>0.521</td>\n",
       "      <td>51.92</td>\n",
       "      <td>0.496</td>\n",
       "      <td>0.162</td>\n",
       "      <td>0.731</td>\n",
       "      <td>0.611</td>\n",
       "      <td>0.267</td>\n",
       "      <td>Afghanistan</td>\n",
       "      <td>1.162</td>\n",
       "      <td>0.150143</td>\n",
       "    </tr>\n",
       "    <tr>\n",
       "      <th>4</th>\n",
       "      <td>1</td>\n",
       "      <td>2012</td>\n",
       "      <td>3.783</td>\n",
       "      <td>7.705</td>\n",
       "      <td>0.521</td>\n",
       "      <td>52.24</td>\n",
       "      <td>0.531</td>\n",
       "      <td>0.236</td>\n",
       "      <td>0.776</td>\n",
       "      <td>0.710</td>\n",
       "      <td>0.268</td>\n",
       "      <td>Afghanistan</td>\n",
       "      <td>1.236</td>\n",
       "      <td>0.211880</td>\n",
       "    </tr>\n",
       "    <tr>\n",
       "      <th>...</th>\n",
       "      <td>...</td>\n",
       "      <td>...</td>\n",
       "      <td>...</td>\n",
       "      <td>...</td>\n",
       "      <td>...</td>\n",
       "      <td>...</td>\n",
       "      <td>...</td>\n",
       "      <td>...</td>\n",
       "      <td>...</td>\n",
       "      <td>...</td>\n",
       "      <td>...</td>\n",
       "      <td>...</td>\n",
       "      <td>...</td>\n",
       "      <td>...</td>\n",
       "    </tr>\n",
       "    <tr>\n",
       "      <th>1944</th>\n",
       "      <td>166</td>\n",
       "      <td>2016</td>\n",
       "      <td>3.735</td>\n",
       "      <td>7.984</td>\n",
       "      <td>0.768</td>\n",
       "      <td>54.40</td>\n",
       "      <td>0.733</td>\n",
       "      <td>-0.095</td>\n",
       "      <td>0.724</td>\n",
       "      <td>0.738</td>\n",
       "      <td>0.209</td>\n",
       "      <td>Zimbabwe</td>\n",
       "      <td>0.905</td>\n",
       "      <td>-0.099820</td>\n",
       "    </tr>\n",
       "    <tr>\n",
       "      <th>1945</th>\n",
       "      <td>166</td>\n",
       "      <td>2017</td>\n",
       "      <td>3.638</td>\n",
       "      <td>8.016</td>\n",
       "      <td>0.754</td>\n",
       "      <td>55.00</td>\n",
       "      <td>0.753</td>\n",
       "      <td>-0.098</td>\n",
       "      <td>0.751</td>\n",
       "      <td>0.806</td>\n",
       "      <td>0.224</td>\n",
       "      <td>Zimbabwe</td>\n",
       "      <td>0.902</td>\n",
       "      <td>-0.103141</td>\n",
       "    </tr>\n",
       "    <tr>\n",
       "      <th>1946</th>\n",
       "      <td>166</td>\n",
       "      <td>2018</td>\n",
       "      <td>3.616</td>\n",
       "      <td>8.049</td>\n",
       "      <td>0.775</td>\n",
       "      <td>55.60</td>\n",
       "      <td>0.763</td>\n",
       "      <td>-0.068</td>\n",
       "      <td>0.844</td>\n",
       "      <td>0.710</td>\n",
       "      <td>0.212</td>\n",
       "      <td>Zimbabwe</td>\n",
       "      <td>0.932</td>\n",
       "      <td>-0.070422</td>\n",
       "    </tr>\n",
       "    <tr>\n",
       "      <th>1947</th>\n",
       "      <td>166</td>\n",
       "      <td>2019</td>\n",
       "      <td>2.694</td>\n",
       "      <td>7.950</td>\n",
       "      <td>0.759</td>\n",
       "      <td>56.20</td>\n",
       "      <td>0.632</td>\n",
       "      <td>-0.064</td>\n",
       "      <td>0.831</td>\n",
       "      <td>0.716</td>\n",
       "      <td>0.235</td>\n",
       "      <td>Zimbabwe</td>\n",
       "      <td>0.936</td>\n",
       "      <td>-0.066140</td>\n",
       "    </tr>\n",
       "    <tr>\n",
       "      <th>1948</th>\n",
       "      <td>166</td>\n",
       "      <td>2020</td>\n",
       "      <td>3.160</td>\n",
       "      <td>7.829</td>\n",
       "      <td>0.717</td>\n",
       "      <td>56.80</td>\n",
       "      <td>0.643</td>\n",
       "      <td>-0.009</td>\n",
       "      <td>0.789</td>\n",
       "      <td>0.703</td>\n",
       "      <td>0.346</td>\n",
       "      <td>Zimbabwe</td>\n",
       "      <td>0.991</td>\n",
       "      <td>-0.009041</td>\n",
       "    </tr>\n",
       "  </tbody>\n",
       "</table>\n",
       "<p>1949 rows × 14 columns</p>\n",
       "</div>"
      ],
      "text/plain": [
       "      country_name  year  life_Ladder  gdp_per_capita  social_supp  \\\n",
       "0                1  2008        3.724           7.370        0.451   \n",
       "1                1  2009        4.402           7.540        0.552   \n",
       "2                1  2010        4.758           7.647        0.539   \n",
       "3                1  2011        3.832           7.620        0.521   \n",
       "4                1  2012        3.783           7.705        0.521   \n",
       "...            ...   ...          ...             ...          ...   \n",
       "1944           166  2016        3.735           7.984        0.768   \n",
       "1945           166  2017        3.638           8.016        0.754   \n",
       "1946           166  2018        3.616           8.049        0.775   \n",
       "1947           166  2019        2.694           7.950        0.759   \n",
       "1948           166  2020        3.160           7.829        0.717   \n",
       "\n",
       "      healthy_life_expectancy_at_birth  freedom_to_make_life_choices  \\\n",
       "0                                50.80                         0.718   \n",
       "1                                51.20                         0.679   \n",
       "2                                51.60                         0.600   \n",
       "3                                51.92                         0.496   \n",
       "4                                52.24                         0.531   \n",
       "...                                ...                           ...   \n",
       "1944                             54.40                         0.733   \n",
       "1945                             55.00                         0.753   \n",
       "1946                             55.60                         0.763   \n",
       "1947                             56.20                         0.632   \n",
       "1948                             56.80                         0.643   \n",
       "\n",
       "      Generosity  percept_of_corruption  postve_affect  negtve_affect  \\\n",
       "0          0.168                  0.882          0.518          0.258   \n",
       "1          0.190                  0.850          0.584          0.237   \n",
       "2          0.121                  0.707          0.618          0.275   \n",
       "3          0.162                  0.731          0.611          0.267   \n",
       "4          0.236                  0.776          0.710          0.268   \n",
       "...          ...                    ...            ...            ...   \n",
       "1944      -0.095                  0.724          0.738          0.209   \n",
       "1945      -0.098                  0.751          0.806          0.224   \n",
       "1946      -0.068                  0.844          0.710          0.212   \n",
       "1947      -0.064                  0.831          0.716          0.235   \n",
       "1948      -0.009                  0.789          0.703          0.346   \n",
       "\n",
       "          country  gen_man   gen_log  \n",
       "0     Afghanistan    1.168  0.155293  \n",
       "1     Afghanistan    1.190  0.173953  \n",
       "2     Afghanistan    1.121  0.114221  \n",
       "3     Afghanistan    1.162  0.150143  \n",
       "4     Afghanistan    1.236  0.211880  \n",
       "...           ...      ...       ...  \n",
       "1944     Zimbabwe    0.905 -0.099820  \n",
       "1945     Zimbabwe    0.902 -0.103141  \n",
       "1946     Zimbabwe    0.932 -0.070422  \n",
       "1947     Zimbabwe    0.936 -0.066140  \n",
       "1948     Zimbabwe    0.991 -0.009041  \n",
       "\n",
       "[1949 rows x 14 columns]"
      ]
     },
     "execution_count": 105,
     "metadata": {},
     "output_type": "execute_result"
    }
   ],
   "source": [
    "hap"
   ]
  },
  {
   "cell_type": "code",
   "execution_count": 128,
   "metadata": {},
   "outputs": [],
   "source": [
    "df_fin = hap.drop(['country', 'year', 'country_name'], axis=1)"
   ]
  },
  {
   "cell_type": "code",
   "execution_count": 129,
   "metadata": {},
   "outputs": [
    {
     "data": {
      "text/html": [
       "<div>\n",
       "<style scoped>\n",
       "    .dataframe tbody tr th:only-of-type {\n",
       "        vertical-align: middle;\n",
       "    }\n",
       "\n",
       "    .dataframe tbody tr th {\n",
       "        vertical-align: top;\n",
       "    }\n",
       "\n",
       "    .dataframe thead th {\n",
       "        text-align: right;\n",
       "    }\n",
       "</style>\n",
       "<table border=\"1\" class=\"dataframe\">\n",
       "  <thead>\n",
       "    <tr style=\"text-align: right;\">\n",
       "      <th></th>\n",
       "      <th>life_Ladder</th>\n",
       "      <th>gdp_per_capita</th>\n",
       "      <th>social_supp</th>\n",
       "      <th>healthy_life_expectancy_at_birth</th>\n",
       "      <th>freedom_to_make_life_choices</th>\n",
       "      <th>Generosity</th>\n",
       "      <th>percept_of_corruption</th>\n",
       "      <th>postve_affect</th>\n",
       "      <th>negtve_affect</th>\n",
       "      <th>gen_man</th>\n",
       "      <th>gen_log</th>\n",
       "    </tr>\n",
       "  </thead>\n",
       "  <tbody>\n",
       "    <tr>\n",
       "      <th>0</th>\n",
       "      <td>3.724</td>\n",
       "      <td>7.370</td>\n",
       "      <td>0.451</td>\n",
       "      <td>50.80</td>\n",
       "      <td>0.718</td>\n",
       "      <td>0.168</td>\n",
       "      <td>0.882</td>\n",
       "      <td>0.518</td>\n",
       "      <td>0.258</td>\n",
       "      <td>1.168</td>\n",
       "      <td>0.155293</td>\n",
       "    </tr>\n",
       "    <tr>\n",
       "      <th>1</th>\n",
       "      <td>4.402</td>\n",
       "      <td>7.540</td>\n",
       "      <td>0.552</td>\n",
       "      <td>51.20</td>\n",
       "      <td>0.679</td>\n",
       "      <td>0.190</td>\n",
       "      <td>0.850</td>\n",
       "      <td>0.584</td>\n",
       "      <td>0.237</td>\n",
       "      <td>1.190</td>\n",
       "      <td>0.173953</td>\n",
       "    </tr>\n",
       "    <tr>\n",
       "      <th>2</th>\n",
       "      <td>4.758</td>\n",
       "      <td>7.647</td>\n",
       "      <td>0.539</td>\n",
       "      <td>51.60</td>\n",
       "      <td>0.600</td>\n",
       "      <td>0.121</td>\n",
       "      <td>0.707</td>\n",
       "      <td>0.618</td>\n",
       "      <td>0.275</td>\n",
       "      <td>1.121</td>\n",
       "      <td>0.114221</td>\n",
       "    </tr>\n",
       "    <tr>\n",
       "      <th>3</th>\n",
       "      <td>3.832</td>\n",
       "      <td>7.620</td>\n",
       "      <td>0.521</td>\n",
       "      <td>51.92</td>\n",
       "      <td>0.496</td>\n",
       "      <td>0.162</td>\n",
       "      <td>0.731</td>\n",
       "      <td>0.611</td>\n",
       "      <td>0.267</td>\n",
       "      <td>1.162</td>\n",
       "      <td>0.150143</td>\n",
       "    </tr>\n",
       "    <tr>\n",
       "      <th>4</th>\n",
       "      <td>3.783</td>\n",
       "      <td>7.705</td>\n",
       "      <td>0.521</td>\n",
       "      <td>52.24</td>\n",
       "      <td>0.531</td>\n",
       "      <td>0.236</td>\n",
       "      <td>0.776</td>\n",
       "      <td>0.710</td>\n",
       "      <td>0.268</td>\n",
       "      <td>1.236</td>\n",
       "      <td>0.211880</td>\n",
       "    </tr>\n",
       "    <tr>\n",
       "      <th>...</th>\n",
       "      <td>...</td>\n",
       "      <td>...</td>\n",
       "      <td>...</td>\n",
       "      <td>...</td>\n",
       "      <td>...</td>\n",
       "      <td>...</td>\n",
       "      <td>...</td>\n",
       "      <td>...</td>\n",
       "      <td>...</td>\n",
       "      <td>...</td>\n",
       "      <td>...</td>\n",
       "    </tr>\n",
       "    <tr>\n",
       "      <th>1944</th>\n",
       "      <td>3.735</td>\n",
       "      <td>7.984</td>\n",
       "      <td>0.768</td>\n",
       "      <td>54.40</td>\n",
       "      <td>0.733</td>\n",
       "      <td>-0.095</td>\n",
       "      <td>0.724</td>\n",
       "      <td>0.738</td>\n",
       "      <td>0.209</td>\n",
       "      <td>0.905</td>\n",
       "      <td>-0.099820</td>\n",
       "    </tr>\n",
       "    <tr>\n",
       "      <th>1945</th>\n",
       "      <td>3.638</td>\n",
       "      <td>8.016</td>\n",
       "      <td>0.754</td>\n",
       "      <td>55.00</td>\n",
       "      <td>0.753</td>\n",
       "      <td>-0.098</td>\n",
       "      <td>0.751</td>\n",
       "      <td>0.806</td>\n",
       "      <td>0.224</td>\n",
       "      <td>0.902</td>\n",
       "      <td>-0.103141</td>\n",
       "    </tr>\n",
       "    <tr>\n",
       "      <th>1946</th>\n",
       "      <td>3.616</td>\n",
       "      <td>8.049</td>\n",
       "      <td>0.775</td>\n",
       "      <td>55.60</td>\n",
       "      <td>0.763</td>\n",
       "      <td>-0.068</td>\n",
       "      <td>0.844</td>\n",
       "      <td>0.710</td>\n",
       "      <td>0.212</td>\n",
       "      <td>0.932</td>\n",
       "      <td>-0.070422</td>\n",
       "    </tr>\n",
       "    <tr>\n",
       "      <th>1947</th>\n",
       "      <td>2.694</td>\n",
       "      <td>7.950</td>\n",
       "      <td>0.759</td>\n",
       "      <td>56.20</td>\n",
       "      <td>0.632</td>\n",
       "      <td>-0.064</td>\n",
       "      <td>0.831</td>\n",
       "      <td>0.716</td>\n",
       "      <td>0.235</td>\n",
       "      <td>0.936</td>\n",
       "      <td>-0.066140</td>\n",
       "    </tr>\n",
       "    <tr>\n",
       "      <th>1948</th>\n",
       "      <td>3.160</td>\n",
       "      <td>7.829</td>\n",
       "      <td>0.717</td>\n",
       "      <td>56.80</td>\n",
       "      <td>0.643</td>\n",
       "      <td>-0.009</td>\n",
       "      <td>0.789</td>\n",
       "      <td>0.703</td>\n",
       "      <td>0.346</td>\n",
       "      <td>0.991</td>\n",
       "      <td>-0.009041</td>\n",
       "    </tr>\n",
       "  </tbody>\n",
       "</table>\n",
       "<p>1708 rows × 11 columns</p>\n",
       "</div>"
      ],
      "text/plain": [
       "      life_Ladder  gdp_per_capita  social_supp  \\\n",
       "0           3.724           7.370        0.451   \n",
       "1           4.402           7.540        0.552   \n",
       "2           4.758           7.647        0.539   \n",
       "3           3.832           7.620        0.521   \n",
       "4           3.783           7.705        0.521   \n",
       "...           ...             ...          ...   \n",
       "1944        3.735           7.984        0.768   \n",
       "1945        3.638           8.016        0.754   \n",
       "1946        3.616           8.049        0.775   \n",
       "1947        2.694           7.950        0.759   \n",
       "1948        3.160           7.829        0.717   \n",
       "\n",
       "      healthy_life_expectancy_at_birth  freedom_to_make_life_choices  \\\n",
       "0                                50.80                         0.718   \n",
       "1                                51.20                         0.679   \n",
       "2                                51.60                         0.600   \n",
       "3                                51.92                         0.496   \n",
       "4                                52.24                         0.531   \n",
       "...                                ...                           ...   \n",
       "1944                             54.40                         0.733   \n",
       "1945                             55.00                         0.753   \n",
       "1946                             55.60                         0.763   \n",
       "1947                             56.20                         0.632   \n",
       "1948                             56.80                         0.643   \n",
       "\n",
       "      Generosity  percept_of_corruption  postve_affect  negtve_affect  \\\n",
       "0          0.168                  0.882          0.518          0.258   \n",
       "1          0.190                  0.850          0.584          0.237   \n",
       "2          0.121                  0.707          0.618          0.275   \n",
       "3          0.162                  0.731          0.611          0.267   \n",
       "4          0.236                  0.776          0.710          0.268   \n",
       "...          ...                    ...            ...            ...   \n",
       "1944      -0.095                  0.724          0.738          0.209   \n",
       "1945      -0.098                  0.751          0.806          0.224   \n",
       "1946      -0.068                  0.844          0.710          0.212   \n",
       "1947      -0.064                  0.831          0.716          0.235   \n",
       "1948      -0.009                  0.789          0.703          0.346   \n",
       "\n",
       "      gen_man   gen_log  \n",
       "0       1.168  0.155293  \n",
       "1       1.190  0.173953  \n",
       "2       1.121  0.114221  \n",
       "3       1.162  0.150143  \n",
       "4       1.236  0.211880  \n",
       "...       ...       ...  \n",
       "1944    0.905 -0.099820  \n",
       "1945    0.902 -0.103141  \n",
       "1946    0.932 -0.070422  \n",
       "1947    0.936 -0.066140  \n",
       "1948    0.991 -0.009041  \n",
       "\n",
       "[1708 rows x 11 columns]"
      ]
     },
     "execution_count": 129,
     "metadata": {},
     "output_type": "execute_result"
    }
   ],
   "source": [
    "df_fin"
   ]
  },
  {
   "cell_type": "code",
   "execution_count": 130,
   "metadata": {},
   "outputs": [],
   "source": [
    "df_fin.dropna(inplace=True)"
   ]
  },
  {
   "cell_type": "code",
   "execution_count": 135,
   "metadata": {},
   "outputs": [
    {
     "name": "stderr",
     "output_type": "stream",
     "text": [
      "c:\\users\\wow80\\appdata\\local\\programs\\python\\python39\\lib\\site-packages\\sklearn\\covariance\\_robust_covariance.py:166: RuntimeWarning: Determinant has increased; this should not happen: log(det) > log(previous_det) (-76.931073158316352 > -77.502353725862832). You may want to try with a higher value of support_fraction (current value: 0.512).\n",
      "  warnings.warn(\"Determinant has increased; this should not happen: \"\n",
      "c:\\users\\wow80\\appdata\\local\\programs\\python\\python39\\lib\\site-packages\\sklearn\\covariance\\_robust_covariance.py:166: RuntimeWarning: Determinant has increased; this should not happen: log(det) > log(previous_det) (-76.924544773193617 > -77.121602464350161). You may want to try with a higher value of support_fraction (current value: 0.512).\n",
      "  warnings.warn(\"Determinant has increased; this should not happen: \"\n",
      "c:\\users\\wow80\\appdata\\local\\programs\\python\\python39\\lib\\site-packages\\sklearn\\covariance\\_robust_covariance.py:166: RuntimeWarning: Determinant has increased; this should not happen: log(det) > log(previous_det) (-76.685344350938408 > -78.203386032601117). You may want to try with a higher value of support_fraction (current value: 0.512).\n",
      "  warnings.warn(\"Determinant has increased; this should not happen: \"\n",
      "c:\\users\\wow80\\appdata\\local\\programs\\python\\python39\\lib\\site-packages\\sklearn\\covariance\\_robust_covariance.py:166: RuntimeWarning: Determinant has increased; this should not happen: log(det) > log(previous_det) (-76.103644622909698 > -78.220797721136648). You may want to try with a higher value of support_fraction (current value: 0.512).\n",
      "  warnings.warn(\"Determinant has increased; this should not happen: \"\n",
      "c:\\users\\wow80\\appdata\\local\\programs\\python\\python39\\lib\\site-packages\\sklearn\\covariance\\_robust_covariance.py:166: RuntimeWarning: Determinant has increased; this should not happen: log(det) > log(previous_det) (-76.523145482392493 > -77.552666002516233). You may want to try with a higher value of support_fraction (current value: 0.512).\n",
      "  warnings.warn(\"Determinant has increased; this should not happen: \"\n",
      "c:\\users\\wow80\\appdata\\local\\programs\\python\\python39\\lib\\site-packages\\sklearn\\covariance\\_robust_covariance.py:166: RuntimeWarning: Determinant has increased; this should not happen: log(det) > log(previous_det) (-76.674768866205170 > -77.503937388269307). You may want to try with a higher value of support_fraction (current value: 0.512).\n",
      "  warnings.warn(\"Determinant has increased; this should not happen: \"\n",
      "c:\\users\\wow80\\appdata\\local\\programs\\python\\python39\\lib\\site-packages\\sklearn\\covariance\\_robust_covariance.py:166: RuntimeWarning: Determinant has increased; this should not happen: log(det) > log(previous_det) (-76.111032462203426 > -77.144853979025740). You may want to try with a higher value of support_fraction (current value: 0.512).\n",
      "  warnings.warn(\"Determinant has increased; this should not happen: \"\n",
      "c:\\users\\wow80\\appdata\\local\\programs\\python\\python39\\lib\\site-packages\\sklearn\\covariance\\_robust_covariance.py:166: RuntimeWarning: Determinant has increased; this should not happen: log(det) > log(previous_det) (-76.904377255303928 > -77.100130444979101). You may want to try with a higher value of support_fraction (current value: 0.512).\n",
      "  warnings.warn(\"Determinant has increased; this should not happen: \"\n",
      "c:\\users\\wow80\\appdata\\local\\programs\\python\\python39\\lib\\site-packages\\sklearn\\covariance\\_robust_covariance.py:166: RuntimeWarning: Determinant has increased; this should not happen: log(det) > log(previous_det) (-76.213715872109731 > -77.515349019743027). You may want to try with a higher value of support_fraction (current value: 0.512).\n",
      "  warnings.warn(\"Determinant has increased; this should not happen: \"\n",
      "c:\\users\\wow80\\appdata\\local\\programs\\python\\python39\\lib\\site-packages\\sklearn\\covariance\\_robust_covariance.py:166: RuntimeWarning: Determinant has increased; this should not happen: log(det) > log(previous_det) (-77.219156186048124 > -78.247818474864971). You may want to try with a higher value of support_fraction (current value: 0.512).\n",
      "  warnings.warn(\"Determinant has increased; this should not happen: \"\n",
      "c:\\users\\wow80\\appdata\\local\\programs\\python\\python39\\lib\\site-packages\\sklearn\\covariance\\_robust_covariance.py:166: RuntimeWarning: Determinant has increased; this should not happen: log(det) > log(previous_det) (-76.701084606906591 > -77.545452162874625). You may want to try with a higher value of support_fraction (current value: 0.512).\n",
      "  warnings.warn(\"Determinant has increased; this should not happen: \"\n",
      "c:\\users\\wow80\\appdata\\local\\programs\\python\\python39\\lib\\site-packages\\sklearn\\covariance\\_robust_covariance.py:166: RuntimeWarning: Determinant has increased; this should not happen: log(det) > log(previous_det) (-77.209415459176256 > -77.503865026302520). You may want to try with a higher value of support_fraction (current value: 0.512).\n",
      "  warnings.warn(\"Determinant has increased; this should not happen: \"\n",
      "c:\\users\\wow80\\appdata\\local\\programs\\python\\python39\\lib\\site-packages\\sklearn\\covariance\\_robust_covariance.py:166: RuntimeWarning: Determinant has increased; this should not happen: log(det) > log(previous_det) (-76.685988670230728 > -76.823389190986646). You may want to try with a higher value of support_fraction (current value: 0.512).\n",
      "  warnings.warn(\"Determinant has increased; this should not happen: \"\n",
      "c:\\users\\wow80\\appdata\\local\\programs\\python\\python39\\lib\\site-packages\\sklearn\\covariance\\_robust_covariance.py:166: RuntimeWarning: Determinant has increased; this should not happen: log(det) > log(previous_det) (-76.681966842697634 > -78.187719228217674). You may want to try with a higher value of support_fraction (current value: 0.512).\n",
      "  warnings.warn(\"Determinant has increased; this should not happen: \"\n",
      "c:\\users\\wow80\\appdata\\local\\programs\\python\\python39\\lib\\site-packages\\sklearn\\covariance\\_robust_covariance.py:166: RuntimeWarning: Determinant has increased; this should not happen: log(det) > log(previous_det) (-76.694428918156120 > -77.524253052365097). You may want to try with a higher value of support_fraction (current value: 0.512).\n",
      "  warnings.warn(\"Determinant has increased; this should not happen: \"\n",
      "c:\\users\\wow80\\appdata\\local\\programs\\python\\python39\\lib\\site-packages\\sklearn\\covariance\\_robust_covariance.py:166: RuntimeWarning: Determinant has increased; this should not happen: log(det) > log(previous_det) (-76.364183011537762 > -77.116234388737865). You may want to try with a higher value of support_fraction (current value: 0.512).\n",
      "  warnings.warn(\"Determinant has increased; this should not happen: \"\n",
      "c:\\users\\wow80\\appdata\\local\\programs\\python\\python39\\lib\\site-packages\\sklearn\\covariance\\_robust_covariance.py:166: RuntimeWarning: Determinant has increased; this should not happen: log(det) > log(previous_det) (-76.925263848850307 > -77.563761357515673). You may want to try with a higher value of support_fraction (current value: 0.512).\n",
      "  warnings.warn(\"Determinant has increased; this should not happen: \"\n",
      "c:\\users\\wow80\\appdata\\local\\programs\\python\\python39\\lib\\site-packages\\sklearn\\covariance\\_robust_covariance.py:166: RuntimeWarning: Determinant has increased; this should not happen: log(det) > log(previous_det) (-77.206842109701313 > -77.486112911747497). You may want to try with a higher value of support_fraction (current value: 0.512).\n",
      "  warnings.warn(\"Determinant has increased; this should not happen: \"\n",
      "c:\\users\\wow80\\appdata\\local\\programs\\python\\python39\\lib\\site-packages\\sklearn\\covariance\\_robust_covariance.py:166: RuntimeWarning: Determinant has increased; this should not happen: log(det) > log(previous_det) (-76.689513715720295 > -77.501586440062951). You may want to try with a higher value of support_fraction (current value: 0.512).\n",
      "  warnings.warn(\"Determinant has increased; this should not happen: \"\n",
      "c:\\users\\wow80\\appdata\\local\\programs\\python\\python39\\lib\\site-packages\\sklearn\\covariance\\_robust_covariance.py:166: RuntimeWarning: Determinant has increased; this should not happen: log(det) > log(previous_det) (-76.914900396502361 > -78.258588615743093). You may want to try with a higher value of support_fraction (current value: 0.512).\n",
      "  warnings.warn(\"Determinant has increased; this should not happen: \"\n",
      "c:\\users\\wow80\\appdata\\local\\programs\\python\\python39\\lib\\site-packages\\sklearn\\covariance\\_robust_covariance.py:166: RuntimeWarning: Determinant has increased; this should not happen: log(det) > log(previous_det) (-76.689524301951977 > -77.532528271066155). You may want to try with a higher value of support_fraction (current value: 0.512).\n",
      "  warnings.warn(\"Determinant has increased; this should not happen: \"\n",
      "c:\\users\\wow80\\appdata\\local\\programs\\python\\python39\\lib\\site-packages\\sklearn\\covariance\\_robust_covariance.py:166: RuntimeWarning: Determinant has increased; this should not happen: log(det) > log(previous_det) (-76.699258831366180 > -77.124574768989802). You may want to try with a higher value of support_fraction (current value: 0.512).\n",
      "  warnings.warn(\"Determinant has increased; this should not happen: \"\n"
     ]
    },
    {
     "name": "stderr",
     "output_type": "stream",
     "text": [
      "c:\\users\\wow80\\appdata\\local\\programs\\python\\python39\\lib\\site-packages\\sklearn\\covariance\\_robust_covariance.py:166: RuntimeWarning: Determinant has increased; this should not happen: log(det) > log(previous_det) (-77.206690572578097 > -78.185312269902468). You may want to try with a higher value of support_fraction (current value: 0.512).\n",
      "  warnings.warn(\"Determinant has increased; this should not happen: \"\n",
      "c:\\users\\wow80\\appdata\\local\\programs\\python\\python39\\lib\\site-packages\\sklearn\\covariance\\_robust_covariance.py:166: RuntimeWarning: Determinant has increased; this should not happen: log(det) > log(previous_det) (-76.512999992105051 > -77.493977552536876). You may want to try with a higher value of support_fraction (current value: 0.512).\n",
      "  warnings.warn(\"Determinant has increased; this should not happen: \"\n",
      "c:\\users\\wow80\\appdata\\local\\programs\\python\\python39\\lib\\site-packages\\sklearn\\covariance\\_robust_covariance.py:166: RuntimeWarning: Determinant has increased; this should not happen: log(det) > log(previous_det) (-77.209432443007188 > -78.224110025689924). You may want to try with a higher value of support_fraction (current value: 0.512).\n",
      "  warnings.warn(\"Determinant has increased; this should not happen: \"\n",
      "c:\\users\\wow80\\appdata\\local\\programs\\python\\python39\\lib\\site-packages\\sklearn\\covariance\\_robust_covariance.py:166: RuntimeWarning: Determinant has increased; this should not happen: log(det) > log(previous_det) (-77.218353360626779 > -77.500441694349632). You may want to try with a higher value of support_fraction (current value: 0.512).\n",
      "  warnings.warn(\"Determinant has increased; this should not happen: \"\n",
      "c:\\users\\wow80\\appdata\\local\\programs\\python\\python39\\lib\\site-packages\\sklearn\\covariance\\_robust_covariance.py:166: RuntimeWarning: Determinant has increased; this should not happen: log(det) > log(previous_det) (-76.672539155302005 > -77.483556952314899). You may want to try with a higher value of support_fraction (current value: 0.512).\n",
      "  warnings.warn(\"Determinant has increased; this should not happen: \"\n",
      "c:\\users\\wow80\\appdata\\local\\programs\\python\\python39\\lib\\site-packages\\sklearn\\covariance\\_robust_covariance.py:166: RuntimeWarning: Determinant has increased; this should not happen: log(det) > log(previous_det) (-77.201500238580778 > -77.511679232563694). You may want to try with a higher value of support_fraction (current value: 0.512).\n",
      "  warnings.warn(\"Determinant has increased; this should not happen: \"\n",
      "c:\\users\\wow80\\appdata\\local\\programs\\python\\python39\\lib\\site-packages\\sklearn\\covariance\\_robust_covariance.py:166: RuntimeWarning: Determinant has increased; this should not happen: log(det) > log(previous_det) (-77.611242754554283 > -78.241502312250248). You may want to try with a higher value of support_fraction (current value: 0.512).\n",
      "  warnings.warn(\"Determinant has increased; this should not happen: \"\n",
      "c:\\users\\wow80\\appdata\\local\\programs\\python\\python39\\lib\\site-packages\\sklearn\\covariance\\_robust_covariance.py:166: RuntimeWarning: Determinant has increased; this should not happen: log(det) > log(previous_det) (-76.342220537125002 > -76.400297018908020). You may want to try with a higher value of support_fraction (current value: 0.512).\n",
      "  warnings.warn(\"Determinant has increased; this should not happen: \"\n",
      "c:\\users\\wow80\\appdata\\local\\programs\\python\\python39\\lib\\site-packages\\sklearn\\covariance\\_robust_covariance.py:166: RuntimeWarning: Determinant has increased; this should not happen: log(det) > log(previous_det) (-76.913370244644867 > -77.132707761167765). You may want to try with a higher value of support_fraction (current value: 0.512).\n",
      "  warnings.warn(\"Determinant has increased; this should not happen: \"\n",
      "c:\\users\\wow80\\appdata\\local\\programs\\python\\python39\\lib\\site-packages\\sklearn\\covariance\\_robust_covariance.py:166: RuntimeWarning: Determinant has increased; this should not happen: log(det) > log(previous_det) (-76.910992084536730 > -77.116972038089045). You may want to try with a higher value of support_fraction (current value: 0.512).\n",
      "  warnings.warn(\"Determinant has increased; this should not happen: \"\n",
      "c:\\users\\wow80\\appdata\\local\\programs\\python\\python39\\lib\\site-packages\\sklearn\\covariance\\_robust_covariance.py:166: RuntimeWarning: Determinant has increased; this should not happen: log(det) > log(previous_det) (-76.915877193172562 > -77.132409948880778). You may want to try with a higher value of support_fraction (current value: 0.512).\n",
      "  warnings.warn(\"Determinant has increased; this should not happen: \"\n",
      "c:\\users\\wow80\\appdata\\local\\programs\\python\\python39\\lib\\site-packages\\sklearn\\covariance\\_robust_covariance.py:166: RuntimeWarning: Determinant has increased; this should not happen: log(det) > log(previous_det) (-76.692396972877631 > -78.205733655329226). You may want to try with a higher value of support_fraction (current value: 0.512).\n",
      "  warnings.warn(\"Determinant has increased; this should not happen: \"\n",
      "c:\\users\\wow80\\appdata\\local\\programs\\python\\python39\\lib\\site-packages\\sklearn\\covariance\\_robust_covariance.py:166: RuntimeWarning: Determinant has increased; this should not happen: log(det) > log(previous_det) (-77.617940211196398 > -78.247311471130445). You may want to try with a higher value of support_fraction (current value: 0.512).\n",
      "  warnings.warn(\"Determinant has increased; this should not happen: \"\n",
      "c:\\users\\wow80\\appdata\\local\\programs\\python\\python39\\lib\\site-packages\\sklearn\\covariance\\_robust_covariance.py:166: RuntimeWarning: Determinant has increased; this should not happen: log(det) > log(previous_det) (-76.506605581178917 > -78.229619282999423). You may want to try with a higher value of support_fraction (current value: 0.512).\n",
      "  warnings.warn(\"Determinant has increased; this should not happen: \"\n",
      "c:\\users\\wow80\\appdata\\local\\programs\\python\\python39\\lib\\site-packages\\sklearn\\covariance\\_robust_covariance.py:166: RuntimeWarning: Determinant has increased; this should not happen: log(det) > log(previous_det) (-77.201692211866046 > -78.224820953255943). You may want to try with a higher value of support_fraction (current value: 0.512).\n",
      "  warnings.warn(\"Determinant has increased; this should not happen: \"\n",
      "c:\\users\\wow80\\appdata\\local\\programs\\python\\python39\\lib\\site-packages\\sklearn\\covariance\\_robust_covariance.py:166: RuntimeWarning: Determinant has increased; this should not happen: log(det) > log(previous_det) (-76.336433148213089 > -77.092111923314761). You may want to try with a higher value of support_fraction (current value: 0.512).\n",
      "  warnings.warn(\"Determinant has increased; this should not happen: \"\n",
      "c:\\users\\wow80\\appdata\\local\\programs\\python\\python39\\lib\\site-packages\\sklearn\\covariance\\_robust_covariance.py:166: RuntimeWarning: Determinant has increased; this should not happen: log(det) > log(previous_det) (-76.915814207450524 > -78.165319952465310). You may want to try with a higher value of support_fraction (current value: 0.512).\n",
      "  warnings.warn(\"Determinant has increased; this should not happen: \"\n",
      "c:\\users\\wow80\\appdata\\local\\programs\\python\\python39\\lib\\site-packages\\sklearn\\covariance\\_robust_covariance.py:166: RuntimeWarning: Determinant has increased; this should not happen: log(det) > log(previous_det) (-76.512645472607005 > -76.815170300732390). You may want to try with a higher value of support_fraction (current value: 0.512).\n",
      "  warnings.warn(\"Determinant has increased; this should not happen: \"\n",
      "c:\\users\\wow80\\appdata\\local\\programs\\python\\python39\\lib\\site-packages\\sklearn\\covariance\\_robust_covariance.py:166: RuntimeWarning: Determinant has increased; this should not happen: log(det) > log(previous_det) (-76.692016929353159 > -77.127120220398538). You may want to try with a higher value of support_fraction (current value: 0.512).\n",
      "  warnings.warn(\"Determinant has increased; this should not happen: \"\n",
      "c:\\users\\wow80\\appdata\\local\\programs\\python\\python39\\lib\\site-packages\\sklearn\\covariance\\_robust_covariance.py:166: RuntimeWarning: Determinant has increased; this should not happen: log(det) > log(previous_det) (-76.363078893391929 > -78.244020714082083). You may want to try with a higher value of support_fraction (current value: 0.512).\n",
      "  warnings.warn(\"Determinant has increased; this should not happen: \"\n",
      "c:\\users\\wow80\\appdata\\local\\programs\\python\\python39\\lib\\site-packages\\sklearn\\covariance\\_robust_covariance.py:166: RuntimeWarning: Determinant has increased; this should not happen: log(det) > log(previous_det) (-76.914462487530670 > -77.099754010342537). You may want to try with a higher value of support_fraction (current value: 0.512).\n",
      "  warnings.warn(\"Determinant has increased; this should not happen: \"\n",
      "c:\\users\\wow80\\appdata\\local\\programs\\python\\python39\\lib\\site-packages\\sklearn\\covariance\\_robust_covariance.py:166: RuntimeWarning: Determinant has increased; this should not happen: log(det) > log(previous_det) (-76.919011621308044 > -77.115040175735459). You may want to try with a higher value of support_fraction (current value: 0.512).\n",
      "  warnings.warn(\"Determinant has increased; this should not happen: \"\n",
      "c:\\users\\wow80\\appdata\\local\\programs\\python\\python39\\lib\\site-packages\\sklearn\\covariance\\_robust_covariance.py:166: RuntimeWarning: Determinant has increased; this should not happen: log(det) > log(previous_det) (-76.215454417059505 > -76.842785055420961). You may want to try with a higher value of support_fraction (current value: 0.512).\n",
      "  warnings.warn(\"Determinant has increased; this should not happen: \"\n"
     ]
    },
    {
     "name": "stderr",
     "output_type": "stream",
     "text": [
      "c:\\users\\wow80\\appdata\\local\\programs\\python\\python39\\lib\\site-packages\\sklearn\\covariance\\_robust_covariance.py:166: RuntimeWarning: Determinant has increased; this should not happen: log(det) > log(previous_det) (-76.511023476576739 > -76.848173473847112). You may want to try with a higher value of support_fraction (current value: 0.512).\n",
      "  warnings.warn(\"Determinant has increased; this should not happen: \"\n",
      "c:\\users\\wow80\\appdata\\local\\programs\\python\\python39\\lib\\site-packages\\sklearn\\covariance\\_robust_covariance.py:166: RuntimeWarning: Determinant has increased; this should not happen: log(det) > log(previous_det) (-77.220231274776921 > -78.203459339932579). You may want to try with a higher value of support_fraction (current value: 0.512).\n",
      "  warnings.warn(\"Determinant has increased; this should not happen: \"\n",
      "c:\\users\\wow80\\appdata\\local\\programs\\python\\python39\\lib\\site-packages\\sklearn\\covariance\\_robust_covariance.py:166: RuntimeWarning: Determinant has increased; this should not happen: log(det) > log(previous_det) (-76.922207067690977 > -78.264671246701681). You may want to try with a higher value of support_fraction (current value: 0.512).\n",
      "  warnings.warn(\"Determinant has increased; this should not happen: \"\n",
      "c:\\users\\wow80\\appdata\\local\\programs\\python\\python39\\lib\\site-packages\\sklearn\\covariance\\_robust_covariance.py:166: RuntimeWarning: Determinant has increased; this should not happen: log(det) > log(previous_det) (-76.880383940802474 > -78.186142990041674). You may want to try with a higher value of support_fraction (current value: 0.512).\n",
      "  warnings.warn(\"Determinant has increased; this should not happen: \"\n",
      "c:\\users\\wow80\\appdata\\local\\programs\\python\\python39\\lib\\site-packages\\sklearn\\covariance\\_robust_covariance.py:166: RuntimeWarning: Determinant has increased; this should not happen: log(det) > log(previous_det) (-76.921149062634726 > -77.535012106330797). You may want to try with a higher value of support_fraction (current value: 0.512).\n",
      "  warnings.warn(\"Determinant has increased; this should not happen: \"\n",
      "c:\\users\\wow80\\appdata\\local\\programs\\python\\python39\\lib\\site-packages\\sklearn\\covariance\\_robust_covariance.py:166: RuntimeWarning: Determinant has increased; this should not happen: log(det) > log(previous_det) (-77.198892236569847 > -78.232742370750856). You may want to try with a higher value of support_fraction (current value: 0.512).\n",
      "  warnings.warn(\"Determinant has increased; this should not happen: \"\n",
      "c:\\users\\wow80\\appdata\\local\\programs\\python\\python39\\lib\\site-packages\\sklearn\\covariance\\_robust_covariance.py:166: RuntimeWarning: Determinant has increased; this should not happen: log(det) > log(previous_det) (-76.369755523768731 > -76.609395143152653). You may want to try with a higher value of support_fraction (current value: 0.512).\n",
      "  warnings.warn(\"Determinant has increased; this should not happen: \"\n",
      "c:\\users\\wow80\\appdata\\local\\programs\\python\\python39\\lib\\site-packages\\sklearn\\covariance\\_robust_covariance.py:166: RuntimeWarning: Determinant has increased; this should not happen: log(det) > log(previous_det) (-77.623030941235044 > -78.220449402706066). You may want to try with a higher value of support_fraction (current value: 0.512).\n",
      "  warnings.warn(\"Determinant has increased; this should not happen: \"\n",
      "c:\\users\\wow80\\appdata\\local\\programs\\python\\python39\\lib\\site-packages\\sklearn\\covariance\\_robust_covariance.py:166: RuntimeWarning: Determinant has increased; this should not happen: log(det) > log(previous_det) (-76.513739952444752 > -77.108087813138837). You may want to try with a higher value of support_fraction (current value: 0.512).\n",
      "  warnings.warn(\"Determinant has increased; this should not happen: \"\n",
      "c:\\users\\wow80\\appdata\\local\\programs\\python\\python39\\lib\\site-packages\\sklearn\\covariance\\_robust_covariance.py:166: RuntimeWarning: Determinant has increased; this should not happen: log(det) > log(previous_det) (-76.353259014792826 > -77.507514127350120). You may want to try with a higher value of support_fraction (current value: 0.512).\n",
      "  warnings.warn(\"Determinant has increased; this should not happen: \"\n",
      "c:\\users\\wow80\\appdata\\local\\programs\\python\\python39\\lib\\site-packages\\sklearn\\covariance\\_robust_covariance.py:166: RuntimeWarning: Determinant has increased; this should not happen: log(det) > log(previous_det) (-76.230600649732963 > -77.534136875108047). You may want to try with a higher value of support_fraction (current value: 0.512).\n",
      "  warnings.warn(\"Determinant has increased; this should not happen: \"\n",
      "c:\\users\\wow80\\appdata\\local\\programs\\python\\python39\\lib\\site-packages\\sklearn\\covariance\\_robust_covariance.py:166: RuntimeWarning: Determinant has increased; this should not happen: log(det) > log(previous_det) (-76.490715648355760 > -77.539746095211910). You may want to try with a higher value of support_fraction (current value: 0.512).\n",
      "  warnings.warn(\"Determinant has increased; this should not happen: \"\n",
      "c:\\users\\wow80\\appdata\\local\\programs\\python\\python39\\lib\\site-packages\\sklearn\\covariance\\_robust_covariance.py:166: RuntimeWarning: Determinant has increased; this should not happen: log(det) > log(previous_det) (-76.503184524558435 > -77.483955458966776). You may want to try with a higher value of support_fraction (current value: 0.512).\n",
      "  warnings.warn(\"Determinant has increased; this should not happen: \"\n",
      "c:\\users\\wow80\\appdata\\local\\programs\\python\\python39\\lib\\site-packages\\sklearn\\covariance\\_robust_covariance.py:166: RuntimeWarning: Determinant has increased; this should not happen: log(det) > log(previous_det) (-76.695030729262925 > -78.223231968347449). You may want to try with a higher value of support_fraction (current value: 0.512).\n",
      "  warnings.warn(\"Determinant has increased; this should not happen: \"\n",
      "c:\\users\\wow80\\appdata\\local\\programs\\python\\python39\\lib\\site-packages\\sklearn\\covariance\\_robust_covariance.py:166: RuntimeWarning: Determinant has increased; this should not happen: log(det) > log(previous_det) (-76.513929525754847 > -78.160890865542456). You may want to try with a higher value of support_fraction (current value: 0.512).\n",
      "  warnings.warn(\"Determinant has increased; this should not happen: \"\n",
      "c:\\users\\wow80\\appdata\\local\\programs\\python\\python39\\lib\\site-packages\\sklearn\\covariance\\_robust_covariance.py:166: RuntimeWarning: Determinant has increased; this should not happen: log(det) > log(previous_det) (-76.694509598685443 > -76.797917490588162). You may want to try with a higher value of support_fraction (current value: 0.512).\n",
      "  warnings.warn(\"Determinant has increased; this should not happen: \"\n",
      "c:\\users\\wow80\\appdata\\local\\programs\\python\\python39\\lib\\site-packages\\sklearn\\covariance\\_robust_covariance.py:166: RuntimeWarning: Determinant has increased; this should not happen: log(det) > log(previous_det) (-76.918686711992535 > -77.096937714817869). You may want to try with a higher value of support_fraction (current value: 0.512).\n",
      "  warnings.warn(\"Determinant has increased; this should not happen: \"\n",
      "c:\\users\\wow80\\appdata\\local\\programs\\python\\python39\\lib\\site-packages\\sklearn\\covariance\\_robust_covariance.py:166: RuntimeWarning: Determinant has increased; this should not happen: log(det) > log(previous_det) (-76.710942106289110 > -77.218942327413657). You may want to try with a higher value of support_fraction (current value: 0.512).\n",
      "  warnings.warn(\"Determinant has increased; this should not happen: \"\n"
     ]
    },
    {
     "name": "stdout",
     "output_type": "stream",
     "text": [
      "****************************************************************************************************\n"
     ]
    }
   ],
   "source": [
    "outliers_mahal_rob_bi, md_rb_bi = robust_mahalanobis_method(df=df_fin)\n",
    "outliers_mahal_rob_bi, md_rb_bi = robust_mahalanobis_method(df=df_bivariate)\n",
    "#[141, 374, 380, 398, 404, 405, 410, 414, 418, 427]\n",
    "#print('Número de outlires con Mahalanobis: {}'.format(len(outliers_mahal_rob_bi) ) )\n",
    "print(50*'**')\n",
    "#print(outliers_mahal_rob_bi)\n"
   ]
  },
  {
   "cell_type": "code",
   "execution_count": null,
   "metadata": {},
   "outputs": [],
   "source": []
  },
  {
   "cell_type": "code",
   "execution_count": null,
   "metadata": {},
   "outputs": [],
   "source": []
  }
 ],
 "metadata": {
  "finalized": {
   "timestamp": 1625191002091,
   "trusted": true
  },
  "kernelspec": {
   "display_name": "Python 3",
   "language": "python",
   "name": "python3"
  },
  "language_info": {
   "codemirror_mode": {
    "name": "ipython",
    "version": 3
   },
   "file_extension": ".py",
   "mimetype": "text/x-python",
   "name": "python",
   "nbconvert_exporter": "python",
   "pygments_lexer": "ipython3",
   "version": "3.9.5"
  }
 },
 "nbformat": 4,
 "nbformat_minor": 4
}
