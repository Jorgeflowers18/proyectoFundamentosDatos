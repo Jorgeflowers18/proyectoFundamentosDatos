{
 "cells": [
  {
   "cell_type": "code",
   "execution_count": 1,
   "id": "ffd8d3df",
   "metadata": {},
   "outputs": [],
   "source": [
    "import pandas\n",
    "import numpy\n",
    "import matplotlib.pyplot as plt\n",
    "from pyod.models.knn import KNN\n"
   ]
  },
  {
   "cell_type": "markdown",
   "id": "491b1948",
   "metadata": {},
   "source": [
    "# Proyecto del 2° Bimestre\n",
    "- Análisis exploratorio de datos\n",
    "- Análisis y tratamiento de datos faltantes\n",
    "- Análisis de outliers con la libreria pyod\n",
    "- Regresión comparativa\n",
    "## Análisis exploratorio de datos\n",
    "Carga de datos y renombrado de columnas"
   ]
  },
  {
   "cell_type": "code",
   "execution_count": 2,
   "id": "36c4c68b",
   "metadata": {},
   "outputs": [
    {
     "data": {
      "text/html": [
       "<div>\n",
       "<style scoped>\n",
       "    .dataframe tbody tr th:only-of-type {\n",
       "        vertical-align: middle;\n",
       "    }\n",
       "\n",
       "    .dataframe tbody tr th {\n",
       "        vertical-align: top;\n",
       "    }\n",
       "\n",
       "    .dataframe thead th {\n",
       "        text-align: right;\n",
       "    }\n",
       "</style>\n",
       "<table border=\"1\" class=\"dataframe\">\n",
       "  <thead>\n",
       "    <tr style=\"text-align: right;\">\n",
       "      <th></th>\n",
       "      <th>country_name</th>\n",
       "      <th>year</th>\n",
       "      <th>life_ladder</th>\n",
       "      <th>log_per_capita</th>\n",
       "      <th>social_supp</th>\n",
       "      <th>heal_life_expec_birth</th>\n",
       "      <th>free_live_choices</th>\n",
       "      <th>generosity</th>\n",
       "      <th>percep_corrup</th>\n",
       "      <th>pos_affect</th>\n",
       "      <th>neg_affect</th>\n",
       "      <th>id_country</th>\n",
       "    </tr>\n",
       "  </thead>\n",
       "  <tbody>\n",
       "    <tr>\n",
       "      <th>0</th>\n",
       "      <td>1</td>\n",
       "      <td>2008</td>\n",
       "      <td>3.724</td>\n",
       "      <td>7.370</td>\n",
       "      <td>0.451</td>\n",
       "      <td>50.80</td>\n",
       "      <td>0.718</td>\n",
       "      <td>0.168</td>\n",
       "      <td>0.882</td>\n",
       "      <td>0.518</td>\n",
       "      <td>0.258</td>\n",
       "      <td>Afghanistan</td>\n",
       "    </tr>\n",
       "    <tr>\n",
       "      <th>1</th>\n",
       "      <td>1</td>\n",
       "      <td>2009</td>\n",
       "      <td>4.402</td>\n",
       "      <td>7.540</td>\n",
       "      <td>0.552</td>\n",
       "      <td>51.20</td>\n",
       "      <td>0.679</td>\n",
       "      <td>0.190</td>\n",
       "      <td>0.850</td>\n",
       "      <td>0.584</td>\n",
       "      <td>0.237</td>\n",
       "      <td>Afghanistan</td>\n",
       "    </tr>\n",
       "    <tr>\n",
       "      <th>2</th>\n",
       "      <td>1</td>\n",
       "      <td>2010</td>\n",
       "      <td>4.758</td>\n",
       "      <td>7.647</td>\n",
       "      <td>0.539</td>\n",
       "      <td>51.60</td>\n",
       "      <td>0.600</td>\n",
       "      <td>0.121</td>\n",
       "      <td>0.707</td>\n",
       "      <td>0.618</td>\n",
       "      <td>0.275</td>\n",
       "      <td>Afghanistan</td>\n",
       "    </tr>\n",
       "    <tr>\n",
       "      <th>3</th>\n",
       "      <td>1</td>\n",
       "      <td>2011</td>\n",
       "      <td>3.832</td>\n",
       "      <td>7.620</td>\n",
       "      <td>0.521</td>\n",
       "      <td>51.92</td>\n",
       "      <td>0.496</td>\n",
       "      <td>0.162</td>\n",
       "      <td>0.731</td>\n",
       "      <td>0.611</td>\n",
       "      <td>0.267</td>\n",
       "      <td>Afghanistan</td>\n",
       "    </tr>\n",
       "    <tr>\n",
       "      <th>4</th>\n",
       "      <td>1</td>\n",
       "      <td>2012</td>\n",
       "      <td>3.783</td>\n",
       "      <td>7.705</td>\n",
       "      <td>0.521</td>\n",
       "      <td>52.24</td>\n",
       "      <td>0.531</td>\n",
       "      <td>0.236</td>\n",
       "      <td>0.776</td>\n",
       "      <td>0.710</td>\n",
       "      <td>0.268</td>\n",
       "      <td>Afghanistan</td>\n",
       "    </tr>\n",
       "    <tr>\n",
       "      <th>...</th>\n",
       "      <td>...</td>\n",
       "      <td>...</td>\n",
       "      <td>...</td>\n",
       "      <td>...</td>\n",
       "      <td>...</td>\n",
       "      <td>...</td>\n",
       "      <td>...</td>\n",
       "      <td>...</td>\n",
       "      <td>...</td>\n",
       "      <td>...</td>\n",
       "      <td>...</td>\n",
       "      <td>...</td>\n",
       "    </tr>\n",
       "    <tr>\n",
       "      <th>1944</th>\n",
       "      <td>166</td>\n",
       "      <td>2016</td>\n",
       "      <td>3.735</td>\n",
       "      <td>7.984</td>\n",
       "      <td>0.768</td>\n",
       "      <td>54.40</td>\n",
       "      <td>0.733</td>\n",
       "      <td>-0.095</td>\n",
       "      <td>0.724</td>\n",
       "      <td>0.738</td>\n",
       "      <td>0.209</td>\n",
       "      <td>Zimbabwe</td>\n",
       "    </tr>\n",
       "    <tr>\n",
       "      <th>1945</th>\n",
       "      <td>166</td>\n",
       "      <td>2017</td>\n",
       "      <td>3.638</td>\n",
       "      <td>8.016</td>\n",
       "      <td>0.754</td>\n",
       "      <td>55.00</td>\n",
       "      <td>0.753</td>\n",
       "      <td>-0.098</td>\n",
       "      <td>0.751</td>\n",
       "      <td>0.806</td>\n",
       "      <td>0.224</td>\n",
       "      <td>Zimbabwe</td>\n",
       "    </tr>\n",
       "    <tr>\n",
       "      <th>1946</th>\n",
       "      <td>166</td>\n",
       "      <td>2018</td>\n",
       "      <td>3.616</td>\n",
       "      <td>8.049</td>\n",
       "      <td>0.775</td>\n",
       "      <td>55.60</td>\n",
       "      <td>0.763</td>\n",
       "      <td>-0.068</td>\n",
       "      <td>0.844</td>\n",
       "      <td>0.710</td>\n",
       "      <td>0.212</td>\n",
       "      <td>Zimbabwe</td>\n",
       "    </tr>\n",
       "    <tr>\n",
       "      <th>1947</th>\n",
       "      <td>166</td>\n",
       "      <td>2019</td>\n",
       "      <td>2.694</td>\n",
       "      <td>7.950</td>\n",
       "      <td>0.759</td>\n",
       "      <td>56.20</td>\n",
       "      <td>0.632</td>\n",
       "      <td>-0.064</td>\n",
       "      <td>0.831</td>\n",
       "      <td>0.716</td>\n",
       "      <td>0.235</td>\n",
       "      <td>Zimbabwe</td>\n",
       "    </tr>\n",
       "    <tr>\n",
       "      <th>1948</th>\n",
       "      <td>166</td>\n",
       "      <td>2020</td>\n",
       "      <td>3.160</td>\n",
       "      <td>7.829</td>\n",
       "      <td>0.717</td>\n",
       "      <td>56.80</td>\n",
       "      <td>0.643</td>\n",
       "      <td>-0.009</td>\n",
       "      <td>0.789</td>\n",
       "      <td>0.703</td>\n",
       "      <td>0.346</td>\n",
       "      <td>Zimbabwe</td>\n",
       "    </tr>\n",
       "  </tbody>\n",
       "</table>\n",
       "<p>1949 rows × 12 columns</p>\n",
       "</div>"
      ],
      "text/plain": [
       "      country_name  year  life_ladder  log_per_capita  social_supp  \\\n",
       "0                1  2008        3.724           7.370        0.451   \n",
       "1                1  2009        4.402           7.540        0.552   \n",
       "2                1  2010        4.758           7.647        0.539   \n",
       "3                1  2011        3.832           7.620        0.521   \n",
       "4                1  2012        3.783           7.705        0.521   \n",
       "...            ...   ...          ...             ...          ...   \n",
       "1944           166  2016        3.735           7.984        0.768   \n",
       "1945           166  2017        3.638           8.016        0.754   \n",
       "1946           166  2018        3.616           8.049        0.775   \n",
       "1947           166  2019        2.694           7.950        0.759   \n",
       "1948           166  2020        3.160           7.829        0.717   \n",
       "\n",
       "      heal_life_expec_birth  free_live_choices  generosity  percep_corrup  \\\n",
       "0                     50.80              0.718       0.168          0.882   \n",
       "1                     51.20              0.679       0.190          0.850   \n",
       "2                     51.60              0.600       0.121          0.707   \n",
       "3                     51.92              0.496       0.162          0.731   \n",
       "4                     52.24              0.531       0.236          0.776   \n",
       "...                     ...                ...         ...            ...   \n",
       "1944                  54.40              0.733      -0.095          0.724   \n",
       "1945                  55.00              0.753      -0.098          0.751   \n",
       "1946                  55.60              0.763      -0.068          0.844   \n",
       "1947                  56.20              0.632      -0.064          0.831   \n",
       "1948                  56.80              0.643      -0.009          0.789   \n",
       "\n",
       "      pos_affect  neg_affect   id_country  \n",
       "0          0.518       0.258  Afghanistan  \n",
       "1          0.584       0.237  Afghanistan  \n",
       "2          0.618       0.275  Afghanistan  \n",
       "3          0.611       0.267  Afghanistan  \n",
       "4          0.710       0.268  Afghanistan  \n",
       "...          ...         ...          ...  \n",
       "1944       0.738       0.209     Zimbabwe  \n",
       "1945       0.806       0.224     Zimbabwe  \n",
       "1946       0.710       0.212     Zimbabwe  \n",
       "1947       0.716       0.235     Zimbabwe  \n",
       "1948       0.703       0.346     Zimbabwe  \n",
       "\n",
       "[1949 rows x 12 columns]"
      ]
     },
     "execution_count": 2,
     "metadata": {},
     "output_type": "execute_result"
    }
   ],
   "source": [
    "df = pandas.read_csv(\"kaggle_dataset/happines_decode.csv\", sep = ',')\n",
    "# df = pandas.read_csv(\"/home/daniel/MEGA/UTPL/6ciclo/Itinerario-FundamentosDatos/Notebooks/happines_fulldataSInNulos.csv\", sep = ',')\n",
    "df.columns = ['country_name', 'year', 'life_ladder', 'log_per_capita',\n",
    "       'social_supp', 'heal_life_expec_birth',\n",
    "       'free_live_choices', 'generosity',\n",
    "       'percep_corrup', 'pos_affect', 'neg_affect', 'id_country']\n",
    "df"
   ]
  },
  {
   "cell_type": "markdown",
   "id": "50093188",
   "metadata": {},
   "source": [
    "### Info acerca del conjunto de datos"
   ]
  },
  {
   "cell_type": "code",
   "execution_count": 3,
   "id": "d1878da0",
   "metadata": {},
   "outputs": [
    {
     "data": {
      "text/html": [
       "<div>\n",
       "<style scoped>\n",
       "    .dataframe tbody tr th:only-of-type {\n",
       "        vertical-align: middle;\n",
       "    }\n",
       "\n",
       "    .dataframe tbody tr th {\n",
       "        vertical-align: top;\n",
       "    }\n",
       "\n",
       "    .dataframe thead th {\n",
       "        text-align: right;\n",
       "    }\n",
       "</style>\n",
       "<table border=\"1\" class=\"dataframe\">\n",
       "  <thead>\n",
       "    <tr style=\"text-align: right;\">\n",
       "      <th></th>\n",
       "      <th>country_name</th>\n",
       "      <th>year</th>\n",
       "      <th>life_ladder</th>\n",
       "      <th>log_per_capita</th>\n",
       "      <th>social_supp</th>\n",
       "      <th>heal_life_expec_birth</th>\n",
       "      <th>free_live_choices</th>\n",
       "      <th>generosity</th>\n",
       "      <th>percep_corrup</th>\n",
       "      <th>pos_affect</th>\n",
       "      <th>neg_affect</th>\n",
       "      <th>id_country</th>\n",
       "    </tr>\n",
       "  </thead>\n",
       "  <tbody>\n",
       "    <tr>\n",
       "      <th>0</th>\n",
       "      <td>1</td>\n",
       "      <td>2008</td>\n",
       "      <td>3.724</td>\n",
       "      <td>7.370</td>\n",
       "      <td>0.451</td>\n",
       "      <td>50.80</td>\n",
       "      <td>0.718</td>\n",
       "      <td>0.168</td>\n",
       "      <td>0.882</td>\n",
       "      <td>0.518</td>\n",
       "      <td>0.258</td>\n",
       "      <td>Afghanistan</td>\n",
       "    </tr>\n",
       "    <tr>\n",
       "      <th>1</th>\n",
       "      <td>1</td>\n",
       "      <td>2009</td>\n",
       "      <td>4.402</td>\n",
       "      <td>7.540</td>\n",
       "      <td>0.552</td>\n",
       "      <td>51.20</td>\n",
       "      <td>0.679</td>\n",
       "      <td>0.190</td>\n",
       "      <td>0.850</td>\n",
       "      <td>0.584</td>\n",
       "      <td>0.237</td>\n",
       "      <td>Afghanistan</td>\n",
       "    </tr>\n",
       "    <tr>\n",
       "      <th>2</th>\n",
       "      <td>1</td>\n",
       "      <td>2010</td>\n",
       "      <td>4.758</td>\n",
       "      <td>7.647</td>\n",
       "      <td>0.539</td>\n",
       "      <td>51.60</td>\n",
       "      <td>0.600</td>\n",
       "      <td>0.121</td>\n",
       "      <td>0.707</td>\n",
       "      <td>0.618</td>\n",
       "      <td>0.275</td>\n",
       "      <td>Afghanistan</td>\n",
       "    </tr>\n",
       "    <tr>\n",
       "      <th>3</th>\n",
       "      <td>1</td>\n",
       "      <td>2011</td>\n",
       "      <td>3.832</td>\n",
       "      <td>7.620</td>\n",
       "      <td>0.521</td>\n",
       "      <td>51.92</td>\n",
       "      <td>0.496</td>\n",
       "      <td>0.162</td>\n",
       "      <td>0.731</td>\n",
       "      <td>0.611</td>\n",
       "      <td>0.267</td>\n",
       "      <td>Afghanistan</td>\n",
       "    </tr>\n",
       "    <tr>\n",
       "      <th>4</th>\n",
       "      <td>1</td>\n",
       "      <td>2012</td>\n",
       "      <td>3.783</td>\n",
       "      <td>7.705</td>\n",
       "      <td>0.521</td>\n",
       "      <td>52.24</td>\n",
       "      <td>0.531</td>\n",
       "      <td>0.236</td>\n",
       "      <td>0.776</td>\n",
       "      <td>0.710</td>\n",
       "      <td>0.268</td>\n",
       "      <td>Afghanistan</td>\n",
       "    </tr>\n",
       "    <tr>\n",
       "      <th>...</th>\n",
       "      <td>...</td>\n",
       "      <td>...</td>\n",
       "      <td>...</td>\n",
       "      <td>...</td>\n",
       "      <td>...</td>\n",
       "      <td>...</td>\n",
       "      <td>...</td>\n",
       "      <td>...</td>\n",
       "      <td>...</td>\n",
       "      <td>...</td>\n",
       "      <td>...</td>\n",
       "      <td>...</td>\n",
       "    </tr>\n",
       "    <tr>\n",
       "      <th>1944</th>\n",
       "      <td>166</td>\n",
       "      <td>2016</td>\n",
       "      <td>3.735</td>\n",
       "      <td>7.984</td>\n",
       "      <td>0.768</td>\n",
       "      <td>54.40</td>\n",
       "      <td>0.733</td>\n",
       "      <td>-0.095</td>\n",
       "      <td>0.724</td>\n",
       "      <td>0.738</td>\n",
       "      <td>0.209</td>\n",
       "      <td>Zimbabwe</td>\n",
       "    </tr>\n",
       "    <tr>\n",
       "      <th>1945</th>\n",
       "      <td>166</td>\n",
       "      <td>2017</td>\n",
       "      <td>3.638</td>\n",
       "      <td>8.016</td>\n",
       "      <td>0.754</td>\n",
       "      <td>55.00</td>\n",
       "      <td>0.753</td>\n",
       "      <td>-0.098</td>\n",
       "      <td>0.751</td>\n",
       "      <td>0.806</td>\n",
       "      <td>0.224</td>\n",
       "      <td>Zimbabwe</td>\n",
       "    </tr>\n",
       "    <tr>\n",
       "      <th>1946</th>\n",
       "      <td>166</td>\n",
       "      <td>2018</td>\n",
       "      <td>3.616</td>\n",
       "      <td>8.049</td>\n",
       "      <td>0.775</td>\n",
       "      <td>55.60</td>\n",
       "      <td>0.763</td>\n",
       "      <td>-0.068</td>\n",
       "      <td>0.844</td>\n",
       "      <td>0.710</td>\n",
       "      <td>0.212</td>\n",
       "      <td>Zimbabwe</td>\n",
       "    </tr>\n",
       "    <tr>\n",
       "      <th>1947</th>\n",
       "      <td>166</td>\n",
       "      <td>2019</td>\n",
       "      <td>2.694</td>\n",
       "      <td>7.950</td>\n",
       "      <td>0.759</td>\n",
       "      <td>56.20</td>\n",
       "      <td>0.632</td>\n",
       "      <td>-0.064</td>\n",
       "      <td>0.831</td>\n",
       "      <td>0.716</td>\n",
       "      <td>0.235</td>\n",
       "      <td>Zimbabwe</td>\n",
       "    </tr>\n",
       "    <tr>\n",
       "      <th>1948</th>\n",
       "      <td>166</td>\n",
       "      <td>2020</td>\n",
       "      <td>3.160</td>\n",
       "      <td>7.829</td>\n",
       "      <td>0.717</td>\n",
       "      <td>56.80</td>\n",
       "      <td>0.643</td>\n",
       "      <td>-0.009</td>\n",
       "      <td>0.789</td>\n",
       "      <td>0.703</td>\n",
       "      <td>0.346</td>\n",
       "      <td>Zimbabwe</td>\n",
       "    </tr>\n",
       "  </tbody>\n",
       "</table>\n",
       "<p>1949 rows × 12 columns</p>\n",
       "</div>"
      ],
      "text/plain": [
       "      country_name  year  life_ladder  log_per_capita  social_supp  \\\n",
       "0                1  2008        3.724           7.370        0.451   \n",
       "1                1  2009        4.402           7.540        0.552   \n",
       "2                1  2010        4.758           7.647        0.539   \n",
       "3                1  2011        3.832           7.620        0.521   \n",
       "4                1  2012        3.783           7.705        0.521   \n",
       "...            ...   ...          ...             ...          ...   \n",
       "1944           166  2016        3.735           7.984        0.768   \n",
       "1945           166  2017        3.638           8.016        0.754   \n",
       "1946           166  2018        3.616           8.049        0.775   \n",
       "1947           166  2019        2.694           7.950        0.759   \n",
       "1948           166  2020        3.160           7.829        0.717   \n",
       "\n",
       "      heal_life_expec_birth  free_live_choices  generosity  percep_corrup  \\\n",
       "0                     50.80              0.718       0.168          0.882   \n",
       "1                     51.20              0.679       0.190          0.850   \n",
       "2                     51.60              0.600       0.121          0.707   \n",
       "3                     51.92              0.496       0.162          0.731   \n",
       "4                     52.24              0.531       0.236          0.776   \n",
       "...                     ...                ...         ...            ...   \n",
       "1944                  54.40              0.733      -0.095          0.724   \n",
       "1945                  55.00              0.753      -0.098          0.751   \n",
       "1946                  55.60              0.763      -0.068          0.844   \n",
       "1947                  56.20              0.632      -0.064          0.831   \n",
       "1948                  56.80              0.643      -0.009          0.789   \n",
       "\n",
       "      pos_affect  neg_affect   id_country  \n",
       "0          0.518       0.258  Afghanistan  \n",
       "1          0.584       0.237  Afghanistan  \n",
       "2          0.618       0.275  Afghanistan  \n",
       "3          0.611       0.267  Afghanistan  \n",
       "4          0.710       0.268  Afghanistan  \n",
       "...          ...         ...          ...  \n",
       "1944       0.738       0.209     Zimbabwe  \n",
       "1945       0.806       0.224     Zimbabwe  \n",
       "1946       0.710       0.212     Zimbabwe  \n",
       "1947       0.716       0.235     Zimbabwe  \n",
       "1948       0.703       0.346     Zimbabwe  \n",
       "\n",
       "[1949 rows x 12 columns]"
      ]
     },
     "execution_count": 3,
     "metadata": {},
     "output_type": "execute_result"
    }
   ],
   "source": [
    "df"
   ]
  },
  {
   "cell_type": "markdown",
   "id": "c934cd16",
   "metadata": {},
   "source": [
    "### Analizamos un país en concreto"
   ]
  },
  {
   "cell_type": "code",
   "execution_count": 4,
   "id": "91aad083",
   "metadata": {
    "scrolled": false
   },
   "outputs": [
    {
     "name": "stdout",
     "output_type": "stream",
     "text": [
      "Entrada país:Canada\n"
     ]
    },
    {
     "data": {
      "text/html": [
       "<div>\n",
       "<style scoped>\n",
       "    .dataframe tbody tr th:only-of-type {\n",
       "        vertical-align: middle;\n",
       "    }\n",
       "\n",
       "    .dataframe tbody tr th {\n",
       "        vertical-align: top;\n",
       "    }\n",
       "\n",
       "    .dataframe thead th {\n",
       "        text-align: right;\n",
       "    }\n",
       "</style>\n",
       "<table border=\"1\" class=\"dataframe\">\n",
       "  <thead>\n",
       "    <tr style=\"text-align: right;\">\n",
       "      <th></th>\n",
       "      <th>country_name</th>\n",
       "      <th>year</th>\n",
       "      <th>life_ladder</th>\n",
       "      <th>log_per_capita</th>\n",
       "      <th>social_supp</th>\n",
       "      <th>heal_life_expec_birth</th>\n",
       "      <th>free_live_choices</th>\n",
       "      <th>generosity</th>\n",
       "      <th>percep_corrup</th>\n",
       "      <th>pos_affect</th>\n",
       "      <th>neg_affect</th>\n",
       "      <th>id_country</th>\n",
       "    </tr>\n",
       "  </thead>\n",
       "  <tbody>\n",
       "    <tr>\n",
       "      <th>293</th>\n",
       "      <td>26</td>\n",
       "      <td>2005</td>\n",
       "      <td>7.418</td>\n",
       "      <td>10.652</td>\n",
       "      <td>0.962</td>\n",
       "      <td>71.30</td>\n",
       "      <td>0.957</td>\n",
       "      <td>0.256</td>\n",
       "      <td>0.503</td>\n",
       "      <td>0.839</td>\n",
       "      <td>0.233</td>\n",
       "      <td>Canada</td>\n",
       "    </tr>\n",
       "    <tr>\n",
       "      <th>294</th>\n",
       "      <td>26</td>\n",
       "      <td>2007</td>\n",
       "      <td>7.482</td>\n",
       "      <td>10.739</td>\n",
       "      <td>NaN</td>\n",
       "      <td>71.66</td>\n",
       "      <td>0.930</td>\n",
       "      <td>0.249</td>\n",
       "      <td>0.406</td>\n",
       "      <td>0.872</td>\n",
       "      <td>0.257</td>\n",
       "      <td>Canada</td>\n",
       "    </tr>\n",
       "    <tr>\n",
       "      <th>295</th>\n",
       "      <td>26</td>\n",
       "      <td>2008</td>\n",
       "      <td>7.486</td>\n",
       "      <td>10.738</td>\n",
       "      <td>0.939</td>\n",
       "      <td>71.84</td>\n",
       "      <td>0.926</td>\n",
       "      <td>0.262</td>\n",
       "      <td>0.370</td>\n",
       "      <td>0.890</td>\n",
       "      <td>0.202</td>\n",
       "      <td>Canada</td>\n",
       "    </tr>\n",
       "    <tr>\n",
       "      <th>296</th>\n",
       "      <td>26</td>\n",
       "      <td>2009</td>\n",
       "      <td>7.488</td>\n",
       "      <td>10.697</td>\n",
       "      <td>0.943</td>\n",
       "      <td>72.02</td>\n",
       "      <td>0.915</td>\n",
       "      <td>0.246</td>\n",
       "      <td>0.413</td>\n",
       "      <td>0.867</td>\n",
       "      <td>0.248</td>\n",
       "      <td>Canada</td>\n",
       "    </tr>\n",
       "    <tr>\n",
       "      <th>297</th>\n",
       "      <td>26</td>\n",
       "      <td>2010</td>\n",
       "      <td>7.650</td>\n",
       "      <td>10.717</td>\n",
       "      <td>0.954</td>\n",
       "      <td>72.20</td>\n",
       "      <td>0.934</td>\n",
       "      <td>0.230</td>\n",
       "      <td>0.413</td>\n",
       "      <td>0.879</td>\n",
       "      <td>0.233</td>\n",
       "      <td>Canada</td>\n",
       "    </tr>\n",
       "    <tr>\n",
       "      <th>298</th>\n",
       "      <td>26</td>\n",
       "      <td>2011</td>\n",
       "      <td>7.426</td>\n",
       "      <td>10.738</td>\n",
       "      <td>0.922</td>\n",
       "      <td>72.36</td>\n",
       "      <td>0.951</td>\n",
       "      <td>0.253</td>\n",
       "      <td>0.433</td>\n",
       "      <td>0.881</td>\n",
       "      <td>0.248</td>\n",
       "      <td>Canada</td>\n",
       "    </tr>\n",
       "    <tr>\n",
       "      <th>299</th>\n",
       "      <td>26</td>\n",
       "      <td>2012</td>\n",
       "      <td>7.415</td>\n",
       "      <td>10.744</td>\n",
       "      <td>0.948</td>\n",
       "      <td>72.52</td>\n",
       "      <td>0.918</td>\n",
       "      <td>0.290</td>\n",
       "      <td>0.466</td>\n",
       "      <td>0.857</td>\n",
       "      <td>0.229</td>\n",
       "      <td>Canada</td>\n",
       "    </tr>\n",
       "    <tr>\n",
       "      <th>300</th>\n",
       "      <td>26</td>\n",
       "      <td>2013</td>\n",
       "      <td>7.594</td>\n",
       "      <td>10.757</td>\n",
       "      <td>0.936</td>\n",
       "      <td>72.68</td>\n",
       "      <td>0.916</td>\n",
       "      <td>0.316</td>\n",
       "      <td>0.406</td>\n",
       "      <td>0.851</td>\n",
       "      <td>0.263</td>\n",
       "      <td>Canada</td>\n",
       "    </tr>\n",
       "    <tr>\n",
       "      <th>301</th>\n",
       "      <td>26</td>\n",
       "      <td>2014</td>\n",
       "      <td>7.304</td>\n",
       "      <td>10.775</td>\n",
       "      <td>0.918</td>\n",
       "      <td>72.84</td>\n",
       "      <td>0.939</td>\n",
       "      <td>0.270</td>\n",
       "      <td>0.442</td>\n",
       "      <td>0.833</td>\n",
       "      <td>0.259</td>\n",
       "      <td>Canada</td>\n",
       "    </tr>\n",
       "    <tr>\n",
       "      <th>302</th>\n",
       "      <td>26</td>\n",
       "      <td>2015</td>\n",
       "      <td>7.413</td>\n",
       "      <td>10.774</td>\n",
       "      <td>0.939</td>\n",
       "      <td>73.00</td>\n",
       "      <td>0.931</td>\n",
       "      <td>0.253</td>\n",
       "      <td>0.427</td>\n",
       "      <td>0.845</td>\n",
       "      <td>0.286</td>\n",
       "      <td>Canada</td>\n",
       "    </tr>\n",
       "    <tr>\n",
       "      <th>303</th>\n",
       "      <td>26</td>\n",
       "      <td>2016</td>\n",
       "      <td>7.245</td>\n",
       "      <td>10.773</td>\n",
       "      <td>0.924</td>\n",
       "      <td>73.20</td>\n",
       "      <td>0.912</td>\n",
       "      <td>0.211</td>\n",
       "      <td>0.385</td>\n",
       "      <td>0.825</td>\n",
       "      <td>0.237</td>\n",
       "      <td>Canada</td>\n",
       "    </tr>\n",
       "    <tr>\n",
       "      <th>304</th>\n",
       "      <td>26</td>\n",
       "      <td>2017</td>\n",
       "      <td>7.415</td>\n",
       "      <td>10.792</td>\n",
       "      <td>0.934</td>\n",
       "      <td>73.40</td>\n",
       "      <td>0.945</td>\n",
       "      <td>0.163</td>\n",
       "      <td>0.362</td>\n",
       "      <td>0.863</td>\n",
       "      <td>0.218</td>\n",
       "      <td>Canada</td>\n",
       "    </tr>\n",
       "    <tr>\n",
       "      <th>305</th>\n",
       "      <td>26</td>\n",
       "      <td>2018</td>\n",
       "      <td>7.175</td>\n",
       "      <td>10.798</td>\n",
       "      <td>0.923</td>\n",
       "      <td>73.60</td>\n",
       "      <td>0.946</td>\n",
       "      <td>0.106</td>\n",
       "      <td>0.372</td>\n",
       "      <td>0.824</td>\n",
       "      <td>0.259</td>\n",
       "      <td>Canada</td>\n",
       "    </tr>\n",
       "    <tr>\n",
       "      <th>306</th>\n",
       "      <td>26</td>\n",
       "      <td>2019</td>\n",
       "      <td>7.109</td>\n",
       "      <td>10.800</td>\n",
       "      <td>0.925</td>\n",
       "      <td>73.80</td>\n",
       "      <td>0.912</td>\n",
       "      <td>0.112</td>\n",
       "      <td>0.436</td>\n",
       "      <td>0.822</td>\n",
       "      <td>0.285</td>\n",
       "      <td>Canada</td>\n",
       "    </tr>\n",
       "    <tr>\n",
       "      <th>307</th>\n",
       "      <td>26</td>\n",
       "      <td>2020</td>\n",
       "      <td>7.025</td>\n",
       "      <td>10.730</td>\n",
       "      <td>0.931</td>\n",
       "      <td>74.00</td>\n",
       "      <td>0.887</td>\n",
       "      <td>0.050</td>\n",
       "      <td>0.434</td>\n",
       "      <td>0.796</td>\n",
       "      <td>0.307</td>\n",
       "      <td>Canada</td>\n",
       "    </tr>\n",
       "  </tbody>\n",
       "</table>\n",
       "</div>"
      ],
      "text/plain": [
       "     country_name  year  life_ladder  log_per_capita  social_supp  \\\n",
       "293            26  2005        7.418          10.652        0.962   \n",
       "294            26  2007        7.482          10.739          NaN   \n",
       "295            26  2008        7.486          10.738        0.939   \n",
       "296            26  2009        7.488          10.697        0.943   \n",
       "297            26  2010        7.650          10.717        0.954   \n",
       "298            26  2011        7.426          10.738        0.922   \n",
       "299            26  2012        7.415          10.744        0.948   \n",
       "300            26  2013        7.594          10.757        0.936   \n",
       "301            26  2014        7.304          10.775        0.918   \n",
       "302            26  2015        7.413          10.774        0.939   \n",
       "303            26  2016        7.245          10.773        0.924   \n",
       "304            26  2017        7.415          10.792        0.934   \n",
       "305            26  2018        7.175          10.798        0.923   \n",
       "306            26  2019        7.109          10.800        0.925   \n",
       "307            26  2020        7.025          10.730        0.931   \n",
       "\n",
       "     heal_life_expec_birth  free_live_choices  generosity  percep_corrup  \\\n",
       "293                  71.30              0.957       0.256          0.503   \n",
       "294                  71.66              0.930       0.249          0.406   \n",
       "295                  71.84              0.926       0.262          0.370   \n",
       "296                  72.02              0.915       0.246          0.413   \n",
       "297                  72.20              0.934       0.230          0.413   \n",
       "298                  72.36              0.951       0.253          0.433   \n",
       "299                  72.52              0.918       0.290          0.466   \n",
       "300                  72.68              0.916       0.316          0.406   \n",
       "301                  72.84              0.939       0.270          0.442   \n",
       "302                  73.00              0.931       0.253          0.427   \n",
       "303                  73.20              0.912       0.211          0.385   \n",
       "304                  73.40              0.945       0.163          0.362   \n",
       "305                  73.60              0.946       0.106          0.372   \n",
       "306                  73.80              0.912       0.112          0.436   \n",
       "307                  74.00              0.887       0.050          0.434   \n",
       "\n",
       "     pos_affect  neg_affect id_country  \n",
       "293       0.839       0.233     Canada  \n",
       "294       0.872       0.257     Canada  \n",
       "295       0.890       0.202     Canada  \n",
       "296       0.867       0.248     Canada  \n",
       "297       0.879       0.233     Canada  \n",
       "298       0.881       0.248     Canada  \n",
       "299       0.857       0.229     Canada  \n",
       "300       0.851       0.263     Canada  \n",
       "301       0.833       0.259     Canada  \n",
       "302       0.845       0.286     Canada  \n",
       "303       0.825       0.237     Canada  \n",
       "304       0.863       0.218     Canada  \n",
       "305       0.824       0.259     Canada  \n",
       "306       0.822       0.285     Canada  \n",
       "307       0.796       0.307     Canada  "
      ]
     },
     "execution_count": 4,
     "metadata": {},
     "output_type": "execute_result"
    }
   ],
   "source": [
    "# input\n",
    "nombrePais = input(\"Entrada país:\")\n",
    "\n",
    "# condición\n",
    "isCountry = df['id_country'] == nombrePais\n",
    "\n",
    "dfPais = df[isCountry]\n",
    "dfPais"
   ]
  },
  {
   "cell_type": "markdown",
   "id": "95440891",
   "metadata": {},
   "source": [
    "### Realizamos un promedio de la información de todos los paises"
   ]
  },
  {
   "cell_type": "code",
   "execution_count": 5,
   "id": "d61f5772",
   "metadata": {},
   "outputs": [
    {
     "data": {
      "text/html": [
       "<div>\n",
       "<style scoped>\n",
       "    .dataframe tbody tr th:only-of-type {\n",
       "        vertical-align: middle;\n",
       "    }\n",
       "\n",
       "    .dataframe tbody tr th {\n",
       "        vertical-align: top;\n",
       "    }\n",
       "\n",
       "    .dataframe thead th {\n",
       "        text-align: right;\n",
       "    }\n",
       "</style>\n",
       "<table border=\"1\" class=\"dataframe\">\n",
       "  <thead>\n",
       "    <tr style=\"text-align: right;\">\n",
       "      <th></th>\n",
       "      <th>year</th>\n",
       "      <th>life_ladder</th>\n",
       "      <th>log_per_capita</th>\n",
       "      <th>social_supp</th>\n",
       "      <th>heal_life_expec_birth</th>\n",
       "      <th>free_live_choices</th>\n",
       "      <th>generosity</th>\n",
       "      <th>percep_corrup</th>\n",
       "      <th>pos_affect</th>\n",
       "      <th>neg_affect</th>\n",
       "    </tr>\n",
       "    <tr>\n",
       "      <th>country_name</th>\n",
       "      <th></th>\n",
       "      <th></th>\n",
       "      <th></th>\n",
       "      <th></th>\n",
       "      <th></th>\n",
       "      <th></th>\n",
       "      <th></th>\n",
       "      <th></th>\n",
       "      <th></th>\n",
       "      <th></th>\n",
       "    </tr>\n",
       "  </thead>\n",
       "  <tbody>\n",
       "    <tr>\n",
       "      <th>1</th>\n",
       "      <td>2013.500000</td>\n",
       "      <td>3.594667</td>\n",
       "      <td>7.650833</td>\n",
       "      <td>0.508417</td>\n",
       "      <td>52.266667</td>\n",
       "      <td>0.518167</td>\n",
       "      <td>0.070083</td>\n",
       "      <td>0.843333</td>\n",
       "      <td>0.548667</td>\n",
       "      <td>0.326500</td>\n",
       "    </tr>\n",
       "    <tr>\n",
       "      <th>2</th>\n",
       "      <td>2013.923077</td>\n",
       "      <td>5.019385</td>\n",
       "      <td>9.384385</td>\n",
       "      <td>0.716231</td>\n",
       "      <td>67.546154</td>\n",
       "      <td>0.662923</td>\n",
       "      <td>-0.082692</td>\n",
       "      <td>0.869385</td>\n",
       "      <td>0.653846</td>\n",
       "      <td>0.299231</td>\n",
       "    </tr>\n",
       "    <tr>\n",
       "      <th>3</th>\n",
       "      <td>2014.625000</td>\n",
       "      <td>5.389875</td>\n",
       "      <td>9.328875</td>\n",
       "      <td>0.803571</td>\n",
       "      <td>65.290000</td>\n",
       "      <td>0.519167</td>\n",
       "      <td>-0.144333</td>\n",
       "      <td>0.691000</td>\n",
       "      <td>0.608429</td>\n",
       "      <td>0.262286</td>\n",
       "    </tr>\n",
       "    <tr>\n",
       "      <th>4</th>\n",
       "      <td>2012.500000</td>\n",
       "      <td>4.420250</td>\n",
       "      <td>8.990000</td>\n",
       "      <td>0.738250</td>\n",
       "      <td>53.550000</td>\n",
       "      <td>0.456250</td>\n",
       "      <td>-0.088250</td>\n",
       "      <td>0.866750</td>\n",
       "      <td>0.613500</td>\n",
       "      <td>0.351250</td>\n",
       "    </tr>\n",
       "    <tr>\n",
       "      <th>5</th>\n",
       "      <td>2013.000000</td>\n",
       "      <td>6.310133</td>\n",
       "      <td>10.033800</td>\n",
       "      <td>0.904400</td>\n",
       "      <td>67.900000</td>\n",
       "      <td>0.768200</td>\n",
       "      <td>-0.159867</td>\n",
       "      <td>0.842067</td>\n",
       "      <td>0.833467</td>\n",
       "      <td>0.284000</td>\n",
       "    </tr>\n",
       "    <tr>\n",
       "      <th>...</th>\n",
       "      <td>...</td>\n",
       "      <td>...</td>\n",
       "      <td>...</td>\n",
       "      <td>...</td>\n",
       "      <td>...</td>\n",
       "      <td>...</td>\n",
       "      <td>...</td>\n",
       "      <td>...</td>\n",
       "      <td>...</td>\n",
       "      <td>...</td>\n",
       "    </tr>\n",
       "    <tr>\n",
       "      <th>162</th>\n",
       "      <td>2012.866667</td>\n",
       "      <td>6.019867</td>\n",
       "      <td>9.480083</td>\n",
       "      <td>0.910133</td>\n",
       "      <td>65.958667</td>\n",
       "      <td>0.666400</td>\n",
       "      <td>-0.164182</td>\n",
       "      <td>0.795200</td>\n",
       "      <td>0.801800</td>\n",
       "      <td>0.260067</td>\n",
       "    </tr>\n",
       "    <tr>\n",
       "      <th>163</th>\n",
       "      <td>2012.500000</td>\n",
       "      <td>5.305857</td>\n",
       "      <td>8.655286</td>\n",
       "      <td>0.829231</td>\n",
       "      <td>66.928571</td>\n",
       "      <td>0.882455</td>\n",
       "      <td>0.002615</td>\n",
       "      <td>0.784700</td>\n",
       "      <td>0.645385</td>\n",
       "      <td>0.206615</td>\n",
       "    </tr>\n",
       "    <tr>\n",
       "      <th>164</th>\n",
       "      <td>2013.416667</td>\n",
       "      <td>3.912250</td>\n",
       "      <td>8.102700</td>\n",
       "      <td>0.739833</td>\n",
       "      <td>54.866667</td>\n",
       "      <td>0.622417</td>\n",
       "      <td>-0.126200</td>\n",
       "      <td>0.824667</td>\n",
       "      <td>0.530500</td>\n",
       "      <td>0.293583</td>\n",
       "    </tr>\n",
       "    <tr>\n",
       "      <th>165</th>\n",
       "      <td>2013.214286</td>\n",
       "      <td>4.551714</td>\n",
       "      <td>8.066857</td>\n",
       "      <td>0.737714</td>\n",
       "      <td>51.707143</td>\n",
       "      <td>0.756786</td>\n",
       "      <td>0.013357</td>\n",
       "      <td>0.828857</td>\n",
       "      <td>0.720643</td>\n",
       "      <td>0.294357</td>\n",
       "    </tr>\n",
       "    <tr>\n",
       "      <th>166</th>\n",
       "      <td>2013.000000</td>\n",
       "      <td>3.882600</td>\n",
       "      <td>7.850333</td>\n",
       "      <td>0.799400</td>\n",
       "      <td>50.233333</td>\n",
       "      <td>0.587933</td>\n",
       "      <td>-0.083000</td>\n",
       "      <td>0.844200</td>\n",
       "      <td>0.717733</td>\n",
       "      <td>0.224400</td>\n",
       "    </tr>\n",
       "  </tbody>\n",
       "</table>\n",
       "<p>166 rows × 10 columns</p>\n",
       "</div>"
      ],
      "text/plain": [
       "                     year  life_ladder  log_per_capita  social_supp  \\\n",
       "country_name                                                          \n",
       "1             2013.500000     3.594667        7.650833     0.508417   \n",
       "2             2013.923077     5.019385        9.384385     0.716231   \n",
       "3             2014.625000     5.389875        9.328875     0.803571   \n",
       "4             2012.500000     4.420250        8.990000     0.738250   \n",
       "5             2013.000000     6.310133       10.033800     0.904400   \n",
       "...                   ...          ...             ...          ...   \n",
       "162           2012.866667     6.019867        9.480083     0.910133   \n",
       "163           2012.500000     5.305857        8.655286     0.829231   \n",
       "164           2013.416667     3.912250        8.102700     0.739833   \n",
       "165           2013.214286     4.551714        8.066857     0.737714   \n",
       "166           2013.000000     3.882600        7.850333     0.799400   \n",
       "\n",
       "              heal_life_expec_birth  free_live_choices  generosity  \\\n",
       "country_name                                                         \n",
       "1                         52.266667           0.518167    0.070083   \n",
       "2                         67.546154           0.662923   -0.082692   \n",
       "3                         65.290000           0.519167   -0.144333   \n",
       "4                         53.550000           0.456250   -0.088250   \n",
       "5                         67.900000           0.768200   -0.159867   \n",
       "...                             ...                ...         ...   \n",
       "162                       65.958667           0.666400   -0.164182   \n",
       "163                       66.928571           0.882455    0.002615   \n",
       "164                       54.866667           0.622417   -0.126200   \n",
       "165                       51.707143           0.756786    0.013357   \n",
       "166                       50.233333           0.587933   -0.083000   \n",
       "\n",
       "              percep_corrup  pos_affect  neg_affect  \n",
       "country_name                                         \n",
       "1                  0.843333    0.548667    0.326500  \n",
       "2                  0.869385    0.653846    0.299231  \n",
       "3                  0.691000    0.608429    0.262286  \n",
       "4                  0.866750    0.613500    0.351250  \n",
       "5                  0.842067    0.833467    0.284000  \n",
       "...                     ...         ...         ...  \n",
       "162                0.795200    0.801800    0.260067  \n",
       "163                0.784700    0.645385    0.206615  \n",
       "164                0.824667    0.530500    0.293583  \n",
       "165                0.828857    0.720643    0.294357  \n",
       "166                0.844200    0.717733    0.224400  \n",
       "\n",
       "[166 rows x 10 columns]"
      ]
     },
     "execution_count": 5,
     "metadata": {},
     "output_type": "execute_result"
    }
   ],
   "source": [
    "dfPromedio = df.groupby(by = \"country_name\").mean()\n",
    "dfPromedio"
   ]
  },
  {
   "cell_type": "markdown",
   "id": "d49f093d",
   "metadata": {},
   "source": [
    "### Análisis de los distintos valores de Ecuador"
   ]
  },
  {
   "cell_type": "code",
   "execution_count": 6,
   "id": "bab23be6",
   "metadata": {},
   "outputs": [
    {
     "data": {
      "text/plain": [
       "<matplotlib.legend.Legend at 0x18b22b5e8e0>"
      ]
     },
     "execution_count": 6,
     "metadata": {},
     "output_type": "execute_result"
    },
    {
     "data": {
      "image/png": "[encoded data removed]",
      "text/plain": [
       "<Figure size 432x288 with 1 Axes>"
      ]
     },
     "metadata": {
      "needs_background": "light"
     },
     "output_type": "display_data"
    }
   ],
   "source": [
    "plt.plot( dfPais['life_ladder'], color='green', label = ' Escalera de la vida' )\n",
    "\n",
    "plt.legend()"
   ]
  },
  {
   "cell_type": "code",
   "execution_count": 7,
   "id": "930187df",
   "metadata": {},
   "outputs": [
    {
     "data": {
      "text/plain": [
       "Text(0.5, 0, 'Año')"
      ]
     },
     "execution_count": 7,
     "metadata": {},
     "output_type": "execute_result"
    },
    {
     "data": {
      "image/png": "[encoded data removed]",
      "text/plain": [
       "<Figure size 432x288 with 1 Axes>"
      ]
     },
     "metadata": {
      "needs_background": "light"
     },
     "output_type": "display_data"
    }
   ],
   "source": [
    "plt.plot( dfPais['log_per_capita'], label = 'PIB' )\n",
    "plt.xlabel('Año')"
   ]
  },
  {
   "cell_type": "code",
   "execution_count": 8,
   "id": "ad21d01b",
   "metadata": {},
   "outputs": [
    {
     "data": {
      "text/plain": [
       "[<matplotlib.lines.Line2D at 0x18b24d77ca0>]"
      ]
     },
     "execution_count": 8,
     "metadata": {},
     "output_type": "execute_result"
    },
    {
     "data": {
      "image/png": "[encoded data removed]",
      "text/plain": [
       "<Figure size 432x288 with 1 Axes>"
      ]
     },
     "metadata": {
      "needs_background": "light"
     },
     "output_type": "display_data"
    }
   ],
   "source": [
    "plt.plot( dfPais['social_supp'], label = 'Apoyo social' )"
   ]
  },
  {
   "cell_type": "code",
   "execution_count": 9,
   "id": "3ef8cc5e",
   "metadata": {},
   "outputs": [
    {
     "data": {
      "text/plain": [
       "[<matplotlib.lines.Line2D at 0x18b24de63d0>]"
      ]
     },
     "execution_count": 9,
     "metadata": {},
     "output_type": "execute_result"
    },
    {
     "data": {
      "image/png": "[encoded data removed]",
      "text/plain": [
       "<Figure size 432x288 with 1 Axes>"
      ]
     },
     "metadata": {
      "needs_background": "light"
     },
     "output_type": "display_data"
    }
   ],
   "source": [
    "plt.plot( dfPais['heal_life_expec_birth'], label = 'Esperanza de vida saludable' )"
   ]
  },
  {
   "cell_type": "code",
   "execution_count": 10,
   "id": "d9008f81",
   "metadata": {},
   "outputs": [
    {
     "data": {
      "text/plain": [
       "[<matplotlib.lines.Line2D at 0x18b24e42fd0>]"
      ]
     },
     "execution_count": 10,
     "metadata": {},
     "output_type": "execute_result"
    },
    {
     "data": {
      "image/png": "[encoded data removed]",
      "text/plain": [
       "<Figure size 432x288 with 1 Axes>"
      ]
     },
     "metadata": {
      "needs_background": "light"
     },
     "output_type": "display_data"
    }
   ],
   "source": [
    "plt.plot( dfPais['free_live_choices'], label = 'Libertad de elección' )"
   ]
  },
  {
   "cell_type": "code",
   "execution_count": 11,
   "id": "1584effb",
   "metadata": {},
   "outputs": [
    {
     "data": {
      "text/plain": [
       "[<matplotlib.lines.Line2D at 0x18b24eb3970>]"
      ]
     },
     "execution_count": 11,
     "metadata": {},
     "output_type": "execute_result"
    },
    {
     "data": {
      "image/png": "[encoded data removed]",
      "text/plain": [
       "<Figure size 432x288 with 1 Axes>"
      ]
     },
     "metadata": {
      "needs_background": "light"
     },
     "output_type": "display_data"
    }
   ],
   "source": [
    "plt.plot( dfPais['generosity'], label = 'Generosidad' )"
   ]
  },
  {
   "cell_type": "code",
   "execution_count": 12,
   "id": "9c2f4d96",
   "metadata": {},
   "outputs": [
    {
     "data": {
      "text/plain": [
       "[<matplotlib.lines.Line2D at 0x18b24f1c970>]"
      ]
     },
     "execution_count": 12,
     "metadata": {},
     "output_type": "execute_result"
    },
    {
     "data": {
      "image/png": "[encoded data removed]",
      "text/plain": [
       "<Figure size 432x288 with 1 Axes>"
      ]
     },
     "metadata": {
      "needs_background": "light"
     },
     "output_type": "display_data"
    }
   ],
   "source": [
    "plt.plot( dfPais['percep_corrup'], label = 'Percepción de la corrupción' )"
   ]
  },
  {
   "cell_type": "code",
   "execution_count": 13,
   "id": "878d4778",
   "metadata": {},
   "outputs": [
    {
     "data": {
      "text/plain": [
       "[<matplotlib.lines.Line2D at 0x18b24f930a0>]"
      ]
     },
     "execution_count": 13,
     "metadata": {},
     "output_type": "execute_result"
    },
    {
     "data": {
      "image/png": "[encoded data removed]",
      "text/plain": [
       "<Figure size 432x288 with 1 Axes>"
      ]
     },
     "metadata": {
      "needs_background": "light"
     },
     "output_type": "display_data"
    }
   ],
   "source": [
    "plt.plot( dfPais['neg_affect'], label = 'Efecto negativo' )"
   ]
  },
  {
   "cell_type": "code",
   "execution_count": 14,
   "id": "32626a23",
   "metadata": {},
   "outputs": [
    {
     "data": {
      "text/plain": [
       "[<matplotlib.lines.Line2D at 0x18b25fd00d0>]"
      ]
     },
     "execution_count": 14,
     "metadata": {},
     "output_type": "execute_result"
    },
    {
     "data": {
      "image/png": "[encoded data removed]",
      "text/plain": [
       "<Figure size 432x288 with 1 Axes>"
      ]
     },
     "metadata": {
      "needs_background": "light"
     },
     "output_type": "display_data"
    }
   ],
   "source": [
    "plt.plot( dfPais['pos_affect'], label = 'Efecto positivo' )"
   ]
  },
  {
   "cell_type": "markdown",
   "id": "7d91af84",
   "metadata": {},
   "source": [
    "# Análisis de valores faltantes\n",
    "Para ellos utilizaremos las siguientes herramientas:\n",
    "* .isNull()\n",
    "* .info()\n",
    "* Heatmap()\n",
    "* Libreria missingno\n",
    "* Gráficas de barras"
   ]
  },
  {
   "cell_type": "code",
   "execution_count": 15,
   "id": "98bb7cc8",
   "metadata": {},
   "outputs": [],
   "source": [
    "import missingno"
   ]
  },
  {
   "cell_type": "code",
   "execution_count": 16,
   "id": "391ee412",
   "metadata": {},
   "outputs": [
    {
     "name": "stdout",
     "output_type": "stream",
     "text": [
      "<class 'pandas.core.frame.DataFrame'>\n",
      "RangeIndex: 1949 entries, 0 to 1948\n",
      "Data columns (total 12 columns):\n",
      " #   Column                 Non-Null Count  Dtype  \n",
      "---  ------                 --------------  -----  \n",
      " 0   country_name           1949 non-null   int64  \n",
      " 1   year                   1949 non-null   int64  \n",
      " 2   life_ladder            1949 non-null   float64\n",
      " 3   log_per_capita         1913 non-null   float64\n",
      " 4   social_supp            1936 non-null   float64\n",
      " 5   heal_life_expec_birth  1894 non-null   float64\n",
      " 6   free_live_choices      1917 non-null   float64\n",
      " 7   generosity             1860 non-null   float64\n",
      " 8   percep_corrup          1839 non-null   float64\n",
      " 9   pos_affect             1927 non-null   float64\n",
      " 10  neg_affect             1933 non-null   float64\n",
      " 11  id_country             1949 non-null   object \n",
      "dtypes: float64(9), int64(2), object(1)\n",
      "memory usage: 182.8+ KB\n"
     ]
    }
   ],
   "source": [
    "# Información general de nuestro conjunto de datos\n",
    "df.info(verbose = True, show_counts = True)"
   ]
  },
  {
   "cell_type": "markdown",
   "id": "2ac2b195",
   "metadata": {},
   "source": [
    "# ¿Cuantos datos nulos están presentes en nuestro conjunto de datos?"
   ]
  },
  {
   "cell_type": "code",
   "execution_count": 17,
   "id": "5b19ff12",
   "metadata": {},
   "outputs": [
    {
     "data": {
      "text/html": [
       "<div>\n",
       "<style scoped>\n",
       "    .dataframe tbody tr th:only-of-type {\n",
       "        vertical-align: middle;\n",
       "    }\n",
       "\n",
       "    .dataframe tbody tr th {\n",
       "        vertical-align: top;\n",
       "    }\n",
       "\n",
       "    .dataframe thead th {\n",
       "        text-align: right;\n",
       "    }\n",
       "</style>\n",
       "<table border=\"1\" class=\"dataframe\">\n",
       "  <thead>\n",
       "    <tr style=\"text-align: right;\">\n",
       "      <th></th>\n",
       "      <th>country_name</th>\n",
       "      <th>year</th>\n",
       "      <th>life_ladder</th>\n",
       "      <th>log_per_capita</th>\n",
       "      <th>social_supp</th>\n",
       "      <th>heal_life_expec_birth</th>\n",
       "      <th>free_live_choices</th>\n",
       "      <th>generosity</th>\n",
       "      <th>percep_corrup</th>\n",
       "      <th>pos_affect</th>\n",
       "      <th>neg_affect</th>\n",
       "      <th>id_country</th>\n",
       "    </tr>\n",
       "  </thead>\n",
       "  <tbody>\n",
       "    <tr>\n",
       "      <th>0</th>\n",
       "      <td>False</td>\n",
       "      <td>False</td>\n",
       "      <td>False</td>\n",
       "      <td>False</td>\n",
       "      <td>False</td>\n",
       "      <td>False</td>\n",
       "      <td>False</td>\n",
       "      <td>False</td>\n",
       "      <td>False</td>\n",
       "      <td>False</td>\n",
       "      <td>False</td>\n",
       "      <td>False</td>\n",
       "    </tr>\n",
       "    <tr>\n",
       "      <th>1</th>\n",
       "      <td>False</td>\n",
       "      <td>False</td>\n",
       "      <td>False</td>\n",
       "      <td>False</td>\n",
       "      <td>False</td>\n",
       "      <td>False</td>\n",
       "      <td>False</td>\n",
       "      <td>False</td>\n",
       "      <td>False</td>\n",
       "      <td>False</td>\n",
       "      <td>False</td>\n",
       "      <td>False</td>\n",
       "    </tr>\n",
       "    <tr>\n",
       "      <th>2</th>\n",
       "      <td>False</td>\n",
       "      <td>False</td>\n",
       "      <td>False</td>\n",
       "      <td>False</td>\n",
       "      <td>False</td>\n",
       "      <td>False</td>\n",
       "      <td>False</td>\n",
       "      <td>False</td>\n",
       "      <td>False</td>\n",
       "      <td>False</td>\n",
       "      <td>False</td>\n",
       "      <td>False</td>\n",
       "    </tr>\n",
       "    <tr>\n",
       "      <th>3</th>\n",
       "      <td>False</td>\n",
       "      <td>False</td>\n",
       "      <td>False</td>\n",
       "      <td>False</td>\n",
       "      <td>False</td>\n",
       "      <td>False</td>\n",
       "      <td>False</td>\n",
       "      <td>False</td>\n",
       "      <td>False</td>\n",
       "      <td>False</td>\n",
       "      <td>False</td>\n",
       "      <td>False</td>\n",
       "    </tr>\n",
       "    <tr>\n",
       "      <th>4</th>\n",
       "      <td>False</td>\n",
       "      <td>False</td>\n",
       "      <td>False</td>\n",
       "      <td>False</td>\n",
       "      <td>False</td>\n",
       "      <td>False</td>\n",
       "      <td>False</td>\n",
       "      <td>False</td>\n",
       "      <td>False</td>\n",
       "      <td>False</td>\n",
       "      <td>False</td>\n",
       "      <td>False</td>\n",
       "    </tr>\n",
       "    <tr>\n",
       "      <th>...</th>\n",
       "      <td>...</td>\n",
       "      <td>...</td>\n",
       "      <td>...</td>\n",
       "      <td>...</td>\n",
       "      <td>...</td>\n",
       "      <td>...</td>\n",
       "      <td>...</td>\n",
       "      <td>...</td>\n",
       "      <td>...</td>\n",
       "      <td>...</td>\n",
       "      <td>...</td>\n",
       "      <td>...</td>\n",
       "    </tr>\n",
       "    <tr>\n",
       "      <th>1944</th>\n",
       "      <td>False</td>\n",
       "      <td>False</td>\n",
       "      <td>False</td>\n",
       "      <td>False</td>\n",
       "      <td>False</td>\n",
       "      <td>False</td>\n",
       "      <td>False</td>\n",
       "      <td>False</td>\n",
       "      <td>False</td>\n",
       "      <td>False</td>\n",
       "      <td>False</td>\n",
       "      <td>False</td>\n",
       "    </tr>\n",
       "    <tr>\n",
       "      <th>1945</th>\n",
       "      <td>False</td>\n",
       "      <td>False</td>\n",
       "      <td>False</td>\n",
       "      <td>False</td>\n",
       "      <td>False</td>\n",
       "      <td>False</td>\n",
       "      <td>False</td>\n",
       "      <td>False</td>\n",
       "      <td>False</td>\n",
       "      <td>False</td>\n",
       "      <td>False</td>\n",
       "      <td>False</td>\n",
       "    </tr>\n",
       "    <tr>\n",
       "      <th>1946</th>\n",
       "      <td>False</td>\n",
       "      <td>False</td>\n",
       "      <td>False</td>\n",
       "      <td>False</td>\n",
       "      <td>False</td>\n",
       "      <td>False</td>\n",
       "      <td>False</td>\n",
       "      <td>False</td>\n",
       "      <td>False</td>\n",
       "      <td>False</td>\n",
       "      <td>False</td>\n",
       "      <td>False</td>\n",
       "    </tr>\n",
       "    <tr>\n",
       "      <th>1947</th>\n",
       "      <td>False</td>\n",
       "      <td>False</td>\n",
       "      <td>False</td>\n",
       "      <td>False</td>\n",
       "      <td>False</td>\n",
       "      <td>False</td>\n",
       "      <td>False</td>\n",
       "      <td>False</td>\n",
       "      <td>False</td>\n",
       "      <td>False</td>\n",
       "      <td>False</td>\n",
       "      <td>False</td>\n",
       "    </tr>\n",
       "    <tr>\n",
       "      <th>1948</th>\n",
       "      <td>False</td>\n",
       "      <td>False</td>\n",
       "      <td>False</td>\n",
       "      <td>False</td>\n",
       "      <td>False</td>\n",
       "      <td>False</td>\n",
       "      <td>False</td>\n",
       "      <td>False</td>\n",
       "      <td>False</td>\n",
       "      <td>False</td>\n",
       "      <td>False</td>\n",
       "      <td>False</td>\n",
       "    </tr>\n",
       "  </tbody>\n",
       "</table>\n",
       "<p>1949 rows × 12 columns</p>\n",
       "</div>"
      ],
      "text/plain": [
       "      country_name   year  life_ladder  log_per_capita  social_supp  \\\n",
       "0            False  False        False           False        False   \n",
       "1            False  False        False           False        False   \n",
       "2            False  False        False           False        False   \n",
       "3            False  False        False           False        False   \n",
       "4            False  False        False           False        False   \n",
       "...            ...    ...          ...             ...          ...   \n",
       "1944         False  False        False           False        False   \n",
       "1945         False  False        False           False        False   \n",
       "1946         False  False        False           False        False   \n",
       "1947         False  False        False           False        False   \n",
       "1948         False  False        False           False        False   \n",
       "\n",
       "      heal_life_expec_birth  free_live_choices  generosity  percep_corrup  \\\n",
       "0                     False              False       False          False   \n",
       "1                     False              False       False          False   \n",
       "2                     False              False       False          False   \n",
       "3                     False              False       False          False   \n",
       "4                     False              False       False          False   \n",
       "...                     ...                ...         ...            ...   \n",
       "1944                  False              False       False          False   \n",
       "1945                  False              False       False          False   \n",
       "1946                  False              False       False          False   \n",
       "1947                  False              False       False          False   \n",
       "1948                  False              False       False          False   \n",
       "\n",
       "      pos_affect  neg_affect  id_country  \n",
       "0          False       False       False  \n",
       "1          False       False       False  \n",
       "2          False       False       False  \n",
       "3          False       False       False  \n",
       "4          False       False       False  \n",
       "...          ...         ...         ...  \n",
       "1944       False       False       False  \n",
       "1945       False       False       False  \n",
       "1946       False       False       False  \n",
       "1947       False       False       False  \n",
       "1948       False       False       False  \n",
       "\n",
       "[1949 rows x 12 columns]"
      ]
     },
     "execution_count": 17,
     "metadata": {},
     "output_type": "execute_result"
    }
   ],
   "source": [
    "df.isnull()"
   ]
  },
  {
   "cell_type": "markdown",
   "id": "2e4a3ff1",
   "metadata": {},
   "source": [
    "## Mapa de calor"
   ]
  },
  {
   "cell_type": "code",
   "execution_count": 18,
   "id": "54e2d280",
   "metadata": {},
   "outputs": [
    {
     "name": "stderr",
     "output_type": "stream",
     "text": [
      "c:\\users\\wow80\\appdata\\local\\programs\\python\\python39\\lib\\site-packages\\seaborn\\matrix.py:301: UserWarning: Attempting to set identical left == right == 0 results in singular transformations; automatically expanding.\n",
      "  ax.set(xlim=(0, self.data.shape[1]), ylim=(0, self.data.shape[0]))\n",
      "c:\\users\\wow80\\appdata\\local\\programs\\python\\python39\\lib\\site-packages\\seaborn\\matrix.py:301: UserWarning: Attempting to set identical bottom == top == 0 results in singular transformations; automatically expanding.\n",
      "  ax.set(xlim=(0, self.data.shape[1]), ylim=(0, self.data.shape[0]))\n"
     ]
    },
    {
     "data": {
      "text/plain": [
       "<AxesSubplot:>"
      ]
     },
     "execution_count": 18,
     "metadata": {},
     "output_type": "execute_result"
    },
    {
     "data": {
      "image/png": "[encoded data removed]",
      "text/plain": [
       "<Figure size 1440x864 with 1 Axes>"
      ]
     },
     "metadata": {},
     "output_type": "display_data"
    }
   ],
   "source": [
    "missingno.heatmap(df.isnull(), cbar=False)"
   ]
  },
  {
   "cell_type": "markdown",
   "id": "38b25997",
   "metadata": {},
   "source": [
    "## Análisis de la posición de los valores faltantes\n",
    "Esto con el fin de identificar un posible patrón"
   ]
  },
  {
   "cell_type": "code",
   "execution_count": 19,
   "id": "3bf973ba",
   "metadata": {},
   "outputs": [
    {
     "data": {
      "text/plain": [
       "<AxesSubplot:>"
      ]
     },
     "execution_count": 19,
     "metadata": {},
     "output_type": "execute_result"
    },
    {
     "data": {
      "image/png": "[encoded data removed]",
      "text/plain": [
       "<Figure size 1800x720 with 2 Axes>"
      ]
     },
     "metadata": {
      "needs_background": "light"
     },
     "output_type": "display_data"
    }
   ],
   "source": [
    "missingno.matrix(df)"
   ]
  },
  {
   "cell_type": "markdown",
   "id": "625f0830",
   "metadata": {},
   "source": [
    "## Tratamiento de los valores nulos\n",
    "Optamos rellenar los valores faltantes por la media de cada país en su respectiva columna"
   ]
  },
  {
   "cell_type": "code",
   "execution_count": 20,
   "id": "ac85b031",
   "metadata": {},
   "outputs": [
    {
     "name": "stdout",
     "output_type": "stream",
     "text": [
      "23388\n",
      "20496\n",
      "<class 'pandas.core.frame.DataFrame'>\n"
     ]
    }
   ],
   "source": [
    "df_sin_nulos = df.copy()\n",
    "df_sin_nulos = df_sin_nulos.dropna()\n",
    "# Conteo para verificar que se eliminaron los nulos\n",
    "print(df.size)\n",
    "print(df_sin_nulos.size)\n",
    "df_pais = df_sin_nulos.groupby('country_name')[['log_per_capita']].mean()\n",
    "#df_pais = pd.DataFrame(df_pais)\n",
    "df_pais\n",
    "print(type(df))"
   ]
  },
  {
   "cell_type": "code",
   "execution_count": 21,
   "id": "79493fc7",
   "metadata": {},
   "outputs": [
    {
     "data": {
      "text/html": [
       "<div>\n",
       "<style scoped>\n",
       "    .dataframe tbody tr th:only-of-type {\n",
       "        vertical-align: middle;\n",
       "    }\n",
       "\n",
       "    .dataframe tbody tr th {\n",
       "        vertical-align: top;\n",
       "    }\n",
       "\n",
       "    .dataframe thead th {\n",
       "        text-align: right;\n",
       "    }\n",
       "</style>\n",
       "<table border=\"1\" class=\"dataframe\">\n",
       "  <thead>\n",
       "    <tr style=\"text-align: right;\">\n",
       "      <th></th>\n",
       "      <th>log_per_capita</th>\n",
       "      <th>countries</th>\n",
       "    </tr>\n",
       "    <tr>\n",
       "      <th>country_name</th>\n",
       "      <th></th>\n",
       "      <th></th>\n",
       "    </tr>\n",
       "  </thead>\n",
       "  <tbody>\n",
       "    <tr>\n",
       "      <th>1</th>\n",
       "      <td>7.650833</td>\n",
       "      <td>1</td>\n",
       "    </tr>\n",
       "    <tr>\n",
       "      <th>2</th>\n",
       "      <td>9.384385</td>\n",
       "      <td>2</td>\n",
       "    </tr>\n",
       "    <tr>\n",
       "      <th>3</th>\n",
       "      <td>9.329400</td>\n",
       "      <td>3</td>\n",
       "    </tr>\n",
       "    <tr>\n",
       "      <th>4</th>\n",
       "      <td>8.990000</td>\n",
       "      <td>4</td>\n",
       "    </tr>\n",
       "    <tr>\n",
       "      <th>5</th>\n",
       "      <td>10.033800</td>\n",
       "      <td>5</td>\n",
       "    </tr>\n",
       "    <tr>\n",
       "      <th>...</th>\n",
       "      <td>...</td>\n",
       "      <td>...</td>\n",
       "    </tr>\n",
       "    <tr>\n",
       "      <th>162</th>\n",
       "      <td>9.495273</td>\n",
       "      <td>162</td>\n",
       "    </tr>\n",
       "    <tr>\n",
       "      <th>163</th>\n",
       "      <td>8.647700</td>\n",
       "      <td>163</td>\n",
       "    </tr>\n",
       "    <tr>\n",
       "      <th>164</th>\n",
       "      <td>8.217143</td>\n",
       "      <td>164</td>\n",
       "    </tr>\n",
       "    <tr>\n",
       "      <th>165</th>\n",
       "      <td>8.066857</td>\n",
       "      <td>165</td>\n",
       "    </tr>\n",
       "    <tr>\n",
       "      <th>166</th>\n",
       "      <td>7.850333</td>\n",
       "      <td>166</td>\n",
       "    </tr>\n",
       "  </tbody>\n",
       "</table>\n",
       "<p>155 rows × 2 columns</p>\n",
       "</div>"
      ],
      "text/plain": [
       "              log_per_capita  countries\n",
       "country_name                           \n",
       "1                   7.650833          1\n",
       "2                   9.384385          2\n",
       "3                   9.329400          3\n",
       "4                   8.990000          4\n",
       "5                  10.033800          5\n",
       "...                      ...        ...\n",
       "162                 9.495273        162\n",
       "163                 8.647700        163\n",
       "164                 8.217143        164\n",
       "165                 8.066857        165\n",
       "166                 7.850333        166\n",
       "\n",
       "[155 rows x 2 columns]"
      ]
     },
     "execution_count": 21,
     "metadata": {},
     "output_type": "execute_result"
    }
   ],
   "source": [
    "df_pais['countries'] = list(df_pais.index)\n",
    "df_pais"
   ]
  },
  {
   "cell_type": "code",
   "execution_count": 22,
   "id": "84f7956d",
   "metadata": {},
   "outputs": [],
   "source": [
    "df.log_per_capita.fillna(df['log_per_capita'].mean(), inplace=True)\n",
    "df.social_supp.fillna(df['social_supp'].mean(), inplace=True)\n",
    "df.heal_life_expec_birth.fillna(df['heal_life_expec_birth'].mean(), inplace=True)\n",
    "df.free_live_choices.fillna(df['free_live_choices'].mean(), inplace=True)\n",
    "df.generosity.fillna(df['generosity'].mean(), inplace=True)\n",
    "df.percep_corrup.fillna(df['percep_corrup'].mean(), inplace=True)\n",
    "df.pos_affect.fillna(df['pos_affect'].mean(), inplace=True)\n",
    "df.neg_affect.fillna(df['neg_affect'].mean(), inplace=True)"
   ]
  },
  {
   "cell_type": "code",
   "execution_count": 23,
   "id": "0734aea6",
   "metadata": {},
   "outputs": [
    {
     "name": "stdout",
     "output_type": "stream",
     "text": [
      "<class 'pandas.core.frame.DataFrame'>\n",
      "RangeIndex: 1949 entries, 0 to 1948\n",
      "Data columns (total 12 columns):\n",
      " #   Column                 Non-Null Count  Dtype  \n",
      "---  ------                 --------------  -----  \n",
      " 0   country_name           1949 non-null   int64  \n",
      " 1   year                   1949 non-null   int64  \n",
      " 2   life_ladder            1949 non-null   float64\n",
      " 3   log_per_capita         1949 non-null   float64\n",
      " 4   social_supp            1949 non-null   float64\n",
      " 5   heal_life_expec_birth  1949 non-null   float64\n",
      " 6   free_live_choices      1949 non-null   float64\n",
      " 7   generosity             1949 non-null   float64\n",
      " 8   percep_corrup          1949 non-null   float64\n",
      " 9   pos_affect             1949 non-null   float64\n",
      " 10  neg_affect             1949 non-null   float64\n",
      " 11  id_country             1949 non-null   object \n",
      "dtypes: float64(9), int64(2), object(1)\n",
      "memory usage: 182.8+ KB\n"
     ]
    },
    {
     "data": {
      "text/html": [
       "<div>\n",
       "<style scoped>\n",
       "    .dataframe tbody tr th:only-of-type {\n",
       "        vertical-align: middle;\n",
       "    }\n",
       "\n",
       "    .dataframe tbody tr th {\n",
       "        vertical-align: top;\n",
       "    }\n",
       "\n",
       "    .dataframe thead th {\n",
       "        text-align: right;\n",
       "    }\n",
       "</style>\n",
       "<table border=\"1\" class=\"dataframe\">\n",
       "  <thead>\n",
       "    <tr style=\"text-align: right;\">\n",
       "      <th></th>\n",
       "      <th>country_name</th>\n",
       "      <th>year</th>\n",
       "      <th>life_ladder</th>\n",
       "      <th>log_per_capita</th>\n",
       "      <th>social_supp</th>\n",
       "      <th>heal_life_expec_birth</th>\n",
       "      <th>free_live_choices</th>\n",
       "      <th>generosity</th>\n",
       "      <th>percep_corrup</th>\n",
       "      <th>pos_affect</th>\n",
       "      <th>neg_affect</th>\n",
       "      <th>id_country</th>\n",
       "    </tr>\n",
       "  </thead>\n",
       "  <tbody>\n",
       "    <tr>\n",
       "      <th>0</th>\n",
       "      <td>1</td>\n",
       "      <td>2008</td>\n",
       "      <td>3.724</td>\n",
       "      <td>7.370</td>\n",
       "      <td>0.451</td>\n",
       "      <td>50.80</td>\n",
       "      <td>0.718</td>\n",
       "      <td>0.168</td>\n",
       "      <td>0.882</td>\n",
       "      <td>0.518</td>\n",
       "      <td>0.258</td>\n",
       "      <td>Afghanistan</td>\n",
       "    </tr>\n",
       "    <tr>\n",
       "      <th>1</th>\n",
       "      <td>1</td>\n",
       "      <td>2009</td>\n",
       "      <td>4.402</td>\n",
       "      <td>7.540</td>\n",
       "      <td>0.552</td>\n",
       "      <td>51.20</td>\n",
       "      <td>0.679</td>\n",
       "      <td>0.190</td>\n",
       "      <td>0.850</td>\n",
       "      <td>0.584</td>\n",
       "      <td>0.237</td>\n",
       "      <td>Afghanistan</td>\n",
       "    </tr>\n",
       "    <tr>\n",
       "      <th>2</th>\n",
       "      <td>1</td>\n",
       "      <td>2010</td>\n",
       "      <td>4.758</td>\n",
       "      <td>7.647</td>\n",
       "      <td>0.539</td>\n",
       "      <td>51.60</td>\n",
       "      <td>0.600</td>\n",
       "      <td>0.121</td>\n",
       "      <td>0.707</td>\n",
       "      <td>0.618</td>\n",
       "      <td>0.275</td>\n",
       "      <td>Afghanistan</td>\n",
       "    </tr>\n",
       "    <tr>\n",
       "      <th>3</th>\n",
       "      <td>1</td>\n",
       "      <td>2011</td>\n",
       "      <td>3.832</td>\n",
       "      <td>7.620</td>\n",
       "      <td>0.521</td>\n",
       "      <td>51.92</td>\n",
       "      <td>0.496</td>\n",
       "      <td>0.162</td>\n",
       "      <td>0.731</td>\n",
       "      <td>0.611</td>\n",
       "      <td>0.267</td>\n",
       "      <td>Afghanistan</td>\n",
       "    </tr>\n",
       "    <tr>\n",
       "      <th>4</th>\n",
       "      <td>1</td>\n",
       "      <td>2012</td>\n",
       "      <td>3.783</td>\n",
       "      <td>7.705</td>\n",
       "      <td>0.521</td>\n",
       "      <td>52.24</td>\n",
       "      <td>0.531</td>\n",
       "      <td>0.236</td>\n",
       "      <td>0.776</td>\n",
       "      <td>0.710</td>\n",
       "      <td>0.268</td>\n",
       "      <td>Afghanistan</td>\n",
       "    </tr>\n",
       "    <tr>\n",
       "      <th>...</th>\n",
       "      <td>...</td>\n",
       "      <td>...</td>\n",
       "      <td>...</td>\n",
       "      <td>...</td>\n",
       "      <td>...</td>\n",
       "      <td>...</td>\n",
       "      <td>...</td>\n",
       "      <td>...</td>\n",
       "      <td>...</td>\n",
       "      <td>...</td>\n",
       "      <td>...</td>\n",
       "      <td>...</td>\n",
       "    </tr>\n",
       "    <tr>\n",
       "      <th>1944</th>\n",
       "      <td>166</td>\n",
       "      <td>2016</td>\n",
       "      <td>3.735</td>\n",
       "      <td>7.984</td>\n",
       "      <td>0.768</td>\n",
       "      <td>54.40</td>\n",
       "      <td>0.733</td>\n",
       "      <td>-0.095</td>\n",
       "      <td>0.724</td>\n",
       "      <td>0.738</td>\n",
       "      <td>0.209</td>\n",
       "      <td>Zimbabwe</td>\n",
       "    </tr>\n",
       "    <tr>\n",
       "      <th>1945</th>\n",
       "      <td>166</td>\n",
       "      <td>2017</td>\n",
       "      <td>3.638</td>\n",
       "      <td>8.016</td>\n",
       "      <td>0.754</td>\n",
       "      <td>55.00</td>\n",
       "      <td>0.753</td>\n",
       "      <td>-0.098</td>\n",
       "      <td>0.751</td>\n",
       "      <td>0.806</td>\n",
       "      <td>0.224</td>\n",
       "      <td>Zimbabwe</td>\n",
       "    </tr>\n",
       "    <tr>\n",
       "      <th>1946</th>\n",
       "      <td>166</td>\n",
       "      <td>2018</td>\n",
       "      <td>3.616</td>\n",
       "      <td>8.049</td>\n",
       "      <td>0.775</td>\n",
       "      <td>55.60</td>\n",
       "      <td>0.763</td>\n",
       "      <td>-0.068</td>\n",
       "      <td>0.844</td>\n",
       "      <td>0.710</td>\n",
       "      <td>0.212</td>\n",
       "      <td>Zimbabwe</td>\n",
       "    </tr>\n",
       "    <tr>\n",
       "      <th>1947</th>\n",
       "      <td>166</td>\n",
       "      <td>2019</td>\n",
       "      <td>2.694</td>\n",
       "      <td>7.950</td>\n",
       "      <td>0.759</td>\n",
       "      <td>56.20</td>\n",
       "      <td>0.632</td>\n",
       "      <td>-0.064</td>\n",
       "      <td>0.831</td>\n",
       "      <td>0.716</td>\n",
       "      <td>0.235</td>\n",
       "      <td>Zimbabwe</td>\n",
       "    </tr>\n",
       "    <tr>\n",
       "      <th>1948</th>\n",
       "      <td>166</td>\n",
       "      <td>2020</td>\n",
       "      <td>3.160</td>\n",
       "      <td>7.829</td>\n",
       "      <td>0.717</td>\n",
       "      <td>56.80</td>\n",
       "      <td>0.643</td>\n",
       "      <td>-0.009</td>\n",
       "      <td>0.789</td>\n",
       "      <td>0.703</td>\n",
       "      <td>0.346</td>\n",
       "      <td>Zimbabwe</td>\n",
       "    </tr>\n",
       "  </tbody>\n",
       "</table>\n",
       "<p>1949 rows × 12 columns</p>\n",
       "</div>"
      ],
      "text/plain": [
       "      country_name  year  life_ladder  log_per_capita  social_supp  \\\n",
       "0                1  2008        3.724           7.370        0.451   \n",
       "1                1  2009        4.402           7.540        0.552   \n",
       "2                1  2010        4.758           7.647        0.539   \n",
       "3                1  2011        3.832           7.620        0.521   \n",
       "4                1  2012        3.783           7.705        0.521   \n",
       "...            ...   ...          ...             ...          ...   \n",
       "1944           166  2016        3.735           7.984        0.768   \n",
       "1945           166  2017        3.638           8.016        0.754   \n",
       "1946           166  2018        3.616           8.049        0.775   \n",
       "1947           166  2019        2.694           7.950        0.759   \n",
       "1948           166  2020        3.160           7.829        0.717   \n",
       "\n",
       "      heal_life_expec_birth  free_live_choices  generosity  percep_corrup  \\\n",
       "0                     50.80              0.718       0.168          0.882   \n",
       "1                     51.20              0.679       0.190          0.850   \n",
       "2                     51.60              0.600       0.121          0.707   \n",
       "3                     51.92              0.496       0.162          0.731   \n",
       "4                     52.24              0.531       0.236          0.776   \n",
       "...                     ...                ...         ...            ...   \n",
       "1944                  54.40              0.733      -0.095          0.724   \n",
       "1945                  55.00              0.753      -0.098          0.751   \n",
       "1946                  55.60              0.763      -0.068          0.844   \n",
       "1947                  56.20              0.632      -0.064          0.831   \n",
       "1948                  56.80              0.643      -0.009          0.789   \n",
       "\n",
       "      pos_affect  neg_affect   id_country  \n",
       "0          0.518       0.258  Afghanistan  \n",
       "1          0.584       0.237  Afghanistan  \n",
       "2          0.618       0.275  Afghanistan  \n",
       "3          0.611       0.267  Afghanistan  \n",
       "4          0.710       0.268  Afghanistan  \n",
       "...          ...         ...          ...  \n",
       "1944       0.738       0.209     Zimbabwe  \n",
       "1945       0.806       0.224     Zimbabwe  \n",
       "1946       0.710       0.212     Zimbabwe  \n",
       "1947       0.716       0.235     Zimbabwe  \n",
       "1948       0.703       0.346     Zimbabwe  \n",
       "\n",
       "[1949 rows x 12 columns]"
      ]
     },
     "execution_count": 23,
     "metadata": {},
     "output_type": "execute_result"
    }
   ],
   "source": [
    "df.info()\n",
    "df"
   ]
  },
  {
   "cell_type": "markdown",
   "id": "c6131640",
   "metadata": {},
   "source": [
    "## Comprobamos los resultados"
   ]
  },
  {
   "cell_type": "code",
   "execution_count": 24,
   "id": "914c6065",
   "metadata": {},
   "outputs": [
    {
     "data": {
      "text/plain": [
       "<AxesSubplot:>"
      ]
     },
     "execution_count": 24,
     "metadata": {},
     "output_type": "execute_result"
    },
    {
     "data": {
      "image/png": "[encoded data removed]",
      "text/plain": [
       "<Figure size 1800x720 with 2 Axes>"
      ]
     },
     "metadata": {
      "needs_background": "light"
     },
     "output_type": "display_data"
    }
   ],
   "source": [
    "missingno.matrix(df)"
   ]
  },
  {
   "cell_type": "markdown",
   "id": "1e2c98f2",
   "metadata": {},
   "source": [
    "# Análisis de outliers\n",
    "Generamos datos para un primer ejemplo"
   ]
  },
  {
   "cell_type": "code",
   "execution_count": 25,
   "id": "cc03ad2d",
   "metadata": {},
   "outputs": [
    {
     "data": {
      "text/plain": [
       "array([ 0.00000000e+00, -2.62374854e-01, -5.06365641e-01, -7.14876430e-01,\n",
       "       -8.73297297e-01, -9.70528020e-01, -9.99755840e-01, -9.58932825e-01,\n",
       "       -8.50919360e-01, -6.83283725e-01, -4.67771805e-01, -2.19484077e-01,\n",
       "        4.41824483e-02,  3.04753201e-01,  5.43970523e-01,  7.45072950e-01,\n",
       "        8.93969648e-01,  9.80227732e-01,  9.97803274e-01,  9.45464794e-01,\n",
       "        8.26879541e-01,  6.50356538e-01,  4.28264391e-01,  1.76164639e-01,\n",
       "       -8.82786065e-02, -3.46536352e-01, -5.80513008e-01, -7.73814312e-01,\n",
       "       -9.12896039e-01, -9.88013018e-01, -9.93901957e-01, -9.30150230e-01,\n",
       "       -8.01224791e-01, -6.16159178e-01, -3.87920559e-01, -1.32501144e-01,\n",
       "        1.32202353e-01,  3.87642703e-01,  6.15921726e-01,  8.01044381e-01,\n",
       "        9.30039504e-01,  9.93868672e-01,  9.88059507e-01,  9.13019044e-01,\n",
       "        7.74005215e-01,  5.80758432e-01,  3.46819101e-01,  8.85788691e-02,\n",
       "       -1.75867902e-01, -4.27991971e-01, -6.50127524e-01, -8.26709977e-01,\n",
       "       -9.45366564e-01, -9.97783259e-01, -9.80287335e-01, -8.94104693e-01,\n",
       "       -7.45273974e-01, -5.44223441e-01, -3.05040291e-01, -4.44835955e-02,\n",
       "        2.19189974e-01,  4.67505353e-01,  6.83063594e-01,  8.50760974e-01,\n",
       "        9.58847282e-01,  9.99749134e-01,  9.70600620e-01,  8.73444117e-01,\n",
       "        7.15087182e-01,  5.06625559e-01,  2.62665725e-01,  3.01443529e-04,\n",
       "       -2.62083959e-01, -5.06105678e-01, -7.14665613e-01, -8.73150398e-01,\n",
       "       -9.70455331e-01, -9.99762455e-01, -9.59018281e-01, -8.51077668e-01,\n",
       "       -6.83503794e-01, -4.68038215e-01, -2.19778161e-01,  4.38812972e-02,\n",
       "        3.04466083e-01,  5.43717556e-01,  7.44871859e-01,  8.93834522e-01,\n",
       "        9.80168040e-01,  9.97823199e-01,  9.45562939e-01,  8.27049028e-01,\n",
       "        6.50585494e-01,  4.28536772e-01,  1.76461361e-01, -8.79783358e-02,\n",
       "       -3.46253571e-01, -5.80267531e-01, -7.73623339e-01, -9.12772950e-01])"
      ]
     },
     "execution_count": 25,
     "metadata": {},
     "output_type": "execute_result"
    }
   ],
   "source": [
    "# Generamos valores en X y en Y\n",
    "X = numpy.arange(0,100)\n",
    "Y = numpy.sin(50*X)\n",
    "Y # Del tipo numpy.ndarray"
   ]
  },
  {
   "cell_type": "markdown",
   "id": "9dfd02f1",
   "metadata": {},
   "source": [
    "## Generamos la gráfica"
   ]
  },
  {
   "cell_type": "code",
   "execution_count": 26,
   "id": "8e9cdedc",
   "metadata": {},
   "outputs": [
    {
     "data": {
      "image/png": "[encoded data removed]",
      "text/plain": [
       "<Figure size 432x288 with 1 Axes>"
      ]
     },
     "metadata": {
      "needs_background": "light"
     },
     "output_type": "display_data"
    }
   ],
   "source": [
    "plt.plot(X,Y)\n",
    "plt.scatter(X,Y)\n",
    "plt.grid()\n",
    "plt.ylabel('Y')\n",
    "plt.xlabel('X')\n",
    "plt.show()"
   ]
  },
  {
   "cell_type": "code",
   "execution_count": 27,
   "id": "0ba06422",
   "metadata": {},
   "outputs": [],
   "source": [
    "# Insertamos outliers\n",
    "Y[5] = 1.25\n",
    "Y[60] = -2\n",
    "Y[85] = 1.4\n",
    "n_outliers = 3"
   ]
  },
  {
   "cell_type": "code",
   "execution_count": 28,
   "id": "b2313bb0",
   "metadata": {},
   "outputs": [
    {
     "data": {
      "image/png": "[encoded data removed]",
      "text/plain": [
       "<Figure size 432x288 with 1 Axes>"
      ]
     },
     "metadata": {
      "needs_background": "light"
     },
     "output_type": "display_data"
    }
   ],
   "source": [
    "# Generamos nuevamente la gráfica con los outliers\n",
    "plt.plot(X,Y)\n",
    "plt.scatter(X,Y)\n",
    "plt.grid()\n",
    "plt.ylabel('Y')\n",
    "plt.xlabel('X')\n",
    "plt.show()"
   ]
  },
  {
   "cell_type": "code",
   "execution_count": 29,
   "id": "dc2d139e",
   "metadata": {},
   "outputs": [],
   "source": [
    "from pyod.models.knn import KNN\n",
    "\n",
    "Y = Y.reshape(-1, 1)\n",
    "clf = KNN()\n",
    "clf.fit(Y)\n",
    "\n",
    "outliers = clf.predict(Y)"
   ]
  },
  {
   "cell_type": "code",
   "execution_count": 30,
   "id": "b616f3af",
   "metadata": {},
   "outputs": [
    {
     "data": {
      "text/plain": [
       "(array([ 5, 60, 85], dtype=int64),)"
      ]
     },
     "execution_count": 30,
     "metadata": {},
     "output_type": "execute_result"
    }
   ],
   "source": [
    "numpy.where(outliers == 1)"
   ]
  },
  {
   "cell_type": "code",
   "execution_count": 31,
   "id": "4791accf",
   "metadata": {},
   "outputs": [],
   "source": [
    "Y_outliers = Y[numpy.where(outliers==1)]\n",
    "X_outliers = X[numpy.where(outliers==1)]\n",
    "Y_inliers = Y[numpy.where(outliers==0)]\n",
    "X_inliers = X[numpy.where(outliers==0)]"
   ]
  },
  {
   "cell_type": "code",
   "execution_count": 32,
   "id": "0d0704c7",
   "metadata": {},
   "outputs": [
    {
     "data": {
      "image/png": "[encoded data removed]",
      "text/plain": [
       "<Figure size 432x288 with 1 Axes>"
      ]
     },
     "metadata": {
      "needs_background": "light"
     },
     "output_type": "display_data"
    }
   ],
   "source": [
    "\n",
    "plt.scatter(X_outliers, Y_outliers, edgecolor='black',color='red', label='outliers')\n",
    "plt.scatter(X_inliers, Y_inliers, edgecolor='black',color='green', label='inliers')\n",
    "\n",
    "plt.legend()\n",
    "plt.grid()\n",
    "\n",
    "plt.ylabel('Y')\n",
    "plt.xlabel('X')\n",
    "\n",
    "plt.show()"
   ]
  },
  {
   "cell_type": "markdown",
   "id": "a39c51ff",
   "metadata": {},
   "source": [
    "# Detección por KNN\n",
    "## Insertamos nuestros datos\n",
    "Tratamiento de la columna generosidad del país seleccionado anteriormente"
   ]
  },
  {
   "cell_type": "code",
   "execution_count": 33,
   "id": "53750bc9",
   "metadata": {},
   "outputs": [
    {
     "data": {
      "text/plain": [
       "array([0.256, 0.249, 0.262, 0.246, 0.23 , 0.253, 0.29 , 0.316, 0.27 ,\n",
       "       0.253, 0.211, 0.163, 0.106, 0.112, 0.05 ])"
      ]
     },
     "execution_count": 33,
     "metadata": {},
     "output_type": "execute_result"
    }
   ],
   "source": [
    "Y = dfPais['generosity'].to_numpy()\n",
    "Y"
   ]
  },
  {
   "cell_type": "code",
   "execution_count": 34,
   "id": "eb5d1a20",
   "metadata": {},
   "outputs": [],
   "source": [
    "from pyod.models.knn import KNN\n",
    "\n",
    "# Convertir columna a numpy.ndarray\n",
    "\n",
    "Y = Y.reshape(-1, 1)\n",
    "clf = KNN()\n",
    "clf.fit(Y)\n",
    "\n",
    "outliers = clf.predict(Y)"
   ]
  },
  {
   "cell_type": "code",
   "execution_count": 35,
   "id": "6df9088b",
   "metadata": {},
   "outputs": [
    {
     "data": {
      "text/plain": [
       "(array([14], dtype=int64),)"
      ]
     },
     "execution_count": 35,
     "metadata": {},
     "output_type": "execute_result"
    }
   ],
   "source": [
    "numpy.where(outliers == 1)"
   ]
  },
  {
   "cell_type": "code",
   "execution_count": 36,
   "id": "7c4a7646",
   "metadata": {},
   "outputs": [],
   "source": [
    "Y_outliers = Y[numpy.where(outliers==1)]\n",
    "X_outliers = X[numpy.where(outliers==1)]\n",
    "Y_inliers = Y[numpy.where(outliers==0)]\n",
    "X_inliers = X[numpy.where(outliers==0)]"
   ]
  },
  {
   "cell_type": "code",
   "execution_count": 37,
   "id": "45808e1f",
   "metadata": {},
   "outputs": [
    {
     "data": {
      "image/png": "[encoded data removed]",
      "text/plain": [
       "<Figure size 432x288 with 1 Axes>"
      ]
     },
     "metadata": {
      "needs_background": "light"
     },
     "output_type": "display_data"
    }
   ],
   "source": [
    "plt.scatter(X_outliers, Y_outliers, edgecolor='black',color='red', label='outliers')\n",
    "plt.scatter(X_inliers, Y_inliers, edgecolor='black',color='green', label='inliers')\n",
    "plt.legend()\n",
    "plt.grid()\n",
    "plt.ylabel('Y')\n",
    "plt.xlabel('X')\n",
    "plt.show()"
   ]
  },
  {
   "cell_type": "code",
   "execution_count": 38,
   "id": "d89899b1",
   "metadata": {},
   "outputs": [
    {
     "data": {
      "text/plain": [
       "\"\\nanomaly_score = clf.decision_function(Y)\\n\\nmin_outlier_anomaly_score = 0.2\\nnp.floor(np.min(anomaly_score[np.where(outliers==1)])*10)/10\\nplt.hist(anomaly_score, bins=n_bins)\\nplt.axvline(min_outlier_anomaly_score, c='k')\\nplt.xlabel('Anomaly Score')\\nplt.ylabel('Number of data points')\\nplt.show()\\n\""
      ]
     },
     "execution_count": 38,
     "metadata": {},
     "output_type": "execute_result"
    }
   ],
   "source": [
    "'''\n",
    "anomaly_score = clf.decision_function(Y)\n",
    "\n",
    "min_outlier_anomaly_score = 0.2\n",
    "np.floor(np.min(anomaly_score[np.where(outliers==1)])*10)/10\n",
    "plt.hist(anomaly_score, bins=n_bins)\n",
    "plt.axvline(min_outlier_anomaly_score, c='k')\n",
    "plt.xlabel('Anomaly Score')\n",
    "plt.ylabel('Number of data points')\n",
    "plt.show()\n",
    "'''"
   ]
  },
  {
   "cell_type": "markdown",
   "id": "2c5b2fa9",
   "metadata": {},
   "source": [
    "### Ingreso de país"
   ]
  },
  {
   "cell_type": "code",
   "execution_count": 39,
   "id": "94dbf7a5",
   "metadata": {},
   "outputs": [
    {
     "name": "stdout",
     "output_type": "stream",
     "text": [
      "Entrada país:Canada\n"
     ]
    }
   ],
   "source": [
    "# input \n",
    "nombrePais = input(\"Entrada país:\")\n",
    "\n",
    "# condición\n",
    "isCountry = df['id_country'] == nombrePais\n",
    "\n",
    "dfPais = df[isCountry]\n",
    "\n",
    "# Cada año\n",
    "X = dfPais['year'].to_numpy()"
   ]
  },
  {
   "cell_type": "markdown",
   "id": "6b3daa8b",
   "metadata": {},
   "source": [
    "### Creamos una función que nos permita generar los outliers evitando la repetición de código"
   ]
  },
  {
   "cell_type": "code",
   "execution_count": 40,
   "id": "e58102c7",
   "metadata": {},
   "outputs": [],
   "source": [
    "# Columna convertida a numpy array en X y en Y - modelo (como knn()) - y el nombre de la gráfica\n",
    "def outliers_detection(X, Y, model, nombreGrafica):\n",
    "    Y = Y.reshape(-1, 1)\n",
    "    clf = model # como knn()\n",
    "    clf.fit(Y)\n",
    "    \n",
    "    outliers = clf.predict(Y)\n",
    "    \n",
    "    numpy.where(outliers == 1)\n",
    "\n",
    "    X_outliers = X[numpy.where(outliers==1)]\n",
    "    Y_outliers = Y[numpy.where(outliers==1)]\n",
    "    Y_inliers = Y[numpy.where(outliers==0)]\n",
    "    X_inliers = X[numpy.where(outliers==0)]\n",
    "    \n",
    "    print(X_outliers)\n",
    "    \n",
    "    plt.scatter(X_outliers, Y_outliers, edgecolor='black',color='red', label='outliers')\n",
    "    plt.scatter(X_inliers, Y_inliers, edgecolor='black',color='green', label='inliers')\n",
    "    plt.title(nombreGrafica)\n",
    "    plt.legend()\n",
    "    plt.grid()\n",
    "    plt.ylabel('Y')\n",
    "    plt.xlabel('X')\n",
    "    plt.show()"
   ]
  },
  {
   "cell_type": "markdown",
   "id": "8b6a2adc",
   "metadata": {},
   "source": [
    "### Outliers de la columna Generosidad"
   ]
  },
  {
   "cell_type": "code",
   "execution_count": 41,
   "id": "8ba1dc59",
   "metadata": {},
   "outputs": [
    {
     "name": "stdout",
     "output_type": "stream",
     "text": [
      "[2020]\n"
     ]
    },
    {
     "data": {
      "image/png": "[encoded data removed]",
      "text/plain": [
       "<Figure size 432x288 with 1 Axes>"
      ]
     },
     "metadata": {
      "needs_background": "light"
     },
     "output_type": "display_data"
    }
   ],
   "source": [
    "columna = 'generosity'\n",
    "Y = dfPais[columna].to_numpy()\n",
    "model = KNN()\n",
    "nombreGrafica = columna\n",
    "\n",
    "outliers_detection(X, Y, model, nombreGrafica)"
   ]
  },
  {
   "cell_type": "code",
   "execution_count": 42,
   "id": "ba1f6481",
   "metadata": {},
   "outputs": [
    {
     "data": {
      "text/plain": [
       "Index(['country_name', 'year', 'life_ladder', 'log_per_capita', 'social_supp',\n",
       "       'heal_life_expec_birth', 'free_live_choices', 'generosity',\n",
       "       'percep_corrup', 'pos_affect', 'neg_affect', 'id_country'],\n",
       "      dtype='object')"
      ]
     },
     "execution_count": 42,
     "metadata": {},
     "output_type": "execute_result"
    }
   ],
   "source": [
    "df.columns"
   ]
  },
  {
   "cell_type": "markdown",
   "id": "580e0a69",
   "metadata": {},
   "source": [
    "### Outliers de la columna Life Ladder"
   ]
  },
  {
   "cell_type": "code",
   "execution_count": 43,
   "id": "9b0b35e6",
   "metadata": {},
   "outputs": [
    {
     "name": "stdout",
     "output_type": "stream",
     "text": [
      "[2020]\n"
     ]
    },
    {
     "data": {
      "image/png": "[encoded data removed]",
      "text/plain": [
       "<Figure size 432x288 with 1 Axes>"
      ]
     },
     "metadata": {
      "needs_background": "light"
     },
     "output_type": "display_data"
    }
   ],
   "source": [
    "columna = 'life_ladder'\n",
    "Y = dfPais[columna].to_numpy()\n",
    "model = KNN()\n",
    "nombreGrafica = columna\n",
    "\n",
    "outliers_detection(X, Y, model, nombreGrafica)"
   ]
  },
  {
   "cell_type": "markdown",
   "id": "04a060e7",
   "metadata": {},
   "source": [
    "## Outlier de la columna del PIB"
   ]
  },
  {
   "cell_type": "code",
   "execution_count": 44,
   "id": "d09d7403",
   "metadata": {},
   "outputs": [
    {
     "name": "stdout",
     "output_type": "stream",
     "text": [
      "[2005 2009]\n"
     ]
    },
    {
     "data": {
      "image/png": "[encoded data removed]",
      "text/plain": [
       "<Figure size 432x288 with 1 Axes>"
      ]
     },
     "metadata": {
      "needs_background": "light"
     },
     "output_type": "display_data"
    }
   ],
   "source": [
    "columna = 'log_per_capita'\n",
    "Y = dfPais[columna].to_numpy()\n",
    "model = KNN()\n",
    "nombreGrafica = columna\n",
    "\n",
    "outliers_detection(X, Y, model, nombreGrafica)"
   ]
  },
  {
   "cell_type": "markdown",
   "id": "e022842e",
   "metadata": {},
   "source": [
    "## Outlier de la columna del Soporte Social"
   ]
  },
  {
   "cell_type": "code",
   "execution_count": 45,
   "id": "538cb3e0",
   "metadata": {},
   "outputs": [
    {
     "name": "stdout",
     "output_type": "stream",
     "text": [
      "[2005 2007]\n"
     ]
    },
    {
     "data": {
      "image/png": "[encoded data removed]",
      "text/plain": [
       "<Figure size 432x288 with 1 Axes>"
      ]
     },
     "metadata": {
      "needs_background": "light"
     },
     "output_type": "display_data"
    }
   ],
   "source": [
    "columna = 'social_supp'\n",
    "Y = dfPais[columna].to_numpy()\n",
    "model = KNN()\n",
    "nombreGrafica = columna\n",
    "\n",
    "outliers_detection(X, Y, model, nombreGrafica)"
   ]
  },
  {
   "cell_type": "markdown",
   "id": "177caa96",
   "metadata": {},
   "source": [
    "## Outlier de la columna de la esperanza de una vida sana al nacer"
   ]
  },
  {
   "cell_type": "code",
   "execution_count": 46,
   "id": "1384e703",
   "metadata": {},
   "outputs": [
    {
     "name": "stdout",
     "output_type": "stream",
     "text": [
      "[]\n"
     ]
    },
    {
     "data": {
      "image/png": "[encoded data removed]",
      "text/plain": [
       "<Figure size 432x288 with 1 Axes>"
      ]
     },
     "metadata": {
      "needs_background": "light"
     },
     "output_type": "display_data"
    }
   ],
   "source": [
    "columna = 'heal_life_expec_birth'\n",
    "Y = dfPais[columna].to_numpy()\n",
    "model = KNN()\n",
    "nombreGrafica = columna\n",
    "\n",
    "outliers_detection(X, Y, model, nombreGrafica)"
   ]
  },
  {
   "cell_type": "markdown",
   "id": "fcdc452b",
   "metadata": {},
   "source": [
    "## Outlier de la columna 'Libertad de elección'"
   ]
  },
  {
   "cell_type": "code",
   "execution_count": 47,
   "id": "f6a04739",
   "metadata": {},
   "outputs": [
    {
     "name": "stdout",
     "output_type": "stream",
     "text": [
      "[2020]\n"
     ]
    },
    {
     "data": {
      "image/png": "[encoded data removed]",
      "text/plain": [
       "<Figure size 432x288 with 1 Axes>"
      ]
     },
     "metadata": {
      "needs_background": "light"
     },
     "output_type": "display_data"
    }
   ],
   "source": [
    "columna = 'free_live_choices'\n",
    "Y = dfPais[columna].to_numpy()\n",
    "model = KNN()\n",
    "nombreGrafica = columna\n",
    "\n",
    "outliers_detection(X, Y, model, nombreGrafica)"
   ]
  },
  {
   "cell_type": "markdown",
   "id": "b8365d3c",
   "metadata": {},
   "source": [
    "## Outlier de la columna 'Percepción de corrupción'"
   ]
  },
  {
   "cell_type": "code",
   "execution_count": 48,
   "id": "1c3fc916",
   "metadata": {},
   "outputs": [
    {
     "name": "stdout",
     "output_type": "stream",
     "text": [
      "[2005 2017]\n"
     ]
    },
    {
     "data": {
      "image/png": "[encoded data removed]",
      "text/plain": [
       "<Figure size 432x288 with 1 Axes>"
      ]
     },
     "metadata": {
      "needs_background": "light"
     },
     "output_type": "display_data"
    }
   ],
   "source": [
    "columna = 'percep_corrup'\n",
    "Y = dfPais[columna].to_numpy()\n",
    "model = KNN()\n",
    "nombreGrafica = columna\n",
    "\n",
    "outliers_detection(X, Y, model, nombreGrafica)"
   ]
  },
  {
   "cell_type": "markdown",
   "id": "4eddeb1f",
   "metadata": {},
   "source": [
    "## Outlier de la columna del Efecto positivo"
   ]
  },
  {
   "cell_type": "code",
   "execution_count": 49,
   "id": "e999aa67",
   "metadata": {},
   "outputs": [
    {
     "name": "stdout",
     "output_type": "stream",
     "text": [
      "[2020]\n"
     ]
    },
    {
     "data": {
      "image/png": "[encoded data removed]",
      "text/plain": [
       "<Figure size 432x288 with 1 Axes>"
      ]
     },
     "metadata": {
      "needs_background": "light"
     },
     "output_type": "display_data"
    }
   ],
   "source": [
    "columna = 'pos_affect'\n",
    "Y = dfPais[columna].to_numpy()\n",
    "model = KNN()\n",
    "nombreGrafica = columna\n",
    "\n",
    "outliers_detection(X, Y, model, nombreGrafica)"
   ]
  },
  {
   "cell_type": "markdown",
   "id": "053397a8",
   "metadata": {},
   "source": [
    "## Outlier de la columna del Efecto negativo"
   ]
  },
  {
   "cell_type": "code",
   "execution_count": 50,
   "id": "1cfa488d",
   "metadata": {},
   "outputs": [
    {
     "name": "stdout",
     "output_type": "stream",
     "text": [
      "[2020]\n"
     ]
    },
    {
     "data": {
      "image/png": "[encoded data removed]",
      "text/plain": [
       "<Figure size 432x288 with 1 Axes>"
      ]
     },
     "metadata": {
      "needs_background": "light"
     },
     "output_type": "display_data"
    }
   ],
   "source": [
    "columna = 'neg_affect'\n",
    "Y = dfPais[columna].to_numpy()\n",
    "model = KNN()\n",
    "nombreGrafica = columna\n",
    "\n",
    "outliers_detection(X, Y, model, nombreGrafica)"
   ]
  },
  {
   "cell_type": "markdown",
   "id": "467f4ff0",
   "metadata": {},
   "source": [
    "# Regresión con y sin valores faltantes"
   ]
  },
  {
   "cell_type": "code",
   "execution_count": 51,
   "id": "4d638813",
   "metadata": {},
   "outputs": [],
   "source": [
    "from sklearn.model_selection import train_test_split as tts"
   ]
  },
  {
   "cell_type": "code",
   "execution_count": 55,
   "id": "71c78afd",
   "metadata": {},
   "outputs": [
    {
     "data": {
      "text/html": [
       "<div>\n",
       "<style scoped>\n",
       "    .dataframe tbody tr th:only-of-type {\n",
       "        vertical-align: middle;\n",
       "    }\n",
       "\n",
       "    .dataframe tbody tr th {\n",
       "        vertical-align: top;\n",
       "    }\n",
       "\n",
       "    .dataframe thead th {\n",
       "        text-align: right;\n",
       "    }\n",
       "</style>\n",
       "<table border=\"1\" class=\"dataframe\">\n",
       "  <thead>\n",
       "    <tr style=\"text-align: right;\">\n",
       "      <th></th>\n",
       "      <th>id_country</th>\n",
       "      <th>year</th>\n",
       "      <th>life_ladder</th>\n",
       "      <th>log_per_capita</th>\n",
       "      <th>social_supp</th>\n",
       "      <th>heal_life_expec_birth</th>\n",
       "      <th>free_live_choices</th>\n",
       "      <th>generosity</th>\n",
       "      <th>percep_corrup</th>\n",
       "      <th>pos_affect</th>\n",
       "      <th>neg_affect</th>\n",
       "      <th>country_name</th>\n",
       "    </tr>\n",
       "  </thead>\n",
       "  <tbody>\n",
       "    <tr>\n",
       "      <th>0</th>\n",
       "      <td>1</td>\n",
       "      <td>2008</td>\n",
       "      <td>3.724</td>\n",
       "      <td>7.370</td>\n",
       "      <td>0.451</td>\n",
       "      <td>50.80</td>\n",
       "      <td>0.718</td>\n",
       "      <td>0.168</td>\n",
       "      <td>0.882</td>\n",
       "      <td>0.518</td>\n",
       "      <td>0.258</td>\n",
       "      <td>Afghanistan</td>\n",
       "    </tr>\n",
       "    <tr>\n",
       "      <th>1</th>\n",
       "      <td>1</td>\n",
       "      <td>2009</td>\n",
       "      <td>4.402</td>\n",
       "      <td>7.540</td>\n",
       "      <td>0.552</td>\n",
       "      <td>51.20</td>\n",
       "      <td>0.679</td>\n",
       "      <td>0.190</td>\n",
       "      <td>0.850</td>\n",
       "      <td>0.584</td>\n",
       "      <td>0.237</td>\n",
       "      <td>Afghanistan</td>\n",
       "    </tr>\n",
       "    <tr>\n",
       "      <th>2</th>\n",
       "      <td>1</td>\n",
       "      <td>2010</td>\n",
       "      <td>4.758</td>\n",
       "      <td>7.647</td>\n",
       "      <td>0.539</td>\n",
       "      <td>51.60</td>\n",
       "      <td>0.600</td>\n",
       "      <td>0.121</td>\n",
       "      <td>0.707</td>\n",
       "      <td>0.618</td>\n",
       "      <td>0.275</td>\n",
       "      <td>Afghanistan</td>\n",
       "    </tr>\n",
       "    <tr>\n",
       "      <th>3</th>\n",
       "      <td>1</td>\n",
       "      <td>2011</td>\n",
       "      <td>3.832</td>\n",
       "      <td>7.620</td>\n",
       "      <td>0.521</td>\n",
       "      <td>51.92</td>\n",
       "      <td>0.496</td>\n",
       "      <td>0.162</td>\n",
       "      <td>0.731</td>\n",
       "      <td>0.611</td>\n",
       "      <td>0.267</td>\n",
       "      <td>Afghanistan</td>\n",
       "    </tr>\n",
       "    <tr>\n",
       "      <th>4</th>\n",
       "      <td>1</td>\n",
       "      <td>2012</td>\n",
       "      <td>3.783</td>\n",
       "      <td>7.705</td>\n",
       "      <td>0.521</td>\n",
       "      <td>52.24</td>\n",
       "      <td>0.531</td>\n",
       "      <td>0.236</td>\n",
       "      <td>0.776</td>\n",
       "      <td>0.710</td>\n",
       "      <td>0.268</td>\n",
       "      <td>Afghanistan</td>\n",
       "    </tr>\n",
       "    <tr>\n",
       "      <th>...</th>\n",
       "      <td>...</td>\n",
       "      <td>...</td>\n",
       "      <td>...</td>\n",
       "      <td>...</td>\n",
       "      <td>...</td>\n",
       "      <td>...</td>\n",
       "      <td>...</td>\n",
       "      <td>...</td>\n",
       "      <td>...</td>\n",
       "      <td>...</td>\n",
       "      <td>...</td>\n",
       "      <td>...</td>\n",
       "    </tr>\n",
       "    <tr>\n",
       "      <th>1944</th>\n",
       "      <td>166</td>\n",
       "      <td>2016</td>\n",
       "      <td>3.735</td>\n",
       "      <td>7.984</td>\n",
       "      <td>0.768</td>\n",
       "      <td>54.40</td>\n",
       "      <td>0.733</td>\n",
       "      <td>-0.095</td>\n",
       "      <td>0.724</td>\n",
       "      <td>0.738</td>\n",
       "      <td>0.209</td>\n",
       "      <td>Zimbabwe</td>\n",
       "    </tr>\n",
       "    <tr>\n",
       "      <th>1945</th>\n",
       "      <td>166</td>\n",
       "      <td>2017</td>\n",
       "      <td>3.638</td>\n",
       "      <td>8.016</td>\n",
       "      <td>0.754</td>\n",
       "      <td>55.00</td>\n",
       "      <td>0.753</td>\n",
       "      <td>-0.098</td>\n",
       "      <td>0.751</td>\n",
       "      <td>0.806</td>\n",
       "      <td>0.224</td>\n",
       "      <td>Zimbabwe</td>\n",
       "    </tr>\n",
       "    <tr>\n",
       "      <th>1946</th>\n",
       "      <td>166</td>\n",
       "      <td>2018</td>\n",
       "      <td>3.616</td>\n",
       "      <td>8.049</td>\n",
       "      <td>0.775</td>\n",
       "      <td>55.60</td>\n",
       "      <td>0.763</td>\n",
       "      <td>-0.068</td>\n",
       "      <td>0.844</td>\n",
       "      <td>0.710</td>\n",
       "      <td>0.212</td>\n",
       "      <td>Zimbabwe</td>\n",
       "    </tr>\n",
       "    <tr>\n",
       "      <th>1947</th>\n",
       "      <td>166</td>\n",
       "      <td>2019</td>\n",
       "      <td>2.694</td>\n",
       "      <td>7.950</td>\n",
       "      <td>0.759</td>\n",
       "      <td>56.20</td>\n",
       "      <td>0.632</td>\n",
       "      <td>-0.064</td>\n",
       "      <td>0.831</td>\n",
       "      <td>0.716</td>\n",
       "      <td>0.235</td>\n",
       "      <td>Zimbabwe</td>\n",
       "    </tr>\n",
       "    <tr>\n",
       "      <th>1948</th>\n",
       "      <td>166</td>\n",
       "      <td>2020</td>\n",
       "      <td>3.160</td>\n",
       "      <td>7.829</td>\n",
       "      <td>0.717</td>\n",
       "      <td>56.80</td>\n",
       "      <td>0.643</td>\n",
       "      <td>-0.009</td>\n",
       "      <td>0.789</td>\n",
       "      <td>0.703</td>\n",
       "      <td>0.346</td>\n",
       "      <td>Zimbabwe</td>\n",
       "    </tr>\n",
       "  </tbody>\n",
       "</table>\n",
       "<p>1949 rows × 12 columns</p>\n",
       "</div>"
      ],
      "text/plain": [
       "      id_country  year  life_ladder  log_per_capita  social_supp  \\\n",
       "0              1  2008        3.724           7.370        0.451   \n",
       "1              1  2009        4.402           7.540        0.552   \n",
       "2              1  2010        4.758           7.647        0.539   \n",
       "3              1  2011        3.832           7.620        0.521   \n",
       "4              1  2012        3.783           7.705        0.521   \n",
       "...          ...   ...          ...             ...          ...   \n",
       "1944         166  2016        3.735           7.984        0.768   \n",
       "1945         166  2017        3.638           8.016        0.754   \n",
       "1946         166  2018        3.616           8.049        0.775   \n",
       "1947         166  2019        2.694           7.950        0.759   \n",
       "1948         166  2020        3.160           7.829        0.717   \n",
       "\n",
       "      heal_life_expec_birth  free_live_choices  generosity  percep_corrup  \\\n",
       "0                     50.80              0.718       0.168          0.882   \n",
       "1                     51.20              0.679       0.190          0.850   \n",
       "2                     51.60              0.600       0.121          0.707   \n",
       "3                     51.92              0.496       0.162          0.731   \n",
       "4                     52.24              0.531       0.236          0.776   \n",
       "...                     ...                ...         ...            ...   \n",
       "1944                  54.40              0.733      -0.095          0.724   \n",
       "1945                  55.00              0.753      -0.098          0.751   \n",
       "1946                  55.60              0.763      -0.068          0.844   \n",
       "1947                  56.20              0.632      -0.064          0.831   \n",
       "1948                  56.80              0.643      -0.009          0.789   \n",
       "\n",
       "      pos_affect  neg_affect country_name  \n",
       "0          0.518       0.258  Afghanistan  \n",
       "1          0.584       0.237  Afghanistan  \n",
       "2          0.618       0.275  Afghanistan  \n",
       "3          0.611       0.267  Afghanistan  \n",
       "4          0.710       0.268  Afghanistan  \n",
       "...          ...         ...          ...  \n",
       "1944       0.738       0.209     Zimbabwe  \n",
       "1945       0.806       0.224     Zimbabwe  \n",
       "1946       0.710       0.212     Zimbabwe  \n",
       "1947       0.716       0.235     Zimbabwe  \n",
       "1948       0.703       0.346     Zimbabwe  \n",
       "\n",
       "[1949 rows x 12 columns]"
      ]
     },
     "execution_count": 55,
     "metadata": {},
     "output_type": "execute_result"
    }
   ],
   "source": [
    "df_regre = pandas.read_csv('dataOutput/happines_fulldata.csv')\n",
    "df_regre = df_regre.rename(columns={'country_name': 'id_country','id_country': 'country_name' })\n",
    "df_regre"
   ]
  },
  {
   "cell_type": "code",
   "execution_count": 56,
   "id": "13b53806",
   "metadata": {},
   "outputs": [
    {
     "data": {
      "text/html": [
       "<div>\n",
       "<style scoped>\n",
       "    .dataframe tbody tr th:only-of-type {\n",
       "        vertical-align: middle;\n",
       "    }\n",
       "\n",
       "    .dataframe tbody tr th {\n",
       "        vertical-align: top;\n",
       "    }\n",
       "\n",
       "    .dataframe thead th {\n",
       "        text-align: right;\n",
       "    }\n",
       "</style>\n",
       "<table border=\"1\" class=\"dataframe\">\n",
       "  <thead>\n",
       "    <tr style=\"text-align: right;\">\n",
       "      <th></th>\n",
       "      <th>id_country</th>\n",
       "      <th>life_ladder</th>\n",
       "      <th>log_per_capita</th>\n",
       "      <th>social_supp</th>\n",
       "      <th>heal_life_expec_birth</th>\n",
       "      <th>free_live_choices</th>\n",
       "      <th>generosity</th>\n",
       "      <th>percep_corrup</th>\n",
       "      <th>pos_affect</th>\n",
       "      <th>neg_affect</th>\n",
       "    </tr>\n",
       "  </thead>\n",
       "  <tbody>\n",
       "    <tr>\n",
       "      <th>0</th>\n",
       "      <td>1</td>\n",
       "      <td>3.724</td>\n",
       "      <td>7.370</td>\n",
       "      <td>0.451</td>\n",
       "      <td>50.80</td>\n",
       "      <td>0.718</td>\n",
       "      <td>0.168</td>\n",
       "      <td>0.882</td>\n",
       "      <td>0.518</td>\n",
       "      <td>0.258</td>\n",
       "    </tr>\n",
       "    <tr>\n",
       "      <th>1</th>\n",
       "      <td>1</td>\n",
       "      <td>4.402</td>\n",
       "      <td>7.540</td>\n",
       "      <td>0.552</td>\n",
       "      <td>51.20</td>\n",
       "      <td>0.679</td>\n",
       "      <td>0.190</td>\n",
       "      <td>0.850</td>\n",
       "      <td>0.584</td>\n",
       "      <td>0.237</td>\n",
       "    </tr>\n",
       "    <tr>\n",
       "      <th>2</th>\n",
       "      <td>1</td>\n",
       "      <td>4.758</td>\n",
       "      <td>7.647</td>\n",
       "      <td>0.539</td>\n",
       "      <td>51.60</td>\n",
       "      <td>0.600</td>\n",
       "      <td>0.121</td>\n",
       "      <td>0.707</td>\n",
       "      <td>0.618</td>\n",
       "      <td>0.275</td>\n",
       "    </tr>\n",
       "    <tr>\n",
       "      <th>3</th>\n",
       "      <td>1</td>\n",
       "      <td>3.832</td>\n",
       "      <td>7.620</td>\n",
       "      <td>0.521</td>\n",
       "      <td>51.92</td>\n",
       "      <td>0.496</td>\n",
       "      <td>0.162</td>\n",
       "      <td>0.731</td>\n",
       "      <td>0.611</td>\n",
       "      <td>0.267</td>\n",
       "    </tr>\n",
       "    <tr>\n",
       "      <th>4</th>\n",
       "      <td>1</td>\n",
       "      <td>3.783</td>\n",
       "      <td>7.705</td>\n",
       "      <td>0.521</td>\n",
       "      <td>52.24</td>\n",
       "      <td>0.531</td>\n",
       "      <td>0.236</td>\n",
       "      <td>0.776</td>\n",
       "      <td>0.710</td>\n",
       "      <td>0.268</td>\n",
       "    </tr>\n",
       "    <tr>\n",
       "      <th>...</th>\n",
       "      <td>...</td>\n",
       "      <td>...</td>\n",
       "      <td>...</td>\n",
       "      <td>...</td>\n",
       "      <td>...</td>\n",
       "      <td>...</td>\n",
       "      <td>...</td>\n",
       "      <td>...</td>\n",
       "      <td>...</td>\n",
       "      <td>...</td>\n",
       "    </tr>\n",
       "    <tr>\n",
       "      <th>1944</th>\n",
       "      <td>166</td>\n",
       "      <td>3.735</td>\n",
       "      <td>7.984</td>\n",
       "      <td>0.768</td>\n",
       "      <td>54.40</td>\n",
       "      <td>0.733</td>\n",
       "      <td>-0.095</td>\n",
       "      <td>0.724</td>\n",
       "      <td>0.738</td>\n",
       "      <td>0.209</td>\n",
       "    </tr>\n",
       "    <tr>\n",
       "      <th>1945</th>\n",
       "      <td>166</td>\n",
       "      <td>3.638</td>\n",
       "      <td>8.016</td>\n",
       "      <td>0.754</td>\n",
       "      <td>55.00</td>\n",
       "      <td>0.753</td>\n",
       "      <td>-0.098</td>\n",
       "      <td>0.751</td>\n",
       "      <td>0.806</td>\n",
       "      <td>0.224</td>\n",
       "    </tr>\n",
       "    <tr>\n",
       "      <th>1946</th>\n",
       "      <td>166</td>\n",
       "      <td>3.616</td>\n",
       "      <td>8.049</td>\n",
       "      <td>0.775</td>\n",
       "      <td>55.60</td>\n",
       "      <td>0.763</td>\n",
       "      <td>-0.068</td>\n",
       "      <td>0.844</td>\n",
       "      <td>0.710</td>\n",
       "      <td>0.212</td>\n",
       "    </tr>\n",
       "    <tr>\n",
       "      <th>1947</th>\n",
       "      <td>166</td>\n",
       "      <td>2.694</td>\n",
       "      <td>7.950</td>\n",
       "      <td>0.759</td>\n",
       "      <td>56.20</td>\n",
       "      <td>0.632</td>\n",
       "      <td>-0.064</td>\n",
       "      <td>0.831</td>\n",
       "      <td>0.716</td>\n",
       "      <td>0.235</td>\n",
       "    </tr>\n",
       "    <tr>\n",
       "      <th>1948</th>\n",
       "      <td>166</td>\n",
       "      <td>3.160</td>\n",
       "      <td>7.829</td>\n",
       "      <td>0.717</td>\n",
       "      <td>56.80</td>\n",
       "      <td>0.643</td>\n",
       "      <td>-0.009</td>\n",
       "      <td>0.789</td>\n",
       "      <td>0.703</td>\n",
       "      <td>0.346</td>\n",
       "    </tr>\n",
       "  </tbody>\n",
       "</table>\n",
       "<p>1949 rows × 10 columns</p>\n",
       "</div>"
      ],
      "text/plain": [
       "      id_country  life_ladder  log_per_capita  social_supp  \\\n",
       "0              1        3.724           7.370        0.451   \n",
       "1              1        4.402           7.540        0.552   \n",
       "2              1        4.758           7.647        0.539   \n",
       "3              1        3.832           7.620        0.521   \n",
       "4              1        3.783           7.705        0.521   \n",
       "...          ...          ...             ...          ...   \n",
       "1944         166        3.735           7.984        0.768   \n",
       "1945         166        3.638           8.016        0.754   \n",
       "1946         166        3.616           8.049        0.775   \n",
       "1947         166        2.694           7.950        0.759   \n",
       "1948         166        3.160           7.829        0.717   \n",
       "\n",
       "      heal_life_expec_birth  free_live_choices  generosity  percep_corrup  \\\n",
       "0                     50.80              0.718       0.168          0.882   \n",
       "1                     51.20              0.679       0.190          0.850   \n",
       "2                     51.60              0.600       0.121          0.707   \n",
       "3                     51.92              0.496       0.162          0.731   \n",
       "4                     52.24              0.531       0.236          0.776   \n",
       "...                     ...                ...         ...            ...   \n",
       "1944                  54.40              0.733      -0.095          0.724   \n",
       "1945                  55.00              0.753      -0.098          0.751   \n",
       "1946                  55.60              0.763      -0.068          0.844   \n",
       "1947                  56.20              0.632      -0.064          0.831   \n",
       "1948                  56.80              0.643      -0.009          0.789   \n",
       "\n",
       "      pos_affect  neg_affect  \n",
       "0          0.518       0.258  \n",
       "1          0.584       0.237  \n",
       "2          0.618       0.275  \n",
       "3          0.611       0.267  \n",
       "4          0.710       0.268  \n",
       "...          ...         ...  \n",
       "1944       0.738       0.209  \n",
       "1945       0.806       0.224  \n",
       "1946       0.710       0.212  \n",
       "1947       0.716       0.235  \n",
       "1948       0.703       0.346  \n",
       "\n",
       "[1949 rows x 10 columns]"
      ]
     },
     "execution_count": 56,
     "metadata": {},
     "output_type": "execute_result"
    }
   ],
   "source": [
    "df_regre = df_regre.drop(columns=['country_name','year'])\n",
    "df_regre"
   ]
  },
  {
   "cell_type": "code",
   "execution_count": 57,
   "id": "2b035f15",
   "metadata": {},
   "outputs": [
    {
     "name": "stdout",
     "output_type": "stream",
     "text": [
      "percep_corrup           -0.333645\n",
      "neg_affect              -0.204615\n",
      "id_country              -0.003195\n",
      "generosity              -0.000901\n",
      "pos_affect               0.297011\n",
      "free_live_choices        0.361404\n",
      "social_supp              0.682438\n",
      "life_ladder              0.783824\n",
      "heal_life_expec_birth    0.834455\n",
      "log_per_capita           1.000000\n",
      "Name: log_per_capita, dtype: float64\n"
     ]
    }
   ],
   "source": [
    "corrMatrixM = df_regre.corr()\n",
    "print(corrMatrixM.log_per_capita.sort_values(axis=0, ascending=True))"
   ]
  },
  {
   "cell_type": "code",
   "execution_count": 58,
   "id": "d77ba07c",
   "metadata": {},
   "outputs": [
    {
     "data": {
      "text/plain": [
       "Index(['id_country', 'life_ladder', 'log_per_capita', 'social_supp',\n",
       "       'heal_life_expec_birth', 'free_live_choices', 'generosity',\n",
       "       'percep_corrup', 'pos_affect', 'neg_affect'],\n",
       "      dtype='object')"
      ]
     },
     "execution_count": 58,
     "metadata": {},
     "output_type": "execute_result"
    }
   ],
   "source": [
    "corrMatrixM.columns"
   ]
  },
  {
   "cell_type": "code",
   "execution_count": 59,
   "id": "f77bfdfe",
   "metadata": {},
   "outputs": [
    {
     "name": "stdout",
     "output_type": "stream",
     "text": [
      "                features  vif_Factor\n",
      "0             id_country    4.195610\n",
      "1            life_ladder   95.188962\n",
      "2         log_per_capita  290.205984\n",
      "3            social_supp  126.146880\n",
      "4  heal_life_expec_birth  260.133849\n",
      "5      free_live_choices   54.610816\n",
      "6             generosity    1.273274\n",
      "7          percep_corrup   21.746067\n",
      "8             pos_affect   79.184612\n",
      "9             neg_affect   13.157065\n"
     ]
    }
   ],
   "source": [
    "from statsmodels.stats.outliers_influence import variance_inflation_factor\n",
    "vifF1 = pandas.DataFrame()\n",
    "vifF1[\"features\"] = df_regre.columns\n",
    "vifF1[\"vif_Factor\"] = [variance_inflation_factor(df_regre.values, i) for i in range(df_regre.shape[1])]\n",
    "print(vifF1)"
   ]
  },
  {
   "cell_type": "code",
   "execution_count": 60,
   "id": "f371f072",
   "metadata": {},
   "outputs": [
    {
     "name": "stdout",
     "output_type": "stream",
     "text": [
      "                features  vif_Factor\n",
      "0             id_country    4.188432\n",
      "1            life_ladder   86.651846\n",
      "2            social_supp  115.709237\n",
      "3  heal_life_expec_birth  149.730629\n",
      "4      free_live_choices   54.606789\n",
      "5             generosity    1.255532\n",
      "6          percep_corrup   21.716776\n",
      "7             pos_affect   79.076938\n",
      "8             neg_affect   12.966469\n"
     ]
    }
   ],
   "source": [
    "df1 = df_regre.drop(columns='log_per_capita')\n",
    "# df\n",
    "vifF2 = pandas.DataFrame()\n",
    "vifF2[\"features\"] = df1.columns\n",
    "vifF2[\"vif_Factor\"] = [variance_inflation_factor(df1.values, i) for i in range(df1.shape[1])]\n",
    "print(vifF2)"
   ]
  },
  {
   "cell_type": "code",
   "execution_count": 61,
   "id": "2f9c00ca",
   "metadata": {},
   "outputs": [
    {
     "data": {
      "text/html": [
       "<div>\n",
       "<style scoped>\n",
       "    .dataframe tbody tr th:only-of-type {\n",
       "        vertical-align: middle;\n",
       "    }\n",
       "\n",
       "    .dataframe tbody tr th {\n",
       "        vertical-align: top;\n",
       "    }\n",
       "\n",
       "    .dataframe thead th {\n",
       "        text-align: right;\n",
       "    }\n",
       "</style>\n",
       "<table border=\"1\" class=\"dataframe\">\n",
       "  <thead>\n",
       "    <tr style=\"text-align: right;\">\n",
       "      <th></th>\n",
       "      <th>id_country</th>\n",
       "      <th>life_ladder</th>\n",
       "      <th>social_supp</th>\n",
       "      <th>heal_life_expec_birth</th>\n",
       "      <th>free_live_choices</th>\n",
       "      <th>generosity</th>\n",
       "      <th>percep_corrup</th>\n",
       "      <th>pos_affect</th>\n",
       "      <th>neg_affect</th>\n",
       "    </tr>\n",
       "  </thead>\n",
       "  <tbody>\n",
       "    <tr>\n",
       "      <th>0</th>\n",
       "      <td>1</td>\n",
       "      <td>3.724</td>\n",
       "      <td>0.451</td>\n",
       "      <td>50.80</td>\n",
       "      <td>0.718</td>\n",
       "      <td>0.168</td>\n",
       "      <td>0.882</td>\n",
       "      <td>0.518</td>\n",
       "      <td>0.258</td>\n",
       "    </tr>\n",
       "    <tr>\n",
       "      <th>1</th>\n",
       "      <td>1</td>\n",
       "      <td>4.402</td>\n",
       "      <td>0.552</td>\n",
       "      <td>51.20</td>\n",
       "      <td>0.679</td>\n",
       "      <td>0.190</td>\n",
       "      <td>0.850</td>\n",
       "      <td>0.584</td>\n",
       "      <td>0.237</td>\n",
       "    </tr>\n",
       "    <tr>\n",
       "      <th>2</th>\n",
       "      <td>1</td>\n",
       "      <td>4.758</td>\n",
       "      <td>0.539</td>\n",
       "      <td>51.60</td>\n",
       "      <td>0.600</td>\n",
       "      <td>0.121</td>\n",
       "      <td>0.707</td>\n",
       "      <td>0.618</td>\n",
       "      <td>0.275</td>\n",
       "    </tr>\n",
       "    <tr>\n",
       "      <th>3</th>\n",
       "      <td>1</td>\n",
       "      <td>3.832</td>\n",
       "      <td>0.521</td>\n",
       "      <td>51.92</td>\n",
       "      <td>0.496</td>\n",
       "      <td>0.162</td>\n",
       "      <td>0.731</td>\n",
       "      <td>0.611</td>\n",
       "      <td>0.267</td>\n",
       "    </tr>\n",
       "    <tr>\n",
       "      <th>4</th>\n",
       "      <td>1</td>\n",
       "      <td>3.783</td>\n",
       "      <td>0.521</td>\n",
       "      <td>52.24</td>\n",
       "      <td>0.531</td>\n",
       "      <td>0.236</td>\n",
       "      <td>0.776</td>\n",
       "      <td>0.710</td>\n",
       "      <td>0.268</td>\n",
       "    </tr>\n",
       "    <tr>\n",
       "      <th>...</th>\n",
       "      <td>...</td>\n",
       "      <td>...</td>\n",
       "      <td>...</td>\n",
       "      <td>...</td>\n",
       "      <td>...</td>\n",
       "      <td>...</td>\n",
       "      <td>...</td>\n",
       "      <td>...</td>\n",
       "      <td>...</td>\n",
       "    </tr>\n",
       "    <tr>\n",
       "      <th>1944</th>\n",
       "      <td>166</td>\n",
       "      <td>3.735</td>\n",
       "      <td>0.768</td>\n",
       "      <td>54.40</td>\n",
       "      <td>0.733</td>\n",
       "      <td>-0.095</td>\n",
       "      <td>0.724</td>\n",
       "      <td>0.738</td>\n",
       "      <td>0.209</td>\n",
       "    </tr>\n",
       "    <tr>\n",
       "      <th>1945</th>\n",
       "      <td>166</td>\n",
       "      <td>3.638</td>\n",
       "      <td>0.754</td>\n",
       "      <td>55.00</td>\n",
       "      <td>0.753</td>\n",
       "      <td>-0.098</td>\n",
       "      <td>0.751</td>\n",
       "      <td>0.806</td>\n",
       "      <td>0.224</td>\n",
       "    </tr>\n",
       "    <tr>\n",
       "      <th>1946</th>\n",
       "      <td>166</td>\n",
       "      <td>3.616</td>\n",
       "      <td>0.775</td>\n",
       "      <td>55.60</td>\n",
       "      <td>0.763</td>\n",
       "      <td>-0.068</td>\n",
       "      <td>0.844</td>\n",
       "      <td>0.710</td>\n",
       "      <td>0.212</td>\n",
       "    </tr>\n",
       "    <tr>\n",
       "      <th>1947</th>\n",
       "      <td>166</td>\n",
       "      <td>2.694</td>\n",
       "      <td>0.759</td>\n",
       "      <td>56.20</td>\n",
       "      <td>0.632</td>\n",
       "      <td>-0.064</td>\n",
       "      <td>0.831</td>\n",
       "      <td>0.716</td>\n",
       "      <td>0.235</td>\n",
       "    </tr>\n",
       "    <tr>\n",
       "      <th>1948</th>\n",
       "      <td>166</td>\n",
       "      <td>3.160</td>\n",
       "      <td>0.717</td>\n",
       "      <td>56.80</td>\n",
       "      <td>0.643</td>\n",
       "      <td>-0.009</td>\n",
       "      <td>0.789</td>\n",
       "      <td>0.703</td>\n",
       "      <td>0.346</td>\n",
       "    </tr>\n",
       "  </tbody>\n",
       "</table>\n",
       "<p>1949 rows × 9 columns</p>\n",
       "</div>"
      ],
      "text/plain": [
       "      id_country  life_ladder  social_supp  heal_life_expec_birth  \\\n",
       "0              1        3.724        0.451                  50.80   \n",
       "1              1        4.402        0.552                  51.20   \n",
       "2              1        4.758        0.539                  51.60   \n",
       "3              1        3.832        0.521                  51.92   \n",
       "4              1        3.783        0.521                  52.24   \n",
       "...          ...          ...          ...                    ...   \n",
       "1944         166        3.735        0.768                  54.40   \n",
       "1945         166        3.638        0.754                  55.00   \n",
       "1946         166        3.616        0.775                  55.60   \n",
       "1947         166        2.694        0.759                  56.20   \n",
       "1948         166        3.160        0.717                  56.80   \n",
       "\n",
       "      free_live_choices  generosity  percep_corrup  pos_affect  neg_affect  \n",
       "0                 0.718       0.168          0.882       0.518       0.258  \n",
       "1                 0.679       0.190          0.850       0.584       0.237  \n",
       "2                 0.600       0.121          0.707       0.618       0.275  \n",
       "3                 0.496       0.162          0.731       0.611       0.267  \n",
       "4                 0.531       0.236          0.776       0.710       0.268  \n",
       "...                 ...         ...            ...         ...         ...  \n",
       "1944              0.733      -0.095          0.724       0.738       0.209  \n",
       "1945              0.753      -0.098          0.751       0.806       0.224  \n",
       "1946              0.763      -0.068          0.844       0.710       0.212  \n",
       "1947              0.632      -0.064          0.831       0.716       0.235  \n",
       "1948              0.643      -0.009          0.789       0.703       0.346  \n",
       "\n",
       "[1949 rows x 9 columns]"
      ]
     },
     "execution_count": 61,
     "metadata": {},
     "output_type": "execute_result"
    }
   ],
   "source": [
    "df1"
   ]
  },
  {
   "cell_type": "code",
   "execution_count": 62,
   "id": "b3843708",
   "metadata": {},
   "outputs": [
    {
     "name": "stdout",
     "output_type": "stream",
     "text": [
      "            features  vif_Factor\n",
      "0         id_country    3.922945\n",
      "1  free_live_choices   10.979723\n",
      "2         generosity    1.139792\n",
      "3      percep_corrup   14.033157\n",
      "4         neg_affect   10.581166\n"
     ]
    }
   ],
   "source": [
    "df1 = df1.drop(columns=['heal_life_expec_birth','social_supp','life_ladder','pos_affect'])\n",
    "# df\n",
    "vifF3 = pandas.DataFrame()\n",
    "vifF3[\"features\"] = df1.columns\n",
    "vifF3[\"vif_Factor\"] = [variance_inflation_factor(df1.values, i) for i in range(df1.shape[1])]\n",
    "print(vifF3)"
   ]
  },
  {
   "cell_type": "code",
   "execution_count": 63,
   "id": "3ac2d3ba",
   "metadata": {},
   "outputs": [
    {
     "name": "stdout",
     "output_type": "stream",
     "text": [
      "            features  vif_Factor\n",
      "0         id_country    3.728587\n",
      "1  free_live_choices    8.998938\n",
      "2         generosity    1.050646\n",
      "3         neg_affect    7.051844\n"
     ]
    }
   ],
   "source": [
    "df1 = df1.drop(columns='percep_corrup')\n",
    "\n",
    "vifF4 = pandas.DataFrame()\n",
    "vifF4[\"features\"] = df1.columns\n",
    "vifF4[\"vif_Factor\"] = [variance_inflation_factor(df1.values, i) for i in range(df1.shape[1])]\n",
    "print(vifF4)"
   ]
  },
  {
   "cell_type": "code",
   "execution_count": 64,
   "id": "8bd469e6",
   "metadata": {},
   "outputs": [
    {
     "data": {
      "text/plain": [
       "(1949, 5)"
      ]
     },
     "execution_count": 64,
     "metadata": {},
     "output_type": "execute_result"
    }
   ],
   "source": [
    "x_new = df_regre.drop(['life_ladder', 'social_supp','heal_life_expec_birth', 'percep_corrup', 'pos_affect'], axis=1)\n",
    "x_new.shape"
   ]
  },
  {
   "cell_type": "code",
   "execution_count": 65,
   "id": "5ede52fa",
   "metadata": {},
   "outputs": [
    {
     "data": {
      "text/plain": [
       "(1949, 5)"
      ]
     },
     "execution_count": 65,
     "metadata": {},
     "output_type": "execute_result"
    }
   ],
   "source": [
    "x_new = df_regre.drop(['life_ladder', 'social_supp','heal_life_expec_birth', 'percep_corrup', 'pos_affect'], axis=1)\n",
    "x_new.shape"
   ]
  },
  {
   "cell_type": "code",
   "execution_count": 66,
   "id": "f0ef45e1",
   "metadata": {},
   "outputs": [
    {
     "data": {
      "text/plain": [
       "(1949,)"
      ]
     },
     "execution_count": 66,
     "metadata": {},
     "output_type": "execute_result"
    }
   ],
   "source": [
    "y = df_regre.log_per_capita \n",
    "y.shape"
   ]
  },
  {
   "cell_type": "code",
   "execution_count": 67,
   "id": "2b374ce2",
   "metadata": {},
   "outputs": [
    {
     "name": "stdout",
     "output_type": "stream",
     "text": [
      "(1559, 5) (390, 5)\n"
     ]
    }
   ],
   "source": [
    "from sklearn.model_selection import train_test_split as tts\n",
    "# 80% de las observaciones quedan para el conjunto de entrenamiento y 20% para el conjunto de prueba:\n",
    "x_ent, x_test, y_ent, y_test = tts(x_new, y, train_size=0.8, random_state=42, shuffle=True)\n",
    "print(x_ent.shape, x_test.shape)\n",
    "from sklearn.linear_model import LinearRegression #Regresión Lineal con scikit-learn\n",
    " \n",
    "regresion_lineal = LinearRegression()"
   ]
  },
  {
   "cell_type": "code",
   "execution_count": 68,
   "id": "9716d52a",
   "metadata": {},
   "outputs": [
    {
     "data": {
      "text/plain": [
       "LinearRegression()"
      ]
     },
     "execution_count": 68,
     "metadata": {},
     "output_type": "execute_result"
    }
   ],
   "source": [
    "# Crear una instancia y entrenar el modelo con los conjuntos de datos de entrenamiento:\n",
    "lmI = LinearRegression()\n",
    "lmI.fit(x_ent, y_ent)"
   ]
  },
  {
   "cell_type": "code",
   "execution_count": 69,
   "id": "22febc5e",
   "metadata": {},
   "outputs": [
    {
     "name": "stdout",
     "output_type": "stream",
     "text": [
      "a = 1.7763568394002505e-15 y  B = [ 1.39527025e-17  1.00000000e+00 -5.55111512e-17 -7.77156117e-16\n",
      "  6.66133815e-16]\n",
      "****************************************\n",
      "Coeficiente R^2:  1.0\n",
      "****************************************\n",
      "Error Cuadrático Medio (MSE) = 3.2403978722155405e-30\n",
      "Raíz del Error Cuadrático Medio (RMSE) = 1.800110516667113e-15\n"
     ]
    },
    {
     "data": {
      "text/plain": [
       "<AxesSubplot:>"
      ]
     },
     "execution_count": 69,
     "metadata": {},
     "output_type": "execute_result"
    },
    {
     "data": {
      "image/png": "[encoded data removed]",
      "text/plain": [
       "<Figure size 432x288 with 1 Axes>"
      ]
     },
     "metadata": {
      "needs_background": "light"
     },
     "output_type": "display_data"
    }
   ],
   "source": [
    "from sklearn.metrics import mean_squared_error\n",
    "# Coeficientes de la función de regresión:\n",
    "print('a = ' + str(lmI.intercept_) , 'y  B = ' + str(lmI.coef_) )\n",
    "\n",
    "# Utilizar el modelo para generar las predicciones:\n",
    "\n",
    "y_predict = lmI.predict(x_test)\n",
    "\n",
    "# Verificar el R^2 (sobre el conjunto de test):\n",
    "\n",
    "print(40*'*')\n",
    "print('Coeficiente R^2: ', lmI.score(x_test, y_test)) \n",
    "print(40*'*')\n",
    "\n",
    "\n",
    "# Calculamos el Error Cuadrático Medio (MSE = Mean Squared Error)\n",
    "mse = mean_squared_error(y_true = y_test, y_pred = y_predict)\n",
    "\n",
    "# La raíz cuadrada del MSE es el RMSE\n",
    "rmse = numpy.sqrt(mse)\n",
    "print('Error Cuadrático Medio (MSE) = ' + str(mse))\n",
    "print('Raíz del Error Cuadrático Medio (RMSE) = ' + str(rmse))\n",
    "\n",
    "# Visualización valores reales vs predichos por el modelo de regresión:\n",
    "\n",
    "pandas.Series(y_test.tolist()).plot(color='steelblue')\n",
    "pandas.Series(y_predict.tolist()).plot(marker=\"o\", linewidth=0, color='black')"
   ]
  },
  {
   "cell_type": "code",
   "execution_count": 70,
   "id": "ce01ced7",
   "metadata": {},
   "outputs": [],
   "source": [
    "# Gráficos\n",
    "# ==============================================================================\n",
    "import matplotlib.pyplot as plt\n",
    "from matplotlib import style\n",
    "import seaborn as sns\n",
    "\n",
    "# Preprocesado y modelado\n",
    "# ==============================================================================\n",
    "\n",
    "from scipy.stats import pearsonr\n",
    "from sklearn.linear_model import LinearRegression\n",
    "from sklearn.model_selection import train_test_split\n",
    "from sklearn.metrics import r2_score\n",
    "from sklearn.metrics import mean_squared_error\n",
    "import statsmodels.api as sm\n",
    "import statsmodels.formula.api as smf\n",
    "\n",
    "# Configuración matplotlib\n",
    "# ==============================================================================\n",
    "plt.rcParams['image.cmap'] = \"bwr\"\n",
    "#plt.rcParams['figure.dpi'] = \"100\"\n",
    "plt.rcParams['savefig.bbox'] = \"tight\"\n",
    "style.use('ggplot') or plt.style.use('ggplot')\n",
    "\n",
    "# Configuración warnings\n",
    "# ==============================================================================\n",
    "import warnings\n",
    "warnings.filterwarnings('ignore')"
   ]
  },
  {
   "cell_type": "markdown",
   "id": "79b7c5b1",
   "metadata": {},
   "source": [
    "## Representación gráfica\n",
    "\n",
    "\n",
    "El primer paso antes de generar un modelo de regresión simple es representar los datos para poder intuir si existe una relación y cuantificar dicha relación mediante un coeficiente de correlación.\n"
   ]
  },
  {
   "cell_type": "code",
   "execution_count": 74,
   "id": "333ef872",
   "metadata": {},
   "outputs": [
    {
     "data": {
      "image/png": "[encoded data removed]",
      "text/plain": [
       "<Figure size 432x276.48 with 1 Axes>"
      ]
     },
     "metadata": {},
     "output_type": "display_data"
    }
   ],
   "source": [
    "# Gráfico\n",
    "# ==============================================================================\n",
    "fig, ax = plt.subplots(figsize=(6, 3.84))\n",
    "\n",
    "df_regre.plot(\n",
    "    x    = 'log_per_capita',\n",
    "    y    = 'generosity',\n",
    "    c    = 'firebrick',\n",
    "    kind = \"scatter\",\n",
    "    ax   = ax\n",
    ")\n",
    "ax.set_title('Distribución de Ingreso per capita y la generosidad');"
   ]
  },
  {
   "cell_type": "code",
   "execution_count": 75,
   "id": "314c222c",
   "metadata": {},
   "outputs": [
    {
     "data": {
      "image/png": "[encoded data removed]",
      "text/plain": [
       "<Figure size 432x276.48 with 1 Axes>"
      ]
     },
     "metadata": {},
     "output_type": "display_data"
    }
   ],
   "source": [
    "# Gráfico\n",
    "# ==============================================================================\n",
    "fig, ax = plt.subplots(figsize=(6, 3.84))\n",
    "\n",
    "df_regre.plot(\n",
    "    x    = 'log_per_capita',\n",
    "    y    = 'pos_affect',\n",
    "    c    = 'firebrick',\n",
    "    kind = \"scatter\",\n",
    "    ax   = ax\n",
    ")\n",
    "ax.set_title('Distribución de Ingreso per capita y el afecto positivo');"
   ]
  },
  {
   "cell_type": "code",
   "execution_count": 80,
   "id": "c6c5c6e2",
   "metadata": {},
   "outputs": [
    {
     "data": {
      "image/png": "[encoded data removed]",
      "text/plain": [
       "<Figure size 432x276.48 with 1 Axes>"
      ]
     },
     "metadata": {},
     "output_type": "display_data"
    }
   ],
   "source": [
    "# Gráfico\n",
    "# ==============================================================================\n",
    "fig, ax = plt.subplots(figsize=(6, 3.84))\n",
    "\n",
    "df_regre.plot(\n",
    "    x    = 'log_per_capita',\n",
    "    y    = 'life_ladder',\n",
    "    c    = 'firebrick',\n",
    "    kind = \"scatter\",\n",
    "    ax   = ax\n",
    ")\n",
    "ax.set_title('Distribución de Ingreso per capita y la expectativa de vida');"
   ]
  },
  {
   "cell_type": "code",
   "execution_count": 81,
   "id": "07e95b39",
   "metadata": {},
   "outputs": [
    {
     "name": "stdout",
     "output_type": "stream",
     "text": [
      "Coeficiente de correlación de Pearson:  0.7838242422860344\n",
      "P-value:  0.0\n"
     ]
    }
   ],
   "source": [
    "# Correlación lineal entre las dos variables\n",
    "# ==============================================================================\n",
    "corr_test = pearsonr(x = df_regre['log_per_capita'], y =  df_regre['life_ladder'])\n",
    "print(\"Coeficiente de correlación de Pearson: \", corr_test[0])\n",
    "print(\"P-value: \", corr_test[1])"
   ]
  },
  {
   "cell_type": "markdown",
   "id": "2519d2af",
   "metadata": {},
   "source": [
    "# Scikit-learn"
   ]
  },
  {
   "cell_type": "code",
   "execution_count": 82,
   "id": "3936899a",
   "metadata": {},
   "outputs": [
    {
     "data": {
      "text/plain": [
       "LinearRegression()"
      ]
     },
     "execution_count": 82,
     "metadata": {},
     "output_type": "execute_result"
    }
   ],
   "source": [
    "# División de los datos en train y test\n",
    "# ==============================================================================\n",
    "X = df_regre[['log_per_capita']]\n",
    "y = df_regre['life_ladder']\n",
    "\n",
    "X_train, X_test, y_train, y_test = train_test_split(\n",
    "                                        X.values.reshape(-1,1),\n",
    "                                        y.values.reshape(-1,1),\n",
    "                                        train_size   = 0.8,\n",
    "                                        random_state = 1234,\n",
    "                                        shuffle      = True\n",
    "                                    )\n",
    "\n",
    "# Creación del modelo\n",
    "# ==============================================================================\n",
    "modelo = LinearRegression()\n",
    "modelo.fit(X = X_train.reshape(-1, 1), y = y_train)"
   ]
  },
  {
   "cell_type": "code",
   "execution_count": 83,
   "id": "12f8e3eb",
   "metadata": {},
   "outputs": [
    {
     "name": "stdout",
     "output_type": "stream",
     "text": [
      "Intercept: [-1.71239684]\n",
      "Coeficiente: [('log_per_capita', 0.7653235362018336)]\n",
      "Coeficiente de determinación R^2: 0.6143121165577627\n"
     ]
    }
   ],
   "source": [
    "# Información del modelo\n",
    "# ==============================================================================\n",
    "print(\"Intercept:\", modelo.intercept_)\n",
    "print(\"Coeficiente:\", list(zip(X.columns, modelo.coef_.flatten(), )))\n",
    "print(\"Coeficiente de determinación R^2:\", modelo.score(X, y))"
   ]
  },
  {
   "cell_type": "code",
   "execution_count": 84,
   "id": "a3e70e12",
   "metadata": {},
   "outputs": [
    {
     "name": "stdout",
     "output_type": "stream",
     "text": [
      "[[4.1385016 ]\n",
      " [5.88573523]\n",
      " [6.63039503]]\n",
      "\n",
      "El error (rmse) de test es: 0.7241682598396195\n"
     ]
    }
   ],
   "source": [
    "# Error de test del modelo \n",
    "# ==============================================================================\n",
    "predicciones = modelo.predict(X = X_test)\n",
    "print(predicciones[0:3,])\n",
    "\n",
    "rmse = mean_squared_error(\n",
    "        y_true  = y_test,\n",
    "        y_pred  = predicciones,\n",
    "        squared = False\n",
    "       )\n",
    "print(\"\")\n",
    "print(f\"El error (rmse) de test es: {rmse}\")"
   ]
  },
  {
   "cell_type": "code",
   "execution_count": null,
   "id": "7437de44",
   "metadata": {},
   "outputs": [],
   "source": []
  }
 ],
 "metadata": {
  "interpreter": {
   "hash": "31f2aee4e71d21fbe5cf8b01ff0e069b9275f58929596ceb00d14d90e3e16cd6"
  },
  "kernelspec": {
   "display_name": "Python 3",
   "language": "python",
   "name": "python3"
  },
  "language_info": {
   "codemirror_mode": {
    "name": "ipython",
    "version": 3
   },
   "file_extension": ".py",
   "mimetype": "text/x-python",
   "name": "python",
   "nbconvert_exporter": "python",
   "pygments_lexer": "ipython3",
   "version": "3.9.5"
  }
 },
 "nbformat": 4,
 "nbformat_minor": 5
}
