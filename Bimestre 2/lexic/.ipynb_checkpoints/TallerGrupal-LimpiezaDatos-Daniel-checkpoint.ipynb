{
 "cells": [
  {
   "cell_type": "code",
   "execution_count": 1,
   "metadata": {},
   "outputs": [],
   "source": [
    "import pandas\n",
    "\n",
    "df = pandas.read_csv('/home/daniel/MEGA/UTPL/6ciclo/Itinerario-FundamentosDatos/Semana3Bim2Limpieza/papersDate.csv', index_col=0)\n"
   ]
  },
  {
   "cell_type": "markdown",
   "metadata": {},
   "source": [
    "# Análisis del dataset"
   ]
  },
  {
   "cell_type": "code",
   "execution_count": 2,
   "metadata": {},
   "outputs": [
    {
     "data": {
      "text/html": [
       "<div>\n",
       "<style scoped>\n",
       "    .dataframe tbody tr th:only-of-type {\n",
       "        vertical-align: middle;\n",
       "    }\n",
       "\n",
       "    .dataframe tbody tr th {\n",
       "        vertical-align: top;\n",
       "    }\n",
       "\n",
       "    .dataframe thead th {\n",
       "        text-align: right;\n",
       "    }\n",
       "</style>\n",
       "<table border=\"1\" class=\"dataframe\">\n",
       "  <thead>\n",
       "    <tr style=\"text-align: right;\">\n",
       "      <th></th>\n",
       "      <th>publisher</th>\n",
       "      <th>YEAR</th>\n",
       "      <th>author keywords</th>\n",
       "      <th>scopusDistributionDate</th>\n",
       "    </tr>\n",
       "    <tr>\n",
       "      <th>title</th>\n",
       "      <th></th>\n",
       "      <th></th>\n",
       "      <th></th>\n",
       "      <th></th>\n",
       "    </tr>\n",
       "  </thead>\n",
       "  <tbody>\n",
       "    <tr>\n",
       "      <th>COVID-19 Deep Learning Prediction Model Using Publicly Available Radiologist-Adjudicated Chest X-Ray Images as Training Data: Preliminary Findings</th>\n",
       "      <td>Hindawi Limited</td>\n",
       "      <td>2020</td>\n",
       "      <td>NaN</td>\n",
       "      <td>2020-12-13</td>\n",
       "    </tr>\n",
       "    <tr>\n",
       "      <th>COVID-19 detection in CT images with deep learning: A voting-based scheme and cross-datasets analysis</th>\n",
       "      <td>Elsevier Ltd</td>\n",
       "      <td>2020</td>\n",
       "      <td>Chest radiography; COVID-19; Deep learning; Ef...</td>\n",
       "      <td>2021-02-04</td>\n",
       "    </tr>\n",
       "    <tr>\n",
       "      <th>Decoding COVID-19 pneumonia: comparison of deep learning and radiomics CT image signatures</th>\n",
       "      <td>Springer Science and Business Media Deutschlan...</td>\n",
       "      <td>2020</td>\n",
       "      <td>AI interpretability; Coronavirus disease 2019 ...</td>\n",
       "      <td>2021-01-28</td>\n",
       "    </tr>\n",
       "    <tr>\n",
       "      <th>Deep learning for automatic quantification of lung abnormalities in COVID-19 patients: First experience and correlation with clinical parameters</th>\n",
       "      <td>Elsevier Ltd</td>\n",
       "      <td>2020</td>\n",
       "      <td>Computed tomography; COVID-19; Deep learning; ...</td>\n",
       "      <td>2020-12-11</td>\n",
       "    </tr>\n",
       "    <tr>\n",
       "      <th>COVID-19 Detection through Transfer Learning Using Multimodal Imaging Data</th>\n",
       "      <td>Institute of Electrical and Electronics Engi...</td>\n",
       "      <td>2020</td>\n",
       "      <td>CNN models; COVID-19 detection; image processi...</td>\n",
       "      <td>2021-02-19</td>\n",
       "    </tr>\n",
       "    <tr>\n",
       "      <th>...</th>\n",
       "      <td>...</td>\n",
       "      <td>...</td>\n",
       "      <td>...</td>\n",
       "      <td>...</td>\n",
       "    </tr>\n",
       "    <tr>\n",
       "      <th>Machine learning applied on chest x-ray can aid in the diagnosis of COVID-19: a first experience from Lombardy, Italy</th>\n",
       "      <td>Springer Science and Business Media Deutschlan...</td>\n",
       "      <td>2021</td>\n",
       "      <td>Artificial intelligence; COVID-19; Neural netw...</td>\n",
       "      <td>NaN</td>\n",
       "    </tr>\n",
       "    <tr>\n",
       "      <th>Deep COVID DeteCT: an international experience on COVID-19 lung detection and prognosis using chest CT</th>\n",
       "      <td>Nature Research</td>\n",
       "      <td>2021</td>\n",
       "      <td>NaN</td>\n",
       "      <td>NaN</td>\n",
       "    </tr>\n",
       "    <tr>\n",
       "      <th>Fast automated detection of COVID-19 from medical images using convolutional neural networks</th>\n",
       "      <td>Nature Research L</td>\n",
       "      <td>2021</td>\n",
       "      <td>NaN</td>\n",
       "      <td>NaN</td>\n",
       "    </tr>\n",
       "    <tr>\n",
       "      <th>Risk factors analysis of COVID-19 patients with ARDS and prediction based on machine learning</th>\n",
       "      <td>Nature Research</td>\n",
       "      <td>2021</td>\n",
       "      <td>NaN</td>\n",
       "      <td>NaN</td>\n",
       "    </tr>\n",
       "    <tr>\n",
       "      <th>De novo design and bioactivity prediction of SARS-CoV-2 main protease inhibitors using recurrent neural network-based transfer learning</th>\n",
       "      <td>BioMed Central Ltd</td>\n",
       "      <td>2021</td>\n",
       "      <td>COVID-19; De novo drug design; Generative mode...</td>\n",
       "      <td>NaN</td>\n",
       "    </tr>\n",
       "  </tbody>\n",
       "</table>\n",
       "<p>860 rows × 4 columns</p>\n",
       "</div>"
      ],
      "text/plain": [
       "                                                                                            publisher  \\\n",
       "title                                                                                                   \n",
       "COVID-19 Deep Learning Prediction Model Using P...                                    Hindawi Limited   \n",
       "COVID-19 detection in CT images with deep learn...                                       Elsevier Ltd   \n",
       "Decoding COVID-19 pneumonia: comparison of deep...  Springer Science and Business Media Deutschlan...   \n",
       "Deep learning for automatic quantification of l...                                       Elsevier Ltd   \n",
       "COVID-19 Detection through Transfer Learning Us...    Institute of Electrical and Electronics Engi...   \n",
       "...                                                                                               ...   \n",
       "Machine learning applied on chest x-ray can aid...  Springer Science and Business Media Deutschlan...   \n",
       "Deep COVID DeteCT: an international experience ...                                    Nature Research   \n",
       "Fast automated detection of COVID-19 from medic...                                  Nature Research L   \n",
       "Risk factors analysis of COVID-19 patients with...                                    Nature Research   \n",
       "De novo design and bioactivity prediction of SA...                                 BioMed Central Ltd   \n",
       "\n",
       "                                                    YEAR  \\\n",
       "title                                                      \n",
       "COVID-19 Deep Learning Prediction Model Using P...  2020   \n",
       "COVID-19 detection in CT images with deep learn...  2020   \n",
       "Decoding COVID-19 pneumonia: comparison of deep...  2020   \n",
       "Deep learning for automatic quantification of l...  2020   \n",
       "COVID-19 Detection through Transfer Learning Us...  2020   \n",
       "...                                                  ...   \n",
       "Machine learning applied on chest x-ray can aid...  2021   \n",
       "Deep COVID DeteCT: an international experience ...  2021   \n",
       "Fast automated detection of COVID-19 from medic...  2021   \n",
       "Risk factors analysis of COVID-19 patients with...  2021   \n",
       "De novo design and bioactivity prediction of SA...  2021   \n",
       "\n",
       "                                                                                      author keywords  \\\n",
       "title                                                                                                   \n",
       "COVID-19 Deep Learning Prediction Model Using P...                                                NaN   \n",
       "COVID-19 detection in CT images with deep learn...  Chest radiography; COVID-19; Deep learning; Ef...   \n",
       "Decoding COVID-19 pneumonia: comparison of deep...  AI interpretability; Coronavirus disease 2019 ...   \n",
       "Deep learning for automatic quantification of l...  Computed tomography; COVID-19; Deep learning; ...   \n",
       "COVID-19 Detection through Transfer Learning Us...  CNN models; COVID-19 detection; image processi...   \n",
       "...                                                                                               ...   \n",
       "Machine learning applied on chest x-ray can aid...  Artificial intelligence; COVID-19; Neural netw...   \n",
       "Deep COVID DeteCT: an international experience ...                                                NaN   \n",
       "Fast automated detection of COVID-19 from medic...                                                NaN   \n",
       "Risk factors analysis of COVID-19 patients with...                                                NaN   \n",
       "De novo design and bioactivity prediction of SA...  COVID-19; De novo drug design; Generative mode...   \n",
       "\n",
       "                                                   scopusDistributionDate  \n",
       "title                                                                      \n",
       "COVID-19 Deep Learning Prediction Model Using P...             2020-12-13  \n",
       "COVID-19 detection in CT images with deep learn...             2021-02-04  \n",
       "Decoding COVID-19 pneumonia: comparison of deep...             2021-01-28  \n",
       "Deep learning for automatic quantification of l...             2020-12-11  \n",
       "COVID-19 Detection through Transfer Learning Us...             2021-02-19  \n",
       "...                                                                   ...  \n",
       "Machine learning applied on chest x-ray can aid...                    NaN  \n",
       "Deep COVID DeteCT: an international experience ...                    NaN  \n",
       "Fast automated detection of COVID-19 from medic...                    NaN  \n",
       "Risk factors analysis of COVID-19 patients with...                    NaN  \n",
       "De novo design and bioactivity prediction of SA...                    NaN  \n",
       "\n",
       "[860 rows x 4 columns]"
      ]
     },
     "execution_count": 2,
     "metadata": {},
     "output_type": "execute_result"
    }
   ],
   "source": [
    "df"
   ]
  },
  {
   "cell_type": "markdown",
   "metadata": {},
   "source": [
    "## Análisis de valores faltantes"
   ]
  },
  {
   "cell_type": "code",
   "execution_count": 3,
   "metadata": {},
   "outputs": [
    {
     "data": {
      "text/plain": [
       "<matplotlib.axes._subplots.AxesSubplot at 0x7efbd74b8550>"
      ]
     },
     "execution_count": 3,
     "metadata": {},
     "output_type": "execute_result"
    },
    {
     "data": {
      "image/png": "[encoded data removed]",
      "text/plain": [
       "<Figure size 1728x720 with 3 Axes>"
      ]
     },
     "metadata": {
      "needs_background": "light"
     },
     "output_type": "display_data"
    }
   ],
   "source": [
    "import missingno\n",
    "\n",
    "missingno.bar(df)"
   ]
  },
  {
   "cell_type": "code",
   "execution_count": 4,
   "metadata": {},
   "outputs": [
    {
     "data": {
      "text/plain": [
       "<matplotlib.axes._subplots.AxesSubplot at 0x7efbd7297970>"
      ]
     },
     "execution_count": 4,
     "metadata": {},
     "output_type": "execute_result"
    },
    {
     "data": {
      "image/png": "[encoded data removed]",
      "text/plain": [
       "<Figure size 1800x720 with 2 Axes>"
      ]
     },
     "metadata": {
      "needs_background": "light"
     },
     "output_type": "display_data"
    }
   ],
   "source": [
    "missingno.matrix(df)"
   ]
  },
  {
   "cell_type": "code",
   "execution_count": 5,
   "metadata": {},
   "outputs": [
    {
     "data": {
      "text/plain": [
       "<matplotlib.axes._subplots.AxesSubplot at 0x7efbd720a880>"
      ]
     },
     "execution_count": 5,
     "metadata": {},
     "output_type": "execute_result"
    },
    {
     "data": {
      "image/png": "[encoded data removed]",
      "text/plain": [
       "<Figure size 864x432 with 2 Axes>"
      ]
     },
     "metadata": {
      "needs_background": "light"
     },
     "output_type": "display_data"
    }
   ],
   "source": [
    "missingno.heatmap(df, figsize = (12, 6))"
   ]
  },
  {
   "cell_type": "code",
   "execution_count": 6,
   "metadata": {},
   "outputs": [
    {
     "data": {
      "text/plain": [
       "<matplotlib.axes._subplots.AxesSubplot at 0x7efbd6f40c10>"
      ]
     },
     "execution_count": 6,
     "metadata": {},
     "output_type": "execute_result"
    },
    {
     "data": {
      "image/png": "[encoded data removed]",
      "text/plain": [
       "<Figure size 1800x720 with 1 Axes>"
      ]
     },
     "metadata": {
      "needs_background": "light"
     },
     "output_type": "display_data"
    }
   ],
   "source": [
    "missingno.dendrogram(df)"
   ]
  },
  {
   "cell_type": "markdown",
   "metadata": {},
   "source": [
    "## Número de duplicados presentes "
   ]
  },
  {
   "cell_type": "code",
   "execution_count": 7,
   "metadata": {},
   "outputs": [
    {
     "data": {
      "text/plain": [
       "272"
      ]
     },
     "execution_count": 7,
     "metadata": {},
     "output_type": "execute_result"
    }
   ],
   "source": [
    "df.duplicated().sum()"
   ]
  },
  {
   "cell_type": "markdown",
   "metadata": {},
   "source": [
    "## Número de valores nulos"
   ]
  },
  {
   "cell_type": "code",
   "execution_count": 8,
   "metadata": {},
   "outputs": [
    {
     "data": {
      "text/plain": [
       "publisher                   0\n",
       "YEAR                        0\n",
       "author keywords           391\n",
       "scopusDistributionDate    109\n",
       "dtype: int64"
      ]
     },
     "execution_count": 8,
     "metadata": {},
     "output_type": "execute_result"
    }
   ],
   "source": [
    "df.isnull().sum()"
   ]
  },
  {
   "cell_type": "code",
   "execution_count": 9,
   "metadata": {},
   "outputs": [
    {
     "data": {
      "text/html": [
       "<div>\n",
       "<style scoped>\n",
       "    .dataframe tbody tr th:only-of-type {\n",
       "        vertical-align: middle;\n",
       "    }\n",
       "\n",
       "    .dataframe tbody tr th {\n",
       "        vertical-align: top;\n",
       "    }\n",
       "\n",
       "    .dataframe thead th {\n",
       "        text-align: right;\n",
       "    }\n",
       "</style>\n",
       "<table border=\"1\" class=\"dataframe\">\n",
       "  <thead>\n",
       "    <tr style=\"text-align: right;\">\n",
       "      <th></th>\n",
       "      <th>YEAR</th>\n",
       "      <th>author keywords</th>\n",
       "      <th>scopusDistributionDate</th>\n",
       "    </tr>\n",
       "    <tr>\n",
       "      <th>publisher</th>\n",
       "      <th></th>\n",
       "      <th></th>\n",
       "      <th></th>\n",
       "    </tr>\n",
       "  </thead>\n",
       "  <tbody>\n",
       "    <tr>\n",
       "      <th>Institute of Electrical and Electronics Engineers Inc.</th>\n",
       "      <td>1</td>\n",
       "      <td>1</td>\n",
       "      <td>1</td>\n",
       "    </tr>\n",
       "    <tr>\n",
       "      <th>AIMS Press</th>\n",
       "      <td>1</td>\n",
       "      <td>1</td>\n",
       "      <td>1</td>\n",
       "    </tr>\n",
       "    <tr>\n",
       "      <th>ASTES Publishers</th>\n",
       "      <td>1</td>\n",
       "      <td>1</td>\n",
       "      <td>1</td>\n",
       "    </tr>\n",
       "    <tr>\n",
       "      <th>Academic Press Inc.</th>\n",
       "      <td>2</td>\n",
       "      <td>2</td>\n",
       "      <td>0</td>\n",
       "    </tr>\n",
       "    <tr>\n",
       "      <th>Adis</th>\n",
       "      <td>1</td>\n",
       "      <td>1</td>\n",
       "      <td>1</td>\n",
       "    </tr>\n",
       "    <tr>\n",
       "      <th>...</th>\n",
       "      <td>...</td>\n",
       "      <td>...</td>\n",
       "      <td>...</td>\n",
       "    </tr>\n",
       "    <tr>\n",
       "      <th>Wiley-VCH Verlag</th>\n",
       "      <td>1</td>\n",
       "      <td>1</td>\n",
       "      <td>1</td>\n",
       "    </tr>\n",
       "    <tr>\n",
       "      <th>Wolters Kluwer Medknow Publications</th>\n",
       "      <td>2</td>\n",
       "      <td>2</td>\n",
       "      <td>0</td>\n",
       "    </tr>\n",
       "    <tr>\n",
       "      <th>World Academy of Research in Science and Engineering</th>\n",
       "      <td>5</td>\n",
       "      <td>5</td>\n",
       "      <td>5</td>\n",
       "    </tr>\n",
       "    <tr>\n",
       "      <th>World Scientific</th>\n",
       "      <td>2</td>\n",
       "      <td>2</td>\n",
       "      <td>2</td>\n",
       "    </tr>\n",
       "    <tr>\n",
       "      <th>Wuhan University</th>\n",
       "      <td>1</td>\n",
       "      <td>1</td>\n",
       "      <td>1</td>\n",
       "    </tr>\n",
       "  </tbody>\n",
       "</table>\n",
       "<p>92 rows × 3 columns</p>\n",
       "</div>"
      ],
      "text/plain": [
       "                                                    YEAR  author keywords  \\\n",
       "publisher                                                                   \n",
       "  Institute of Electrical and Electronics Engin...     1                1   \n",
       "AIMS Press                                             1                1   \n",
       "ASTES Publishers                                       1                1   \n",
       "Academic Press Inc.                                    2                2   \n",
       "Adis                                                   1                1   \n",
       "...                                                  ...              ...   \n",
       "Wiley-VCH Verlag                                       1                1   \n",
       "Wolters Kluwer Medknow Publications                    2                2   \n",
       "World Academy of Research in Science and Engine...     5                5   \n",
       "World Scientific                                       2                2   \n",
       "Wuhan University                                       1                1   \n",
       "\n",
       "                                                    scopusDistributionDate  \n",
       "publisher                                                                   \n",
       "  Institute of Electrical and Electronics Engin...                       1  \n",
       "AIMS Press                                                               1  \n",
       "ASTES Publishers                                                         1  \n",
       "Academic Press Inc.                                                      0  \n",
       "Adis                                                                     1  \n",
       "...                                                                    ...  \n",
       "Wiley-VCH Verlag                                                         1  \n",
       "Wolters Kluwer Medknow Publications                                      0  \n",
       "World Academy of Research in Science and Engine...                       5  \n",
       "World Scientific                                                         2  \n",
       "Wuhan University                                                         1  \n",
       "\n",
       "[92 rows x 3 columns]"
      ]
     },
     "execution_count": 9,
     "metadata": {},
     "output_type": "execute_result"
    }
   ],
   "source": [
    "df.groupby('publisher').count()"
   ]
  },
  {
   "cell_type": "markdown",
   "metadata": {},
   "source": [
    "# Limpieza general del df"
   ]
  },
  {
   "cell_type": "markdown",
   "metadata": {},
   "source": [
    "## Eliminar duplicados\n",
    "Eliminamos 272 duplicados"
   ]
  },
  {
   "cell_type": "code",
   "execution_count": 10,
   "metadata": {},
   "outputs": [
    {
     "data": {
      "text/html": [
       "<div>\n",
       "<style scoped>\n",
       "    .dataframe tbody tr th:only-of-type {\n",
       "        vertical-align: middle;\n",
       "    }\n",
       "\n",
       "    .dataframe tbody tr th {\n",
       "        vertical-align: top;\n",
       "    }\n",
       "\n",
       "    .dataframe thead th {\n",
       "        text-align: right;\n",
       "    }\n",
       "</style>\n",
       "<table border=\"1\" class=\"dataframe\">\n",
       "  <thead>\n",
       "    <tr style=\"text-align: right;\">\n",
       "      <th></th>\n",
       "      <th>publisher</th>\n",
       "      <th>YEAR</th>\n",
       "      <th>author keywords</th>\n",
       "      <th>scopusDistributionDate</th>\n",
       "    </tr>\n",
       "    <tr>\n",
       "      <th>title</th>\n",
       "      <th></th>\n",
       "      <th></th>\n",
       "      <th></th>\n",
       "      <th></th>\n",
       "    </tr>\n",
       "  </thead>\n",
       "  <tbody>\n",
       "    <tr>\n",
       "      <th>COVID-19 Deep Learning Prediction Model Using Publicly Available Radiologist-Adjudicated Chest X-Ray Images as Training Data: Preliminary Findings</th>\n",
       "      <td>Hindawi Limited</td>\n",
       "      <td>2020</td>\n",
       "      <td>NaN</td>\n",
       "      <td>2020-12-13</td>\n",
       "    </tr>\n",
       "    <tr>\n",
       "      <th>COVID-19 detection in CT images with deep learning: A voting-based scheme and cross-datasets analysis</th>\n",
       "      <td>Elsevier Ltd</td>\n",
       "      <td>2020</td>\n",
       "      <td>Chest radiography; COVID-19; Deep learning; Ef...</td>\n",
       "      <td>2021-02-04</td>\n",
       "    </tr>\n",
       "    <tr>\n",
       "      <th>Decoding COVID-19 pneumonia: comparison of deep learning and radiomics CT image signatures</th>\n",
       "      <td>Springer Science and Business Media Deutschlan...</td>\n",
       "      <td>2020</td>\n",
       "      <td>AI interpretability; Coronavirus disease 2019 ...</td>\n",
       "      <td>2021-01-28</td>\n",
       "    </tr>\n",
       "    <tr>\n",
       "      <th>Deep learning for automatic quantification of lung abnormalities in COVID-19 patients: First experience and correlation with clinical parameters</th>\n",
       "      <td>Elsevier Ltd</td>\n",
       "      <td>2020</td>\n",
       "      <td>Computed tomography; COVID-19; Deep learning; ...</td>\n",
       "      <td>2020-12-11</td>\n",
       "    </tr>\n",
       "    <tr>\n",
       "      <th>COVID-19 Detection through Transfer Learning Using Multimodal Imaging Data</th>\n",
       "      <td>Institute of Electrical and Electronics Engi...</td>\n",
       "      <td>2020</td>\n",
       "      <td>CNN models; COVID-19 detection; image processi...</td>\n",
       "      <td>2021-02-19</td>\n",
       "    </tr>\n",
       "    <tr>\n",
       "      <th>...</th>\n",
       "      <td>...</td>\n",
       "      <td>...</td>\n",
       "      <td>...</td>\n",
       "      <td>...</td>\n",
       "    </tr>\n",
       "    <tr>\n",
       "      <th>Deep Learning applications for COVID-19</th>\n",
       "      <td>Springer Science and Business Media Deutschlan...</td>\n",
       "      <td>2021</td>\n",
       "      <td>Computer Vision; COVID-19; Deep Learning appli...</td>\n",
       "      <td>NaN</td>\n",
       "    </tr>\n",
       "    <tr>\n",
       "      <th>A novel deep learning-based quantification of serial chest computed tomography in Coronavirus Disease 2019 (COVID-19)</th>\n",
       "      <td>Nature Research</td>\n",
       "      <td>2021</td>\n",
       "      <td>NaN</td>\n",
       "      <td>NaN</td>\n",
       "    </tr>\n",
       "    <tr>\n",
       "      <th>Machine learning applied on chest x-ray can aid in the diagnosis of COVID-19: a first experience from Lombardy, Italy</th>\n",
       "      <td>Springer Science and Business Media Deutschlan...</td>\n",
       "      <td>2021</td>\n",
       "      <td>Artificial intelligence; COVID-19; Neural netw...</td>\n",
       "      <td>NaN</td>\n",
       "    </tr>\n",
       "    <tr>\n",
       "      <th>Fast automated detection of COVID-19 from medical images using convolutional neural networks</th>\n",
       "      <td>Nature Research L</td>\n",
       "      <td>2021</td>\n",
       "      <td>NaN</td>\n",
       "      <td>NaN</td>\n",
       "    </tr>\n",
       "    <tr>\n",
       "      <th>De novo design and bioactivity prediction of SARS-CoV-2 main protease inhibitors using recurrent neural network-based transfer learning</th>\n",
       "      <td>BioMed Central Ltd</td>\n",
       "      <td>2021</td>\n",
       "      <td>COVID-19; De novo drug design; Generative mode...</td>\n",
       "      <td>NaN</td>\n",
       "    </tr>\n",
       "  </tbody>\n",
       "</table>\n",
       "<p>588 rows × 4 columns</p>\n",
       "</div>"
      ],
      "text/plain": [
       "                                                                                            publisher  \\\n",
       "title                                                                                                   \n",
       "COVID-19 Deep Learning Prediction Model Using P...                                    Hindawi Limited   \n",
       "COVID-19 detection in CT images with deep learn...                                       Elsevier Ltd   \n",
       "Decoding COVID-19 pneumonia: comparison of deep...  Springer Science and Business Media Deutschlan...   \n",
       "Deep learning for automatic quantification of l...                                       Elsevier Ltd   \n",
       "COVID-19 Detection through Transfer Learning Us...    Institute of Electrical and Electronics Engi...   \n",
       "...                                                                                               ...   \n",
       "Deep Learning applications for COVID-19             Springer Science and Business Media Deutschlan...   \n",
       "A novel deep learning-based quantification of s...                                    Nature Research   \n",
       "Machine learning applied on chest x-ray can aid...  Springer Science and Business Media Deutschlan...   \n",
       "Fast automated detection of COVID-19 from medic...                                  Nature Research L   \n",
       "De novo design and bioactivity prediction of SA...                                 BioMed Central Ltd   \n",
       "\n",
       "                                                    YEAR  \\\n",
       "title                                                      \n",
       "COVID-19 Deep Learning Prediction Model Using P...  2020   \n",
       "COVID-19 detection in CT images with deep learn...  2020   \n",
       "Decoding COVID-19 pneumonia: comparison of deep...  2020   \n",
       "Deep learning for automatic quantification of l...  2020   \n",
       "COVID-19 Detection through Transfer Learning Us...  2020   \n",
       "...                                                  ...   \n",
       "Deep Learning applications for COVID-19             2021   \n",
       "A novel deep learning-based quantification of s...  2021   \n",
       "Machine learning applied on chest x-ray can aid...  2021   \n",
       "Fast automated detection of COVID-19 from medic...  2021   \n",
       "De novo design and bioactivity prediction of SA...  2021   \n",
       "\n",
       "                                                                                      author keywords  \\\n",
       "title                                                                                                   \n",
       "COVID-19 Deep Learning Prediction Model Using P...                                                NaN   \n",
       "COVID-19 detection in CT images with deep learn...  Chest radiography; COVID-19; Deep learning; Ef...   \n",
       "Decoding COVID-19 pneumonia: comparison of deep...  AI interpretability; Coronavirus disease 2019 ...   \n",
       "Deep learning for automatic quantification of l...  Computed tomography; COVID-19; Deep learning; ...   \n",
       "COVID-19 Detection through Transfer Learning Us...  CNN models; COVID-19 detection; image processi...   \n",
       "...                                                                                               ...   \n",
       "Deep Learning applications for COVID-19             Computer Vision; COVID-19; Deep Learning appli...   \n",
       "A novel deep learning-based quantification of s...                                                NaN   \n",
       "Machine learning applied on chest x-ray can aid...  Artificial intelligence; COVID-19; Neural netw...   \n",
       "Fast automated detection of COVID-19 from medic...                                                NaN   \n",
       "De novo design and bioactivity prediction of SA...  COVID-19; De novo drug design; Generative mode...   \n",
       "\n",
       "                                                   scopusDistributionDate  \n",
       "title                                                                      \n",
       "COVID-19 Deep Learning Prediction Model Using P...             2020-12-13  \n",
       "COVID-19 detection in CT images with deep learn...             2021-02-04  \n",
       "Decoding COVID-19 pneumonia: comparison of deep...             2021-01-28  \n",
       "Deep learning for automatic quantification of l...             2020-12-11  \n",
       "COVID-19 Detection through Transfer Learning Us...             2021-02-19  \n",
       "...                                                                   ...  \n",
       "Deep Learning applications for COVID-19                               NaN  \n",
       "A novel deep learning-based quantification of s...                    NaN  \n",
       "Machine learning applied on chest x-ray can aid...                    NaN  \n",
       "Fast automated detection of COVID-19 from medic...                    NaN  \n",
       "De novo design and bioactivity prediction of SA...                    NaN  \n",
       "\n",
       "[588 rows x 4 columns]"
      ]
     },
     "execution_count": 10,
     "metadata": {},
     "output_type": "execute_result"
    }
   ],
   "source": [
    "df = df.drop_duplicates()\n",
    "df"
   ]
  },
  {
   "cell_type": "code",
   "execution_count": 11,
   "metadata": {},
   "outputs": [
    {
     "data": {
      "text/plain": [
       "0"
      ]
     },
     "execution_count": 11,
     "metadata": {},
     "output_type": "execute_result"
    }
   ],
   "source": [
    "df.duplicated().sum() # No existen los duplicados"
   ]
  },
  {
   "cell_type": "markdown",
   "metadata": {},
   "source": [
    "## Unificar valores similares en la columna 'publisher'\n",
    "### CEUR-WS* -> CEUR-WS"
   ]
  },
  {
   "cell_type": "code",
   "execution_count": 12,
   "metadata": {},
   "outputs": [],
   "source": [
    "df = df.replace({'CEUR-WS -': 'CEUR-WS', 'CEUR-WS-': 'CEUR-WS'})"
   ]
  },
  {
   "cell_type": "markdown",
   "metadata": {},
   "source": [
    "### Association for Computing Machinery, Inc -> Association for Computing Machinery"
   ]
  },
  {
   "cell_type": "code",
   "execution_count": 13,
   "metadata": {},
   "outputs": [],
   "source": [
    "df = df.replace({'Association for Computing Machinery, Inc': 'Association for Computing Machinery'})"
   ]
  },
  {
   "cell_type": "markdown",
   "metadata": {},
   "source": [
    "### Elsevier* -> Elsevier"
   ]
  },
  {
   "cell_type": "code",
   "execution_count": 15,
   "metadata": {},
   "outputs": [],
   "source": [
    "df.publisher = df.publisher.apply(lambda x: 'Elsevier' if 'Elsevier' in x else x)"
   ]
  }
 ],
 "metadata": {
  "kernelspec": {
   "display_name": "Python 3",
   "language": "python",
   "name": "python3"
  },
  "language_info": {
   "codemirror_mode": {
    "name": "ipython",
    "version": 3
   },
   "file_extension": ".py",
   "mimetype": "text/x-python",
   "name": "python",
   "nbconvert_exporter": "python",
   "pygments_lexer": "ipython3",
   "version": "3.9.4"
  }
 },
 "nbformat": 4,
 "nbformat_minor": 4
}
